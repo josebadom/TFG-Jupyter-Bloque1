{
 "cells": [
  {
   "cell_type": "markdown",
   "id": "e2e6143d",
   "metadata": {},
   "source": [
    "<div id=\"titulo\"><h1><u>Manual de uso</u></h1><div>"
   ]
  },
  {
   "cell_type": "markdown",
   "id": "19415660",
   "metadata": {},
   "source": [
    "ÍNDICE"
   ]
  },
  {
   "cell_type": "markdown",
   "id": "682ca508",
   "metadata": {},
   "source": [
    "1.- [Introducción](#Introduccion)."
   ]
  },
  {
   "cell_type": "markdown",
   "id": "36981b29",
   "metadata": {},
   "source": [
    "2.- [Sobre Jupyter Notebook](#sobreJupyter)."
   ]
  },
  {
   "cell_type": "markdown",
   "id": "fe952cda",
   "metadata": {},
   "source": [
    "3.- [Barra de notificaciones](#BarraDeNotificaciones)."
   ]
  },
  {
   "cell_type": "markdown",
   "id": "57874337",
   "metadata": {},
   "source": [
    "4.- [Posibles errores y avisos en el cuaderno de Jupyter](#errores)."
   ]
  },
  {
   "cell_type": "markdown",
   "id": "e2ca946d",
   "metadata": {},
   "source": [
    "5.- [Guía de inicio rápido](#guiaInicio)."
   ]
  },
  {
   "cell_type": "markdown",
   "id": "63669188",
   "metadata": {},
   "source": [
    "6.- [Árbol de archivos](#Arbol)."
   ]
  },
  {
   "cell_type": "markdown",
   "id": "77d675b3",
   "metadata": {},
   "source": [
    "7.- [Glosario](#Glosario)."
   ]
  },
  {
   "cell_type": "markdown",
   "id": "789be5e1",
   "metadata": {},
   "source": [
    "<div id=\"Introduccion\"><h2><u>1.- Introducción</u></h2></div>"
   ]
  },
  {
   "cell_type": "markdown",
   "id": "abf92620",
   "metadata": {},
   "source": [
    "Estos archivos contienen teoría y ejercicios pertenecientes al bloque temático 2 relacionado con la estática de fluidos. El objetivo es dar apoyo a los contenidos teórico prácticos explicados en clase, con material visual e interactivo. Para ello se disponen 4 carpetas con los temas 3 (Leyes generales de la estática de los fluidos), 4 (Estática de un fluido incompresible en el campo gravitatorio), 7 (Fuerzas sobre superficies) y 8 (Fuerzas sobre cuerpos cerrados).\n",
    "\n",
    "También se puede encontrar la carpeta recursos, que contiene material de utilidad para el desarrollo de la asignatura\n"
   ]
  },
  {
   "cell_type": "markdown",
   "id": "74aca6d1",
   "metadata": {},
   "source": [
    "<div id=\"sobreJupyter\"><h2><u>2.- Sobre Jupyter Notebook</u></h2></div>"
   ]
  },
  {
   "cell_type": "markdown",
   "id": "8e67a5af",
   "metadata": {},
   "source": [
    "[Jupyter](#Notebook) es una aplicación de código abierto lanzada en 2015 por proyecto Jupyter. Puede ser lanzado desde cualquier navegador web, y permite la creación de documentos que después pueden ser compartidos con otros usuarios. \n",
    "\n",
    "La interfaz está basada en un sistema de celdas de entrada y salida en el cual cada una puede contener desde código de diversos lenguajes de programación, texto en formato markdown, texto en formato LaTeX hasta contenido multimedia.\n",
    "\n",
    "El único requisito para poder acceder a un cuaderno de [Jupyter](#Notebook) es ejecutar un servidor de [Jupyter Notebook](#Notebook). Este es instalable desde Mamba, Conda, Anaconda o Python, aunque hoy en dia esto no es necesario. Existen recursos web como [MyBinder](#MyBinder), utilizado en este proyecto, que crean una imagen del servidor de [Jupyter Notebook](#Notebook), permitiendo al usuario acceder a los cuadernos sin necesidad de ninguna instalación previa. \n",
    "\n",
    "El contenido de estos cuadernos también puede ser exportado para su utilización sin un servidor Jupyter. Entre las opciones disponibles se encuentran [HTML](#HTML), PDF, Markdown o Python.\n",
    "\n",
    "Su funcionamiento se basa en una interfaz llamada dashboard, que contiene los controles del servidor, y los núcleos o [kernels](#Kernel) que se encargan de interpretar y procesar la información contenida en las celdas. Por defecto es un programa de Python, pero también se puede introducir código en más de 50 lenguajes de programación, con C++, R, Julia, [JavaScript](#JavaScript), PHP o Java entre algunos de sus ejemplos.\n",
    "\n",
    "Es por esto que [Jupyter Notebook](#Notebook) cuenta con una gran cantidad de aplicaciones como educación, tratamiento de datos, gráficos 2D y 3D, análisis de modelos matemáticos y estadísticos o machine learning.\n"
   ]
  },
  {
   "cell_type": "markdown",
   "id": "5ced70a2",
   "metadata": {},
   "source": [
    "<h4><u>2.1.- Interfaz</u></h4>"
   ]
  },
  {
   "cell_type": "markdown",
   "id": "c6c7c140",
   "metadata": {},
   "source": [
    "Tal y como se han definido estos cuadernos, la mayoría de controles no son necesarios para la utilización de los mismos. Tan solo se requerirán los controles mostrados a continuación."
   ]
  },
  {
   "cell_type": "markdown",
   "id": "644ce97e",
   "metadata": {},
   "source": [
    "<div id=\"interfaz\"><img src=\"MEDIA/interfazJupyter.PNG\"style=\"width:90%;left:0;\"></div>"
   ]
  },
  {
   "cell_type": "markdown",
   "id": "ab0466a8",
   "metadata": {},
   "source": [
    "<div><img src=\"MEDIA/controlesJupyter.png\"style=\"width:50%;float:left\"><img src=\"MEDIA/barraJupyter.png\"style=\"width:50%;\"></div>"
   ]
  },
  {
   "cell_type": "markdown",
   "id": "202ac1ee",
   "metadata": {},
   "source": [
    "**NOTA: Aclaración de los mensajes de la barra de notificaciones en** [Barra de notificaciones](#BarraDeNotificaciones)"
   ]
  },
  {
   "cell_type": "markdown",
   "id": "34e0175a",
   "metadata": {},
   "source": [
    "<div id=\"iniciarCuaderno\"><h4><u>2.2.- Al iniciar cualquier cuaderno</u></h4></div>"
   ]
  },
  {
   "cell_type": "markdown",
   "id": "f3bf69ed",
   "metadata": {},
   "source": [
    "**NOTA: REALIZAR ESTOS PASOS AHORA PARA EL CORRECTO FUNCIONAMIENTO DE LOS APARTADOS SIGUIENTES.**"
   ]
  },
  {
   "cell_type": "markdown",
   "id": "b02de086",
   "metadata": {},
   "source": [
    "Al iniciar un cuaderno,se debe permitir la ejecución de código JavaScript siguiendo los pasos de la imagen. Para mayor información sobre el estado de TRUSTED/NOT TRUSTED  consultar en [Trusted / Not Trusted](#trustNotTrust)."
   ]
  },
  {
   "cell_type": "markdown",
   "id": "257ed7b0",
   "metadata": {},
   "source": [
    "<div><img src=\"MEDIA/aviso_trust.png\"style=\"width:40%;\"></div>"
   ]
  },
  {
   "cell_type": "markdown",
   "id": "2ce445f9",
   "metadata": {},
   "source": [
    "Es posible que al clicar sobre \"Not trusted\" no aparezca ninguna ventana. En este caso ignorar el segundo paso."
   ]
  },
  {
   "cell_type": "markdown",
   "id": "93ee7cc1",
   "metadata": {},
   "source": [
    "Después es recomendable ejecutarlo con [Restart and run cells](#interfaz) para sincronizar correctamente el cuaderno con el [kernel](#Kernel). \n"
   ]
  },
  {
   "cell_type": "markdown",
   "id": "5c7eb6ee",
   "metadata": {},
   "source": [
    "Por último, pulsar en [guardar](#interfaz) para guardar el estado \"Trust\" del cuaderno. "
   ]
  },
  {
   "cell_type": "markdown",
   "id": "198a65f7",
   "metadata": {},
   "source": [
    "<h4><u>2.3.- Mostrar u ocultar código</u></h4>"
   ]
  },
  {
   "cell_type": "markdown",
   "id": "ee8899a0",
   "metadata": {},
   "source": [
    "Debido a que el objetivo principal de estos cuadernos no es el aprender a programar, se ha implementado un control para mostrar u ocultar el código, se encuentra siempre al final de los apartados de cada ejercicio, y al principio de cada cuaderno. El aspecto es el siguiente:"
   ]
  },
  {
   "cell_type": "code",
   "execution_count": 1,
   "id": "29ed59b9",
   "metadata": {},
   "outputs": [
    {
     "data": {
      "text/html": [
       "<script>\n",
       "\n",
       "code_show=true; \n",
       "\n",
       "function code_toggle() {\n",
       " if (code_show){\n",
       " $('div.input').hide();\n",
       " } else {\n",
       " $('div.input').show();\n",
       " }\n",
       " code_show = !code_show\n",
       "} \n",
       "\n",
       "$( document ).ready(code_toggle);\n",
       "\n",
       "</script>\n",
       "<a href=\"javascript:code_toggle()\">Mostrar/ocultar celdas de código</a>."
      ],
      "text/plain": [
       "<IPython.core.display.HTML object>"
      ]
     },
     "execution_count": 1,
     "metadata": {},
     "output_type": "execute_result"
    }
   ],
   "source": [
    "from IPython.display import HTML\n",
    "HTML('''<script>\n",
    "\n",
    "code_show=true; \n",
    "\n",
    "function code_toggle() {\n",
    " if (code_show){\n",
    " $('div.input').hide();\n",
    " } else {\n",
    " $('div.input').show();\n",
    " }\n",
    " code_show = !code_show\n",
    "} \n",
    "\n",
    "$( document ).ready(code_toggle);\n",
    "\n",
    "</script>\n",
    "<a href=\"javascript:code_toggle()\">Mostrar/ocultar celdas de código</a>.''')"
   ]
  },
  {
   "cell_type": "markdown",
   "id": "00b7500b",
   "metadata": {},
   "source": [
    "Si se pulsa se puede observar como se muestra o se oculta el código."
   ]
  },
  {
   "cell_type": "markdown",
   "id": "461ec75a",
   "metadata": {},
   "source": [
    "<h4><u>2.4.- Widgets</u></h4>"
   ]
  },
  {
   "cell_type": "markdown",
   "id": "9be38322",
   "metadata": {},
   "source": [
    "Para que el usuario interactúe con los ejercicios, se disponen los [widgets](#Widgets). Son elementos que permiten la introducción de datos para el cálculo de parámetros en tiempo real. En el ejemplo de la parte inferior, se puede introducir un valor numérico y el valor de la variable, así como el valor mostrado cambian automáticamente."
   ]
  },
  {
   "cell_type": "code",
   "execution_count": 2,
   "id": "9162689b",
   "metadata": {},
   "outputs": [
    {
     "data": {
      "application/vnd.jupyter.widget-view+json": {
       "model_id": "717baae50a3d4c6f8d6589e99057132f",
       "version_major": 2,
       "version_minor": 0
      },
      "text/plain": [
       "interactive(children=(Text(value='1', description='Input_1'), Output()), _dom_classes=('widget-interact',))"
      ]
     },
     "metadata": {},
     "output_type": "display_data"
    }
   ],
   "source": [
    "from __future__ import print_function\n",
    "from ipywidgets import interact, interactive, fixed, interact_manual\n",
    "import ipywidgets as widgets\n",
    "\n",
    "def fa(Input_1):\n",
    "    try:\n",
    "        float(Input_1)\n",
    "    except:\n",
    "        print(\"Introduce un valor numerico valido\")\n",
    "    else:\n",
    "        print(\"El valor introducido es \"+str(Input_1))\n",
    "        return(Input_1)\n",
    "\n",
    "        \n",
    "a = interactive(fa,Input_1=\"1\")\n",
    "\n",
    "display(a)"
   ]
  },
  {
   "cell_type": "markdown",
   "id": "2fa231cc",
   "metadata": {},
   "source": [
    "<h4><u>2.5.- Campos de texto</u></h4>"
   ]
  },
  {
   "cell_type": "markdown",
   "id": "5a54d767",
   "metadata": {},
   "source": [
    "Del mismo modo que los [widgets](#Widgets) sirven para que el usuario interactúe con el cuaderno, se han dispuesto unos campos de texto que corresponden a las soluciones numéricas de los ejercicios. Una vez introducidas las variables en el [widget](#Widgets), se disponen de un botón para realizar la actualización de estos campos tal y como se ve en el ejemplo siguiente. El segundo botón sirve para reiniciar el valor de entrada a su valor por defecto, en los ejercicios serán los datos de estos."
   ]
  },
  {
   "cell_type": "code",
   "execution_count": 3,
   "id": "12208add",
   "metadata": {},
   "outputs": [
    {
     "data": {
      "text/html": [
       "\n",
       "<a href=\"javascript:code_toggle()\">Mostrar/ocultar celdas de código</a>."
      ],
      "text/plain": [
       "<IPython.core.display.HTML object>"
      ]
     },
     "execution_count": 3,
     "metadata": {},
     "output_type": "execute_result"
    }
   ],
   "source": [
    "from IPython.display import HTML\n",
    "HTML('''\n",
    "<a href=\"javascript:code_toggle()\">Mostrar/ocultar celdas de código</a>.''')"
   ]
  },
  {
   "cell_type": "markdown",
   "id": "a6771acc",
   "metadata": {},
   "source": [
    "**NOTA: OCULTAR CODIGO PARA MEJOR VISUALIZACION.**"
   ]
  },
  {
   "cell_type": "code",
   "execution_count": 4,
   "id": "336e50d1",
   "metadata": {},
   "outputs": [
    {
     "data": {
      "application/vnd.jupyter.widget-view+json": {
       "model_id": "df0d7ae663af425593edc0dce9c41ea1",
       "version_major": 2,
       "version_minor": 0
      },
      "text/plain": [
       "interactive(children=(Text(value='2', description='Input_2'), Output()), _dom_classes=('widget-interact',))"
      ]
     },
     "metadata": {},
     "output_type": "display_data"
    }
   ],
   "source": [
    "from __future__ import print_function\n",
    "from ipywidgets import interact, interactive, fixed, interact_manual\n",
    "import ipywidgets as widgets\n",
    "\n",
    "def fb(Input_2):\n",
    "    try:\n",
    "        float(Input_2)\n",
    "    except:\n",
    "        print(\"Introduce un valor numerico\")\n",
    "    else:\n",
    "        print(\"Pulsa para actualizar los campos de texto\")\n",
    "        return(Input_2)\n",
    "\n",
    "        \n",
    "b = interactive(fb,Input_2=\"2\")\n",
    "\n",
    "display(b)"
   ]
  },
  {
   "cell_type": "code",
   "execution_count": 5,
   "id": "228d4d21",
   "metadata": {},
   "outputs": [
    {
     "data": {
      "text/html": [
       "\n",
       "<button onclick=\"ejecutar(38,40)\">Actualizar campos de texto</button>\n",
       "<button onclick=\"ejecutar(36,37)\">Abrir/reiniciar cuadro de variables</button>\n",
       "\n",
       "<script>\n",
       "function ejecutar(desde, hasta){\n",
       "    for(i = desde; i < hasta; i++)\n",
       "        Jupyter.notebook.execute_cells([i])\n",
       "}\n",
       "</script>"
      ],
      "text/plain": [
       "<IPython.core.display.HTML object>"
      ]
     },
     "execution_count": 5,
     "metadata": {},
     "output_type": "execute_result"
    }
   ],
   "source": [
    "from IPython.display import HTML\n",
    "HTML('''\n",
    "<button onclick=\"ejecutar(38,40)\">Actualizar campos de texto</button>\n",
    "<button onclick=\"ejecutar(36,37)\">Abrir/reiniciar cuadro de variables</button>\n",
    "\n",
    "<script>\n",
    "function ejecutar(desde, hasta){\n",
    "    for(i = desde; i < hasta; i++)\n",
    "        Jupyter.notebook.execute_cells([i])\n",
    "}\n",
    "</script>''')"
   ]
  },
  {
   "cell_type": "code",
   "execution_count": 6,
   "id": "afec93bc",
   "metadata": {},
   "outputs": [],
   "source": [
    "from IPython.display import Markdown as md\n",
    "\n",
    "try:\n",
    "    In_1=float(a.result)\n",
    "    In_2=float(b.result)\n",
    "except:\n",
    "    print(\"Los valores introducidos no son validos\")\n",
    "else:\n",
    "    suma=In_1+In_2\n"
   ]
  },
  {
   "cell_type": "code",
   "execution_count": 7,
   "id": "7e8a3803",
   "metadata": {},
   "outputs": [
    {
     "data": {
      "text/markdown": [
       "$$ Input_{_1}+Input_{_2}=1.00+2.00=3.00$$"
      ],
      "text/plain": [
       "<IPython.core.display.Markdown object>"
      ]
     },
     "execution_count": 7,
     "metadata": {},
     "output_type": "execute_result"
    }
   ],
   "source": [
    "from IPython.display import Markdown as md\n",
    "md('$$ Input_{_1}+Input_{_2}=%.2f+%.2f=%.2f$$'%\n",
    "   (In_1, In_2, suma))\n"
   ]
  },
  {
   "cell_type": "code",
   "execution_count": 8,
   "id": "ef1ed2db",
   "metadata": {},
   "outputs": [
    {
     "data": {
      "text/html": [
       "\n",
       "<a href=\"javascript:code_toggle()\">Mostrar/ocultar celdas de código</a>."
      ],
      "text/plain": [
       "<IPython.core.display.HTML object>"
      ]
     },
     "execution_count": 8,
     "metadata": {},
     "output_type": "execute_result"
    }
   ],
   "source": [
    "from IPython.display import HTML\n",
    "HTML('''\n",
    "<a href=\"javascript:code_toggle()\">Mostrar/ocultar celdas de código</a>.''')"
   ]
  },
  {
   "cell_type": "markdown",
   "id": "bcbb8d8b",
   "metadata": {},
   "source": [
    "<div id=\"BarraDeNotificaciones\"><h2><u>3.- Barra de notificaciones</u></h2></div>"
   ]
  },
  {
   "cell_type": "markdown",
   "id": "edfa7196",
   "metadata": {},
   "source": [
    "En este apartado se muestran las notificaciones y errores más comunes que se muestran en la barra de estado."
   ]
  },
  {
   "cell_type": "markdown",
   "id": "63ee1adc",
   "metadata": {},
   "source": [
    "<h4><u>3.1.- Inicialización del cuaderno y del kernel:</u></h4>"
   ]
  },
  {
   "cell_type": "markdown",
   "id": "97c588a9",
   "metadata": {},
   "source": [
    "Estas 4 notificaciones aparecen en secuencia en una inicialización sin incidencias."
   ]
  },
  {
   "cell_type": "markdown",
   "id": "d0bbd390",
   "metadata": {},
   "source": [
    "<div><img src=\"MEDIA/loadingNotebook.png\"style=\"width:20%; float:left;text\"></div>"
   ]
  },
  {
   "cell_type": "markdown",
   "id": "170dfbed",
   "metadata": {},
   "source": [
    "<div><img src=\"MEDIA/kernelStarting.png\"style=\"width:20%; float:left;\"></div>"
   ]
  },
  {
   "cell_type": "markdown",
   "id": "a10dff4e",
   "metadata": {},
   "source": [
    "<div><img src=\"MEDIA/connected.png\"style=\"width:20%; float:left;\"></div>"
   ]
  },
  {
   "cell_type": "markdown",
   "id": "6e3646bf",
   "metadata": {},
   "source": [
    "<div><img src=\"MEDIA/kernelReady.png\"style=\"width:20%; float:left;\"></div>"
   ]
  },
  {
   "cell_type": "markdown",
   "id": "a3692c44",
   "metadata": {},
   "source": [
    "<h4><u>3.2.- En caso de existir un problema con el kernel en la inicialización:</u></h4>"
   ]
  },
  {
   "cell_type": "markdown",
   "id": "0d93d38c",
   "metadata": {},
   "source": [
    "<div><img src=\"MEDIA/kernelError.png\"style=\"width:20%; float:left;\"></div>"
   ]
  },
  {
   "cell_type": "markdown",
   "id": "0a1b658b",
   "metadata": {},
   "source": [
    "<div><img src=\"MEDIA/noKernel.png\"style=\"width:20%; float:left;\"></div>"
   ]
  },
  {
   "cell_type": "markdown",
   "id": "ce9e6a76",
   "metadata": {},
   "source": [
    "<div><img src=\"MEDIA/notConnected.png\"style=\"width:20%; float:left;\"></div>"
   ]
  },
  {
   "cell_type": "markdown",
   "id": "a5a5d00f",
   "metadata": {},
   "source": [
    "Estos 3 errores pueden darse en caso de problemas en el inicio del cuaderno, debido a problemas del servidor, de la conexión a internet o de la base de datos no ha sido posible conectar con el [kernel](#Kernel)."
   ]
  },
  {
   "cell_type": "markdown",
   "id": "1500ff2b",
   "metadata": {},
   "source": [
    "Lo normal es que se deba a un problema de comunicación, para estos casos basta con resetear el [kernel](#Kernel) y reiniciar el cuaderno con [Restart and run cells](#interfaz). En caso de que esto no funcione, se debería de cerrar las ventanas de los cuadernos abiertos y volver a cargar el servidor del mismo modo que la primera vez que se abrió."
   ]
  },
  {
   "cell_type": "markdown",
   "id": "086c92fe",
   "metadata": {},
   "source": [
    "Si ninguno de estos tres pasos a funcionado se trata de un problema interno de [MyBinder](#MyBinder) que no puede ser solucionado de manera externa."
   ]
  },
  {
   "cell_type": "markdown",
   "id": "3688ef50",
   "metadata": {},
   "source": [
    "**NOTA: Estos errores también se pueden dar en caso de dejar el cuaderno abierto un largo tiempo o si se suspende el ordenador, ya que la conexión con el servidor de** [MyBinder](#MyBinder) **se ve interrumpida.**"
   ]
  },
  {
   "cell_type": "markdown",
   "id": "efd62114",
   "metadata": {},
   "source": [
    "<div id=\"trustNotTrust\"><h4><u>4.3.- Trusted / Not trusted:</u></h4></div>"
   ]
  },
  {
   "cell_type": "markdown",
   "id": "11d94e24",
   "metadata": {},
   "source": [
    "<div><img src=\"MEDIA/notTrusted.png\"style=\"width:20%; float:left;\"></div>"
   ]
  },
  {
   "cell_type": "markdown",
   "id": "03ec4a05",
   "metadata": {},
   "source": [
    "<div><img src=\"MEDIA/trusted.png\"style=\"width:20%; float:left;\"></div>"
   ]
  },
  {
   "cell_type": "markdown",
   "id": "8dc8bfbf",
   "metadata": {},
   "source": [
    "El mensaje **Not Trusted** (no es de confianza) aparece por defecto al ejecutar por primera vez cualquier cuaderno. Después de ejecutarlo detecta si hay código no deseado en el cuaderno y en caso de no haberlo este mensaje pasa a ser **Trusted** (de confianza)."
   ]
  },
  {
   "cell_type": "markdown",
   "id": "dfec5927",
   "metadata": {},
   "source": [
    "Al contener algunos de estos cuadernos código en [JavaScript](#JavaScript) y [HTML](#HTML), lenguajes de programación con potencial para ejecutar contenido malicioso en el PC, [Jupyter Notebook](#Notebook) requiere de confirmación del usuario para permitir estas funciones **_imprescindibles para el funcionamiento del cuaderno_**. Para ello hay que realizar los 2 pasos marcados en la siguiente imagen."
   ]
  },
  {
   "cell_type": "markdown",
   "id": "01d45b46",
   "metadata": {},
   "source": [
    "En ciertas ocasiones, por razones indeterminadas causadas por [MyBinder](#MyBinder), ya que en servidor local esto no ocurre, el botón \"Not trusted\" está inhabilitado y por mucho que se haga clic no aparece la ventana emergente. Esto no es más que un problema de apariencia. En estos casos el cuaderno puede funcionar a pesar de no estar en modo \"Trusted\" por lo cual se recomienda ignorar el segundo paso y continuar utilizando el cuaderno de manera normal."
   ]
  },
  {
   "cell_type": "markdown",
   "id": "41e8ef21",
   "metadata": {},
   "source": [
    "<div><img src=\"MEDIA/aviso_trust.png\"style=\"width:50%;\"></div>"
   ]
  },
  {
   "cell_type": "markdown",
   "id": "32b3de16",
   "metadata": {},
   "source": [
    "Una vez que se tiene el cuaderno en modo \"Trusted\" se recomienda hacer clic en [guardar](#interfaz), para guardar la configuración en el cuaderno."
   ]
  },
  {
   "cell_type": "markdown",
   "id": "fdcd421f",
   "metadata": {},
   "source": [
    "<div id=\"errores\"><h2><u>4.- Posibles errores y avisos en el cuaderno de Jupyter</u></h2></div>"
   ]
  },
  {
   "cell_type": "markdown",
   "id": "33a65640",
   "metadata": {},
   "source": [
    "<h4><u>4.1.- NameError:</u></h4>"
   ]
  },
  {
   "cell_type": "markdown",
   "id": "ae4b1fa9",
   "metadata": {},
   "source": [
    "<div><img src=\"MEDIA/nameError.png\"style=\"width:90%; float:left;\"></div>"
   ]
  },
  {
   "cell_type": "markdown",
   "id": "859d7863",
   "metadata": {},
   "source": [
    "Este error indica que no se ha definido una variable, y se debe a no haber ejecutado el cuaderno con [Restart and run cells](#interfaz) tal y como se indica en [Al iniciar cualquier cuaderno](#iniciarCuaderno). "
   ]
  },
  {
   "cell_type": "markdown",
   "id": "f1ea1482",
   "metadata": {},
   "source": [
    "Otra posibilidad es haber actualizado campos de texto habiendo introducido caracteres no válidos en los [widgets](#Widgets). Introduciendo caracteres válidos o reseteando el [widget](#Widgets) con \"Abrir/reiniciar cuadro de variables\" y pulsando de nuevo \"Actualizar campos de texto\" se soluciona. Otra solución es ejecutar el cuaderno con [Restart and run cells](#interfaz)."
   ]
  },
  {
   "cell_type": "markdown",
   "id": "1664298c",
   "metadata": {},
   "source": [
    "<h4><u>4.2.- Visualización de widgets</u></h4>"
   ]
  },
  {
   "cell_type": "markdown",
   "id": "7f87cb56",
   "metadata": {},
   "source": [
    "<div><img src=\"MEDIA/widgetNotDisplayed.png\"style=\"width:90%; float:left;\"></div>"
   ]
  },
  {
   "cell_type": "markdown",
   "id": "61127583",
   "metadata": {},
   "source": [
    "Este error se debe a que el cuaderno no fue guardado de manera correcta la última vez que se abrió. Si se ejecuta bien con [Restart and run cells](#interfaz) o con el botón de **_\"Abrir/reiniciar cuadro de variables\"_** se visualizará correctamente"
   ]
  },
  {
   "cell_type": "markdown",
   "id": "335ab3e0",
   "metadata": {},
   "source": [
    "También puede darse el caso que se muestre un texto como este, o que directamente solo se muestren los botones de **_\"Actualizar campos de texto\"_**  y **_\"Abrir/reiniciar cuadro de variables\"_**. Ambos casos se solucionan de la misma manera que el anterior error. Estando el cuaderno en **\"Trust\"** y ejecutándolo al inicio no deben de aparecer."
   ]
  },
  {
   "cell_type": "markdown",
   "id": "6c3bc71a",
   "metadata": {},
   "source": [
    "<div><img src=\"MEDIA/widgetNotDisplayed2.png\"style=\"width:100%; float:left;\"></div>"
   ]
  },
  {
   "cell_type": "markdown",
   "id": "d8f280c0",
   "metadata": {},
   "source": [
    "<h4><u>4.3.- Widgets sin conexión</u></h4>"
   ]
  },
  {
   "cell_type": "markdown",
   "id": "507d64aa",
   "metadata": {},
   "source": [
    "<div><img src=\"MEDIA/widgetNotConnect.png\"style=\"width:60%; float:left;\"></div>"
   ]
  },
  {
   "cell_type": "markdown",
   "id": "2ae04c19",
   "metadata": {},
   "source": [
    "Este error se debe a que el [widget](#Widgets) a perdido la conexión con el [kernel](#Kernel), ejecutando el cuaderno con [Restart and run cells](#interfaz) se soluciona el error."
   ]
  },
  {
   "cell_type": "markdown",
   "id": "091b9c2a",
   "metadata": {},
   "source": [
    "<div id=\"guiaInicio\"><h2><u>5.- Guía de inicio rápido</u></h2></div>"
   ]
  },
  {
   "cell_type": "markdown",
   "id": "29875ba9",
   "metadata": {},
   "source": [
    "1 - Al iniciar el cuaderno, hacer clic en **Not trusted** para permitir que el cuaderno ejecute código [JavaScript](#JavaScript) y [HTML](#HTML)."
   ]
  },
  {
   "cell_type": "markdown",
   "id": "d0f5be7e",
   "metadata": {},
   "source": [
    "<div><img src=\"MEDIA/guia4.png\"style=\"width:90%; float:left;\"></div>"
   ]
  },
  {
   "cell_type": "markdown",
   "id": "f4680de1",
   "metadata": {},
   "source": [
    "**NOTA: SI HACER CLICK EN NOT TRUSTED NO OCURRE NADA, IGNORAR EL SIGUIENTE PASO**"
   ]
  },
  {
   "cell_type": "markdown",
   "id": "d041df5a",
   "metadata": {},
   "source": [
    "2 - Clic donde se indica."
   ]
  },
  {
   "cell_type": "markdown",
   "id": "cc4ee0bb",
   "metadata": {},
   "source": [
    "<div><img src=\"MEDIA/guia5.png\"style=\"width:90%; float:left;\"></div>"
   ]
  },
  {
   "cell_type": "markdown",
   "id": "c1c1ea54",
   "metadata": {},
   "source": [
    "3 - Después se ejecuta."
   ]
  },
  {
   "cell_type": "markdown",
   "id": "3ec7211f",
   "metadata": {},
   "source": [
    "<div><img src=\"MEDIA/guia3.png\"style=\"width:90%; float:left;\"></div>"
   ]
  },
  {
   "cell_type": "markdown",
   "id": "317eecbb",
   "metadata": {},
   "source": [
    "4 - Clic donde se indica."
   ]
  },
  {
   "cell_type": "markdown",
   "id": "67623477",
   "metadata": {},
   "source": [
    "<div><img src=\"MEDIA/runCells.png\"style=\"width:90%; float:left;\"></div>"
   ]
  },
  {
   "cell_type": "markdown",
   "id": "743f1bef",
   "metadata": {},
   "source": [
    "5 - Una vez se cargue el cuaderno, está listo para ser usado. Para introducir datos distintos a los del enunciado, escribirlos en el campo respectivo y pulsar **\"Actualizar campos de texto\"**. **\"Abrir/reiniciar cuadro de variables\"** resetea tanto el estado del [widget](#Widgets) como los valores por defecto. "
   ]
  },
  {
   "cell_type": "markdown",
   "id": "5e628da2",
   "metadata": {},
   "source": [
    "<div><img src=\"MEDIA/guia6.png\"style=\"width:90%; float:left;\"></div>"
   ]
  },
  {
   "cell_type": "markdown",
   "id": "0b14a5ae",
   "metadata": {},
   "source": [
    "6 - Para que se guarde el estado \"Trust\" del cuaderno, guardar ahora o antes de salir."
   ]
  },
  {
   "cell_type": "markdown",
   "id": "22b75bd2",
   "metadata": {},
   "source": [
    "Para cualquier problema mirar el apartado [Posibles errores y avisos en el cuaderno de Jupyter](#errores)"
   ]
  },
  {
   "cell_type": "markdown",
   "id": "ea87889e",
   "metadata": {},
   "source": [
    "<div id=\"Arbol\"><h2><u>6.- Árbol de archivos</u></h2></div>"
   ]
  },
  {
   "cell_type": "markdown",
   "id": "3d5db989",
   "metadata": {},
   "source": [
    "<div><img src=\"MEDIA/arbol.png\"style=\"width:50%; float:left;\"></div>"
   ]
  },
  {
   "cell_type": "markdown",
   "id": "95f878b9",
   "metadata": {},
   "source": [
    "<div id=\"Glosario\"><h2><u>7.- Glosario</u></h2></div>"
   ]
  },
  {
   "cell_type": "markdown",
   "id": "0f1ba702",
   "metadata": {},
   "source": [
    "\n",
    "<div id=\"Notebook\"><strong>Jupyter Notebook:</strong> Es la aplicación web utilizada en estos cuadernos. Permite compartir código o aplicaciones de una manera sencilla. Es utilizado entre otros para el tratamiento de datos, gráficos 2D y 3D, análisis de modelos matemáticos y estadísticos. En este texto también se referirá como Notebook o simplemente cuaderno para la aplicación en uso.</div>"
   ]
  },
  {
   "cell_type": "markdown",
   "id": "e18005a0",
   "metadata": {},
   "source": [
    "<div id=\"Kernel\"><strong>Kernel:</strong> El kernel es el núcleo computacional de Jupyter Notebook, y se encarga de ejecutar el código del cuaderno obteniendo de este modo unos outputs o salidas. </div>"
   ]
  },
  {
   "cell_type": "markdown",
   "id": "0d1dafaf",
   "metadata": {},
   "source": [
    "<div id=\"Widgets\"><strong>Widgets:</strong> Aplicaciones integradas en los cuadernos para realizar ciertas funciones.</div>"
   ]
  },
  {
   "cell_type": "markdown",
   "id": "14819531",
   "metadata": {},
   "source": [
    "<div id=\"MyBinder\"><strong>MyBinder:</strong> Herramienta online que sirve para crear un servidor web de distintas plataformas, en este caso de Jupyter Notebook, partiendo de un repositorio, en este caso GitHub.</div>"
   ]
  },
  {
   "cell_type": "markdown",
   "id": "23a46672",
   "metadata": {},
   "source": [
    "<div id=\"GitHub\"><strong>GitHub:</strong> Plataforma online que sirve para almacenar y compartir código.</div>"
   ]
  },
  {
   "cell_type": "markdown",
   "id": "61275cd6",
   "metadata": {},
   "source": [
    "<div id=\"HTML\"><strong>HTML:</strong> (Lenguaje de Marcas de Hipertexto o HyperText Markup Language) Es el principal lenguaje de programación de páginas web, se encarga principalmente del posicionamiento de los elementos en la página y sus relaciones. Se suele utilizar en conjunto con JavaScript y CSS además de otros lenguajes.</div>"
   ]
  },
  {
   "cell_type": "markdown",
   "id": "ca825a91",
   "metadata": {},
   "source": [
    "<div id=\"JavaScript\"><strong>JavaScript:</strong> (Abreviado como JS) es un lenguaje de programación utilizado principalmente como conjunto de HTML en páginas webs para manejar el contenido dinámico de la página. Sirve para alterar las características del contenido de la página en tiempo real mediante funciones.</div>"
   ]
  },
  {
   "cell_type": "markdown",
   "id": "f14ee7dd",
   "metadata": {},
   "source": [
    "<div id=\"CSS\"><strong>CSS:</strong> (Hojas de Estilo en Cascada o Cascading Style Sheets) es un lenguaje de programación utilizado principalmente como conjunto de HTML en páginas webs para definir las propiedades de los elementos. Sirve para definir las características estáticas de los elementos presentes en la página web.</div>"
   ]
  },
  {
   "cell_type": "code",
   "execution_count": 9,
   "id": "8c52c69e",
   "metadata": {},
   "outputs": [
    {
     "data": {
      "text/html": [
       "\n",
       "<a href=\"javascript:code_toggle()\">Mostrar/ocultar celdas de código</a>."
      ],
      "text/plain": [
       "<IPython.core.display.HTML object>"
      ]
     },
     "execution_count": 9,
     "metadata": {},
     "output_type": "execute_result"
    }
   ],
   "source": [
    "from IPython.display import HTML\n",
    "HTML('''\n",
    "<a href=\"javascript:code_toggle()\">Mostrar/ocultar celdas de código</a>.''')"
   ]
  },
  {
   "cell_type": "markdown",
   "id": "28b935e6",
   "metadata": {},
   "source": [
    "[Volver al índice](#titulo)"
   ]
  },
  {
   "cell_type": "code",
   "execution_count": 10,
   "id": "e0fbda1e",
   "metadata": {
    "scrolled": true
   },
   "outputs": [
    {
     "data": {
      "text/html": [
       "\n",
       "<script>\n",
       "window.location=\"Manual_de_uso.ipynb#titulo\";\n",
       "</script>"
      ],
      "text/plain": [
       "<IPython.core.display.HTML object>"
      ]
     },
     "execution_count": 10,
     "metadata": {},
     "output_type": "execute_result"
    }
   ],
   "source": [
    "from IPython.display import HTML\n",
    "HTML('''\n",
    "<script>\n",
    "window.location=\"Manual_de_uso.ipynb#titulo\";\n",
    "</script>''')"
   ]
  }
 ],
 "metadata": {
  "kernelspec": {
   "display_name": "Python 3 (ipykernel)",
   "language": "python",
   "name": "python3"
  },
  "language_info": {
   "codemirror_mode": {
    "name": "ipython",
    "version": 3
   },
   "file_extension": ".py",
   "mimetype": "text/x-python",
   "name": "python",
   "nbconvert_exporter": "python",
   "pygments_lexer": "ipython3",
   "version": "3.9.12"
  },
  "widgets": {
   "application/vnd.jupyter.widget-state+json": {
    "state": {
     "08ba581e50284f27b588c38cd92fb0b4": {
      "model_module": "@jupyter-widgets/controls",
      "model_module_version": "1.5.0",
      "model_name": "VBoxModel",
      "state": {
       "_dom_classes": [
        "widget-interact"
       ],
       "children": [
        "IPY_MODEL_f76adf89c0f24ed8be2f1e9f8ad63e4f",
        "IPY_MODEL_93dadbb37aef420281229fa8e54a10a6"
       ],
       "layout": "IPY_MODEL_f9d6a3bb243d4320b0413a9133048d00"
      }
     },
     "0a381d0afef24042a3101f7bd0d38965": {
      "model_module": "@jupyter-widgets/controls",
      "model_module_version": "1.5.0",
      "model_name": "DescriptionStyleModel",
      "state": {
       "description_width": ""
      }
     },
     "192dff72369e45cb9cb57ca111da709e": {
      "model_module": "@jupyter-widgets/base",
      "model_module_version": "1.2.0",
      "model_name": "LayoutModel",
      "state": {}
     },
     "258ce17515114aa4aba88c22d7dc5203": {
      "model_module": "@jupyter-widgets/controls",
      "model_module_version": "1.5.0",
      "model_name": "VBoxModel",
      "state": {
       "_dom_classes": [
        "widget-interact"
       ],
       "children": [
        "IPY_MODEL_7435e6de960b4de7a6af42d5036c13cc",
        "IPY_MODEL_f11b5ccf02d74e1bb7cb8fb537ec7759"
       ],
       "layout": "IPY_MODEL_ff798a8b59ce4c5090b4e8b3d62c9b63"
      }
     },
     "32475a0df55d4c299c5f829271e4c336": {
      "model_module": "@jupyter-widgets/base",
      "model_module_version": "1.2.0",
      "model_name": "LayoutModel",
      "state": {}
     },
     "3804dad242c34c2f94a62a897e19df99": {
      "model_module": "@jupyter-widgets/controls",
      "model_module_version": "1.5.0",
      "model_name": "TextModel",
      "state": {
       "description": "Input",
       "layout": "IPY_MODEL_fdeeb2c6a16749a0bcf7421e5081efac",
       "style": "IPY_MODEL_0a381d0afef24042a3101f7bd0d38965",
       "value": "1"
      }
     },
     "3b4575f714c640338c30fb534c385f86": {
      "model_module": "@jupyter-widgets/controls",
      "model_module_version": "1.5.0",
      "model_name": "VBoxModel",
      "state": {
       "_dom_classes": [
        "widget-interact"
       ],
       "children": [
        "IPY_MODEL_661a8441230c48f2a2789906c745d0b5",
        "IPY_MODEL_a2761a0e9a5d45fb99f2bcf65ebadbe7"
       ],
       "layout": "IPY_MODEL_e7e121756b08401187cb302530bd1842"
      }
     },
     "5145ef60649c4135902f2429eacceef6": {
      "model_module": "@jupyter-widgets/base",
      "model_module_version": "1.2.0",
      "model_name": "LayoutModel",
      "state": {}
     },
     "5527f8b653b5494c95f33988f0e50c73": {
      "model_module": "@jupyter-widgets/controls",
      "model_module_version": "1.5.0",
      "model_name": "DescriptionStyleModel",
      "state": {
       "description_width": ""
      }
     },
     "57ba5978b10d420cbe1941caf6f5dc27": {
      "model_module": "@jupyter-widgets/base",
      "model_module_version": "1.2.0",
      "model_name": "LayoutModel",
      "state": {}
     },
     "59f5b309ab0840fcb7eafa80ba74d3a6": {
      "model_module": "@jupyter-widgets/controls",
      "model_module_version": "1.5.0",
      "model_name": "TextModel",
      "state": {
       "description": "Input",
       "layout": "IPY_MODEL_e075d67b25c4424e939e9ef9e40ce630",
       "style": "IPY_MODEL_5e6b2f9622ca4933a1d32fba6959b2b4",
       "value": "1"
      }
     },
     "5acd9d1878c84739be32ad453be60915": {
      "model_module": "@jupyter-widgets/base",
      "model_module_version": "1.2.0",
      "model_name": "LayoutModel",
      "state": {}
     },
     "5b267f307f9f4cc18f09d2b1acc407e9": {
      "model_module": "@jupyter-widgets/output",
      "model_module_version": "1.0.0",
      "model_name": "OutputModel",
      "state": {
       "layout": "IPY_MODEL_d63b5a5f43db4128aa01b5f6471da094",
       "outputs": [
        {
         "name": "stdout",
         "output_type": "stream",
         "text": "El valor introducido esinput\n"
        }
       ]
      }
     },
     "5e0b5658e65b43dcb71e12f639cd13e8": {
      "model_module": "@jupyter-widgets/controls",
      "model_module_version": "1.5.0",
      "model_name": "DescriptionStyleModel",
      "state": {
       "description_width": ""
      }
     },
     "5e6b2f9622ca4933a1d32fba6959b2b4": {
      "model_module": "@jupyter-widgets/controls",
      "model_module_version": "1.5.0",
      "model_name": "DescriptionStyleModel",
      "state": {
       "description_width": ""
      }
     },
     "618eb5d1dd4f4793a54e42534d1abe36": {
      "model_module": "@jupyter-widgets/controls",
      "model_module_version": "1.5.0",
      "model_name": "VBoxModel",
      "state": {
       "_dom_classes": [
        "widget-interact"
       ],
       "children": [
        "IPY_MODEL_3804dad242c34c2f94a62a897e19df99",
        "IPY_MODEL_6c8838190b464992b926c6677bdf8ca6"
       ],
       "layout": "IPY_MODEL_70ed85d0c68a4b88b0672be8d427b670"
      }
     },
     "661a8441230c48f2a2789906c745d0b5": {
      "model_module": "@jupyter-widgets/controls",
      "model_module_version": "1.5.0",
      "model_name": "TextModel",
      "state": {
       "description": "Input",
       "layout": "IPY_MODEL_77843b44ee1e48bba0dd98eaa4a8693a",
       "style": "IPY_MODEL_f9ebfa590c414f32804a74ef3191bdd2",
       "value": "455432534"
      }
     },
     "6c8838190b464992b926c6677bdf8ca6": {
      "model_module": "@jupyter-widgets/output",
      "model_module_version": "1.0.0",
      "model_name": "OutputModel",
      "state": {
       "layout": "IPY_MODEL_f0628946fb5a4a1080f58e5c129423e4",
       "outputs": [
        {
         "ename": "TypeError",
         "evalue": "can only concatenate str (not \"method\") to str",
         "output_type": "error",
         "traceback": [
          "\u001b[1;31m---------------------------------------------------------------------------\u001b[0m",
          "\u001b[1;31mTypeError\u001b[0m                                 Traceback (most recent call last)",
          "\u001b[1;32m~\\anaconda3\\lib\\site-packages\\ipywidgets\\widgets\\interaction.py\u001b[0m in \u001b[0;36mupdate\u001b[1;34m(self, *args)\u001b[0m\n\u001b[0;32m    254\u001b[0m                     \u001b[0mvalue\u001b[0m \u001b[1;33m=\u001b[0m \u001b[0mwidget\u001b[0m\u001b[1;33m.\u001b[0m\u001b[0mget_interact_value\u001b[0m\u001b[1;33m(\u001b[0m\u001b[1;33m)\u001b[0m\u001b[1;33m\u001b[0m\u001b[1;33m\u001b[0m\u001b[0m\n\u001b[0;32m    255\u001b[0m                     \u001b[0mself\u001b[0m\u001b[1;33m.\u001b[0m\u001b[0mkwargs\u001b[0m\u001b[1;33m[\u001b[0m\u001b[0mwidget\u001b[0m\u001b[1;33m.\u001b[0m\u001b[0m_kwarg\u001b[0m\u001b[1;33m]\u001b[0m \u001b[1;33m=\u001b[0m \u001b[0mvalue\u001b[0m\u001b[1;33m\u001b[0m\u001b[1;33m\u001b[0m\u001b[0m\n\u001b[1;32m--> 256\u001b[1;33m                 \u001b[0mself\u001b[0m\u001b[1;33m.\u001b[0m\u001b[0mresult\u001b[0m \u001b[1;33m=\u001b[0m \u001b[0mself\u001b[0m\u001b[1;33m.\u001b[0m\u001b[0mf\u001b[0m\u001b[1;33m(\u001b[0m\u001b[1;33m**\u001b[0m\u001b[0mself\u001b[0m\u001b[1;33m.\u001b[0m\u001b[0mkwargs\u001b[0m\u001b[1;33m)\u001b[0m\u001b[1;33m\u001b[0m\u001b[1;33m\u001b[0m\u001b[0m\n\u001b[0m\u001b[0;32m    257\u001b[0m                 \u001b[0mshow_inline_matplotlib_plots\u001b[0m\u001b[1;33m(\u001b[0m\u001b[1;33m)\u001b[0m\u001b[1;33m\u001b[0m\u001b[1;33m\u001b[0m\u001b[0m\n\u001b[0;32m    258\u001b[0m                 \u001b[1;32mif\u001b[0m \u001b[0mself\u001b[0m\u001b[1;33m.\u001b[0m\u001b[0mauto_display\u001b[0m \u001b[1;32mand\u001b[0m \u001b[0mself\u001b[0m\u001b[1;33m.\u001b[0m\u001b[0mresult\u001b[0m \u001b[1;32mis\u001b[0m \u001b[1;32mnot\u001b[0m \u001b[1;32mNone\u001b[0m\u001b[1;33m:\u001b[0m\u001b[1;33m\u001b[0m\u001b[1;33m\u001b[0m\u001b[0m\n",
          "\u001b[1;32m<ipython-input-4-fd23efa9770d>\u001b[0m in \u001b[0;36mf\u001b[1;34m(Input)\u001b[0m\n\u001b[0;32m      9\u001b[0m         \u001b[0mprint\u001b[0m\u001b[1;33m(\u001b[0m\u001b[1;34m\"Introduce un valor numerico\"\u001b[0m\u001b[1;33m)\u001b[0m\u001b[1;33m\u001b[0m\u001b[1;33m\u001b[0m\u001b[0m\n\u001b[0;32m     10\u001b[0m     \u001b[1;32melse\u001b[0m\u001b[1;33m:\u001b[0m\u001b[1;33m\u001b[0m\u001b[1;33m\u001b[0m\u001b[0m\n\u001b[1;32m---> 11\u001b[1;33m         \u001b[0mprint\u001b[0m\u001b[1;33m(\u001b[0m\u001b[1;34m\"El valor introducido es \"\u001b[0m\u001b[1;33m+\u001b[0m\u001b[0minput\u001b[0m\u001b[1;33m)\u001b[0m\u001b[1;33m\u001b[0m\u001b[1;33m\u001b[0m\u001b[0m\n\u001b[0m\u001b[0;32m     12\u001b[0m \u001b[1;33m\u001b[0m\u001b[0m\n\u001b[0;32m     13\u001b[0m \u001b[1;33m\u001b[0m\u001b[0m\n",
          "\u001b[1;31mTypeError\u001b[0m: can only concatenate str (not \"method\") to str"
         ]
        }
       ]
      }
     },
     "6e29c803ccd949f2914fd60dd6001ed7": {
      "model_module": "@jupyter-widgets/controls",
      "model_module_version": "1.5.0",
      "model_name": "TextModel",
      "state": {
       "description": "Input",
       "layout": "IPY_MODEL_57ba5978b10d420cbe1941caf6f5dc27",
       "style": "IPY_MODEL_b2f77bf6cf0b4620ae8b62c72f9dbed9",
       "value": "1"
      }
     },
     "70ed85d0c68a4b88b0672be8d427b670": {
      "model_module": "@jupyter-widgets/base",
      "model_module_version": "1.2.0",
      "model_name": "LayoutModel",
      "state": {}
     },
     "7435e6de960b4de7a6af42d5036c13cc": {
      "model_module": "@jupyter-widgets/controls",
      "model_module_version": "1.5.0",
      "model_name": "TextModel",
      "state": {
       "description": "Input",
       "layout": "IPY_MODEL_e354c05a1baf4d8d89000c32ef78b7f0",
       "style": "IPY_MODEL_5e0b5658e65b43dcb71e12f639cd13e8",
       "value": "1"
      }
     },
     "77843b44ee1e48bba0dd98eaa4a8693a": {
      "model_module": "@jupyter-widgets/base",
      "model_module_version": "1.2.0",
      "model_name": "LayoutModel",
      "state": {}
     },
     "7e81d6ba9384421db33d9ffa2ea6c9a9": {
      "model_module": "@jupyter-widgets/controls",
      "model_module_version": "1.5.0",
      "model_name": "VBoxModel",
      "state": {
       "_dom_classes": [
        "widget-interact"
       ],
       "children": [
        "IPY_MODEL_6e29c803ccd949f2914fd60dd6001ed7",
        "IPY_MODEL_a74f02a710754fd59bf48957144b68dc"
       ],
       "layout": "IPY_MODEL_32475a0df55d4c299c5f829271e4c336"
      }
     },
     "82a372e4fa4d44a1ae5bb57448f4595b": {
      "model_module": "@jupyter-widgets/base",
      "model_module_version": "1.2.0",
      "model_name": "LayoutModel",
      "state": {}
     },
     "8406e8fcbe1f4379be3006d1fb559805": {
      "model_module": "@jupyter-widgets/controls",
      "model_module_version": "1.5.0",
      "model_name": "DescriptionStyleModel",
      "state": {
       "description_width": ""
      }
     },
     "8e646129da0b46fca0574b839810bd2d": {
      "model_module": "@jupyter-widgets/base",
      "model_module_version": "1.2.0",
      "model_name": "LayoutModel",
      "state": {}
     },
     "8f668e18d67147baaa9a73228fa37693": {
      "model_module": "@jupyter-widgets/base",
      "model_module_version": "1.2.0",
      "model_name": "LayoutModel",
      "state": {}
     },
     "920375074da043bdbe29a40d257b4e01": {
      "model_module": "@jupyter-widgets/controls",
      "model_module_version": "1.5.0",
      "model_name": "VBoxModel",
      "state": {
       "_dom_classes": [
        "widget-interact"
       ],
       "children": [
        "IPY_MODEL_cb57bdb301be4e4fb4c694851d7c82ef",
        "IPY_MODEL_99ee7ff6d7cc4eac865330285c148209"
       ],
       "layout": "IPY_MODEL_192dff72369e45cb9cb57ca111da709e"
      }
     },
     "93dadbb37aef420281229fa8e54a10a6": {
      "model_module": "@jupyter-widgets/output",
      "model_module_version": "1.0.0",
      "model_name": "OutputModel",
      "state": {
       "layout": "IPY_MODEL_8e646129da0b46fca0574b839810bd2d",
       "outputs": [
        {
         "name": "stdout",
         "output_type": "stream",
         "text": "El valor introducido es <bound method Kernel.raw_input of <ipykernel.ipkernel.IPythonKernel object at 0x000001B53B6781C0>>\n"
        }
       ]
      }
     },
     "941c05131f8246d2ae4f3b75c40b7208": {
      "model_module": "@jupyter-widgets/base",
      "model_module_version": "1.2.0",
      "model_name": "LayoutModel",
      "state": {}
     },
     "99ee7ff6d7cc4eac865330285c148209": {
      "model_module": "@jupyter-widgets/output",
      "model_module_version": "1.0.0",
      "model_name": "OutputModel",
      "state": {
       "layout": "IPY_MODEL_5145ef60649c4135902f2429eacceef6",
       "outputs": [
        {
         "ename": "AttributeError",
         "evalue": "'function' object has no attribute 'value'",
         "output_type": "error",
         "traceback": [
          "\u001b[1;31m---------------------------------------------------------------------------\u001b[0m",
          "\u001b[1;31mAttributeError\u001b[0m                            Traceback (most recent call last)",
          "\u001b[1;32m~\\anaconda3\\lib\\site-packages\\ipywidgets\\widgets\\interaction.py\u001b[0m in \u001b[0;36mupdate\u001b[1;34m(self, *args)\u001b[0m\n\u001b[0;32m    254\u001b[0m                     \u001b[0mvalue\u001b[0m \u001b[1;33m=\u001b[0m \u001b[0mwidget\u001b[0m\u001b[1;33m.\u001b[0m\u001b[0mget_interact_value\u001b[0m\u001b[1;33m(\u001b[0m\u001b[1;33m)\u001b[0m\u001b[1;33m\u001b[0m\u001b[1;33m\u001b[0m\u001b[0m\n\u001b[0;32m    255\u001b[0m                     \u001b[0mself\u001b[0m\u001b[1;33m.\u001b[0m\u001b[0mkwargs\u001b[0m\u001b[1;33m[\u001b[0m\u001b[0mwidget\u001b[0m\u001b[1;33m.\u001b[0m\u001b[0m_kwarg\u001b[0m\u001b[1;33m]\u001b[0m \u001b[1;33m=\u001b[0m \u001b[0mvalue\u001b[0m\u001b[1;33m\u001b[0m\u001b[1;33m\u001b[0m\u001b[0m\n\u001b[1;32m--> 256\u001b[1;33m                 \u001b[0mself\u001b[0m\u001b[1;33m.\u001b[0m\u001b[0mresult\u001b[0m \u001b[1;33m=\u001b[0m \u001b[0mself\u001b[0m\u001b[1;33m.\u001b[0m\u001b[0mf\u001b[0m\u001b[1;33m(\u001b[0m\u001b[1;33m**\u001b[0m\u001b[0mself\u001b[0m\u001b[1;33m.\u001b[0m\u001b[0mkwargs\u001b[0m\u001b[1;33m)\u001b[0m\u001b[1;33m\u001b[0m\u001b[1;33m\u001b[0m\u001b[0m\n\u001b[0m\u001b[0;32m    257\u001b[0m                 \u001b[0mshow_inline_matplotlib_plots\u001b[0m\u001b[1;33m(\u001b[0m\u001b[1;33m)\u001b[0m\u001b[1;33m\u001b[0m\u001b[1;33m\u001b[0m\u001b[0m\n\u001b[0;32m    258\u001b[0m                 \u001b[1;32mif\u001b[0m \u001b[0mself\u001b[0m\u001b[1;33m.\u001b[0m\u001b[0mauto_display\u001b[0m \u001b[1;32mand\u001b[0m \u001b[0mself\u001b[0m\u001b[1;33m.\u001b[0m\u001b[0mresult\u001b[0m \u001b[1;32mis\u001b[0m \u001b[1;32mnot\u001b[0m \u001b[1;32mNone\u001b[0m\u001b[1;33m:\u001b[0m\u001b[1;33m\u001b[0m\u001b[1;33m\u001b[0m\u001b[0m\n",
          "\u001b[1;32m<ipython-input-6-59be3d4bc4eb>\u001b[0m in \u001b[0;36mf\u001b[1;34m(Input)\u001b[0m\n\u001b[0;32m      9\u001b[0m         \u001b[0mprint\u001b[0m\u001b[1;33m(\u001b[0m\u001b[1;34m\"Introduce un valor numerico\"\u001b[0m\u001b[1;33m)\u001b[0m\u001b[1;33m\u001b[0m\u001b[1;33m\u001b[0m\u001b[0m\n\u001b[0;32m     10\u001b[0m     \u001b[1;32melse\u001b[0m\u001b[1;33m:\u001b[0m\u001b[1;33m\u001b[0m\u001b[1;33m\u001b[0m\u001b[0m\n\u001b[1;32m---> 11\u001b[1;33m         \u001b[0mprint\u001b[0m\u001b[1;33m(\u001b[0m\u001b[1;34m\"El valor introducido es \"\u001b[0m\u001b[1;33m+\u001b[0m\u001b[0mstr\u001b[0m\u001b[1;33m(\u001b[0m\u001b[0minput\u001b[0m\u001b[1;33m.\u001b[0m\u001b[0mvalue\u001b[0m\u001b[1;33m)\u001b[0m\u001b[1;33m)\u001b[0m\u001b[1;33m\u001b[0m\u001b[1;33m\u001b[0m\u001b[0m\n\u001b[0m\u001b[0;32m     12\u001b[0m \u001b[1;33m\u001b[0m\u001b[0m\n\u001b[0;32m     13\u001b[0m \u001b[1;33m\u001b[0m\u001b[0m\n",
          "\u001b[1;31mAttributeError\u001b[0m: 'function' object has no attribute 'value'"
         ]
        }
       ]
      }
     },
     "a0393f52b10343e2b709248b16d8b641": {
      "model_module": "@jupyter-widgets/base",
      "model_module_version": "1.2.0",
      "model_name": "LayoutModel",
      "state": {}
     },
     "a2761a0e9a5d45fb99f2bcf65ebadbe7": {
      "model_module": "@jupyter-widgets/output",
      "model_module_version": "1.0.0",
      "model_name": "OutputModel",
      "state": {
       "layout": "IPY_MODEL_a4e5bcf201d94a95a4210ca603590932",
       "outputs": [
        {
         "name": "stdout",
         "output_type": "stream",
         "text": "El valor introducido es 455432534\n"
        }
       ]
      }
     },
     "a4e5bcf201d94a95a4210ca603590932": {
      "model_module": "@jupyter-widgets/base",
      "model_module_version": "1.2.0",
      "model_name": "LayoutModel",
      "state": {}
     },
     "a74f02a710754fd59bf48957144b68dc": {
      "model_module": "@jupyter-widgets/output",
      "model_module_version": "1.0.0",
      "model_name": "OutputModel",
      "state": {
       "layout": "IPY_MODEL_82a372e4fa4d44a1ae5bb57448f4595b",
       "outputs": [
        {
         "name": "stdout",
         "output_type": "stream",
         "text": "El valor introducido es 1\n"
        }
       ]
      }
     },
     "b2f77bf6cf0b4620ae8b62c72f9dbed9": {
      "model_module": "@jupyter-widgets/controls",
      "model_module_version": "1.5.0",
      "model_name": "DescriptionStyleModel",
      "state": {
       "description_width": ""
      }
     },
     "cb57bdb301be4e4fb4c694851d7c82ef": {
      "model_module": "@jupyter-widgets/controls",
      "model_module_version": "1.5.0",
      "model_name": "TextModel",
      "state": {
       "description": "Input",
       "layout": "IPY_MODEL_5acd9d1878c84739be32ad453be60915",
       "style": "IPY_MODEL_8406e8fcbe1f4379be3006d1fb559805",
       "value": "1"
      }
     },
     "d63b5a5f43db4128aa01b5f6471da094": {
      "model_module": "@jupyter-widgets/base",
      "model_module_version": "1.2.0",
      "model_name": "LayoutModel",
      "state": {}
     },
     "e075d67b25c4424e939e9ef9e40ce630": {
      "model_module": "@jupyter-widgets/base",
      "model_module_version": "1.2.0",
      "model_name": "LayoutModel",
      "state": {}
     },
     "e354c05a1baf4d8d89000c32ef78b7f0": {
      "model_module": "@jupyter-widgets/base",
      "model_module_version": "1.2.0",
      "model_name": "LayoutModel",
      "state": {}
     },
     "e7e121756b08401187cb302530bd1842": {
      "model_module": "@jupyter-widgets/base",
      "model_module_version": "1.2.0",
      "model_name": "LayoutModel",
      "state": {}
     },
     "f0628946fb5a4a1080f58e5c129423e4": {
      "model_module": "@jupyter-widgets/base",
      "model_module_version": "1.2.0",
      "model_name": "LayoutModel",
      "state": {}
     },
     "f11b5ccf02d74e1bb7cb8fb537ec7759": {
      "model_module": "@jupyter-widgets/output",
      "model_module_version": "1.0.0",
      "model_name": "OutputModel",
      "state": {
       "layout": "IPY_MODEL_a0393f52b10343e2b709248b16d8b641",
       "outputs": [
        {
         "name": "stdout",
         "output_type": "stream",
         "text": "El valor introducido es 1\n"
        }
       ]
      }
     },
     "f76adf89c0f24ed8be2f1e9f8ad63e4f": {
      "model_module": "@jupyter-widgets/controls",
      "model_module_version": "1.5.0",
      "model_name": "TextModel",
      "state": {
       "description": "Input",
       "layout": "IPY_MODEL_8f668e18d67147baaa9a73228fa37693",
       "style": "IPY_MODEL_5527f8b653b5494c95f33988f0e50c73",
       "value": "1"
      }
     },
     "f7b3e9e0b0624593b75f0d879784c4be": {
      "model_module": "@jupyter-widgets/controls",
      "model_module_version": "1.5.0",
      "model_name": "VBoxModel",
      "state": {
       "_dom_classes": [
        "widget-interact"
       ],
       "children": [
        "IPY_MODEL_59f5b309ab0840fcb7eafa80ba74d3a6",
        "IPY_MODEL_5b267f307f9f4cc18f09d2b1acc407e9"
       ],
       "layout": "IPY_MODEL_941c05131f8246d2ae4f3b75c40b7208"
      }
     },
     "f9d6a3bb243d4320b0413a9133048d00": {
      "model_module": "@jupyter-widgets/base",
      "model_module_version": "1.2.0",
      "model_name": "LayoutModel",
      "state": {}
     },
     "f9ebfa590c414f32804a74ef3191bdd2": {
      "model_module": "@jupyter-widgets/controls",
      "model_module_version": "1.5.0",
      "model_name": "DescriptionStyleModel",
      "state": {
       "description_width": ""
      }
     },
     "fdeeb2c6a16749a0bcf7421e5081efac": {
      "model_module": "@jupyter-widgets/base",
      "model_module_version": "1.2.0",
      "model_name": "LayoutModel",
      "state": {}
     },
     "ff798a8b59ce4c5090b4e8b3d62c9b63": {
      "model_module": "@jupyter-widgets/base",
      "model_module_version": "1.2.0",
      "model_name": "LayoutModel",
      "state": {}
     }
    },
    "version_major": 2,
    "version_minor": 0
   }
  }
 },
 "nbformat": 4,
 "nbformat_minor": 5
}
