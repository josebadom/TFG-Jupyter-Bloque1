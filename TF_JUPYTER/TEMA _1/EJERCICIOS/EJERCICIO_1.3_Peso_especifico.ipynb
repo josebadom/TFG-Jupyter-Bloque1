{
 "cells": [
  {
   "cell_type": "markdown",
   "id": "9af90a2d",
   "metadata": {},
   "source": [
    "<details open>\n",
    "  <summary>Pulsa <b><font color=\"#800080\">AQUÍ</font></b> para ocultar/mostrar el tutorial</summary>\n",
    "    <center><b>TUTORIAL</b></center>\n",
    "    <img src=\"../MEDIA/small_tut.png\" style=\"width:70%\">\n",
    "</details>"
   ]
  },
  {
   "cell_type": "code",
   "execution_count": 1,
   "id": "0069c0e1",
   "metadata": {},
   "outputs": [
    {
     "data": {
      "text/html": [
       "\n",
       "<script>\n",
       "code_show=true;\n",
       "\n",
       "function confirmar() {\n",
       "        if (code_show==false) {\n",
       "            \n",
       "            let confirmar = confirm(\"¿Estás seguro de que deseas MOSTRAR las celdas de código?\"); // Popup de confirmacion\n",
       "                \n",
       "                if (confirmar==true){$('div.input').show();} // Muestra las celdas de codigo\n",
       "                else {code_show=!code_show}\n",
       "        }\n",
       "        \n",
       "        else {$('div.input').hide();} // Oculta las celdas de codigo\n",
       "        \n",
       "    code_show=!code_show\n",
       "}\n",
       "\n",
       "\n",
       "function toggle() {\n",
       "    \n",
       "    boton1.innerHTML = code_show ? 'Ocultar código' : 'Mostrar código'; // Cambia el texto del boton\n",
       "    boton2.innerHTML = boton1.innerHTML\n",
       "}\n",
       "\n",
       "$( document ).ready(confirmar); // Ejecuta la funcion confirmar cuando se carga el documento\n",
       "</script>\n",
       "\n",
       "<button onclick=\"confirmar() ; toggle()\" class=\"button-85\" id=\"boton1\"> Mostrar código </button>\n"
      ],
      "text/plain": [
       "<IPython.core.display.HTML object>"
      ]
     },
     "execution_count": 1,
     "metadata": {},
     "output_type": "execute_result"
    }
   ],
   "source": [
    "from IPython.display import HTML,Javascript\n",
    "HTML('''\n",
    "<script>\n",
    "code_show=true;\n",
    "\n",
    "function confirmar() {\n",
    "        if (code_show==false) {\n",
    "            \n",
    "            let confirmar = confirm(\"¿Estás seguro de que deseas MOSTRAR las celdas de código?\"); // Popup de confirmacion\n",
    "                \n",
    "                if (confirmar==true){$('div.input').show();} // Muestra las celdas de codigo\n",
    "                else {code_show=!code_show}\n",
    "        }\n",
    "        \n",
    "        else {$('div.input').hide();} // Oculta las celdas de codigo\n",
    "        \n",
    "    code_show=!code_show\n",
    "}\n",
    "\n",
    "\n",
    "function toggle() {\n",
    "    \n",
    "    boton1.innerHTML = code_show ? 'Ocultar código' : 'Mostrar código'; // Cambia el texto del boton\n",
    "    boton2.innerHTML = boton1.innerHTML\n",
    "}\n",
    "\n",
    "$( document ).ready(confirmar); // Ejecuta la funcion confirmar cuando se carga el documento\n",
    "</script>\n",
    "\n",
    "<button onclick=\"confirmar() ; toggle()\" class=\"button-85\" id=\"boton1\"> Mostrar código </button>\n",
    "''')"
   ]
  },
  {
   "cell_type": "markdown",
   "id": "26317421",
   "metadata": {},
   "source": [
    "\n",
    "\n",
    "<div class=\"texto\"><div id=\"top\"><p><p style=\"text-align: justify;\"><span style=\"color: #ff9900;\"><strong>Ejercicio 3&nbsp;</strong></span>   \n",
    "La densidad absoluta de un compuesto es $\\rho_{compuesto}=1600kg/m^3$. Calcular:\n",
    "<div class=\"texto\">\n",
    "<ol class=\"enunciado\">    \n",
    "        <li> Peso especifico, densidad relativa y peso especifico realtivo en la tierra. $(g_{tierra}=9,81m/s^2)$</li>\n",
    "        <li> Peso especifico, densidad relativa y peso especifico realtivo en la luna. $(g_{luna}=1,65m/s^2)$ </li>\n",
    "     </ol>\n",
    "</div>\n",
    "<p style=\"text-align: justify;\"><strong>Datos:&nbsp;</strong>Densidad agua: $\\rho_{agua}=1000 kg/m^3$</p>\n",
    "</div>"
   ]
  },
  {
   "cell_type": "markdown",
   "id": "56c4ad34",
   "metadata": {},
   "source": [
    "<div class=\"antesDe\">\n",
    "<ul>\n",
    "    <li><strong>CONCEPTOS PREVIOS</strong></li>\n",
    "    <ul>\n",
    "        <li>DENSIDAD ABSOLUTA Y RELATIVA.</li>\n",
    "        <ul> \n",
    "            <li><p class=\"formulas\">$\\rho=\\frac{masa}{volumen}= \\frac{m}{V} (\\frac{kg}{m^3})$<p/></li>\n",
    "            <li><p class=\"formulas\">$S= \\frac{\\rho_{_{compuesto}}}{\\rho_{_{agua}}} (Adimensional)$<p/></li>\n",
    "            <li><i></i></li>\n",
    "         </ul>\n",
    "        <li>PESO ESPECIFICO Y PESO ESPECIFICO RELATIVO.</li>\n",
    "        <ul> \n",
    "            <li><p class=\"formulas\">$\\gamma=\\frac{peso}{volumen}=\\frac{W}{V}= \\frac{m·g}{V} (\\frac{N}{m^3}) $<p/></li>\n",
    "            <li><p class=\"formulas\">$ S= \\frac{\\rho_{_{compuesto}}}{\\rho_{_{agua}}}= \\frac{\\gamma_{_{compuesto}}}{\\gamma_{_{agua}}} (Adimensional) $<p/></li>\n",
    "            <li><i></i></li>\n",
    "            \n",
    "         \n",
    "<li><strong>FALLO TÍPICO $\\rightarrow$ CONFUNDIR MASA (kg) CON PESO (N). </strong></li>\n",
    "    <ul><li>La<strong> masa </strong> se mide en <strong>kilogramos (kg) </strong> y no depende de la gravedad, en cambio el <strong> Peso </strong> se mide en  <strong>Newtons (N)</strong> y por lo tanto <strong>SI</strong> depende de la gravedad.</li></ul>\n",
    "\n",
    "</ul>\n",
    "<div>"
   ]
  },
  {
   "cell_type": "markdown",
   "id": "fbbea2fd",
   "metadata": {},
   "source": [
    "<h2>a) Calcular: Peso especifico, densidad relativa y peso especifico realtivo en la tierra. $(g_{tierra}=9,81m/s^2)$</h2>"
   ]
  },
  {
   "cell_type": "markdown",
   "id": "08a5dde9",
   "metadata": {},
   "source": [
    "El peso espeficico se calcula como:\n",
    "<p class=\"formulas\"> $$\\gamma=\\frac{peso}{volumen}=\\frac{W}{V}= \\frac{m·g}{V} = \\rho · g  $$ <p>"
   ]
  },
  {
   "cell_type": "markdown",
   "id": "6b63de3f",
   "metadata": {},
   "source": [
    "Y la densidad relativa = peso especifico relativo:\n",
    "<p class=\"formulas\"> $$ S= \\frac{\\rho_{_{compuesto}}}{\\rho_{_{agua}}}= \\frac{\\gamma_{_{compuesto}}}{\\gamma_{_{agua}}}  $$ <p>"
   ]
  },
  {
   "cell_type": "code",
   "execution_count": 2,
   "id": "ee4b9914",
   "metadata": {},
   "outputs": [
    {
     "data": {
      "application/vnd.jupyter.widget-view+json": {
       "model_id": "952e108d4e53486aa02c85d1ec169076",
       "version_major": 2,
       "version_minor": 0
      },
      "text/plain": [
       "BoundedFloatText(value=1600.0, description='Densidad $ \\\\rho_{compuesto} \\\\ [kg/m^3]$', layout=Layout(width='4…"
      ]
     },
     "metadata": {},
     "output_type": "display_data"
    },
    {
     "data": {
      "text/html": [
       "\n",
       "<style>\n",
       "    .widget-label { width: 35ex !important;text-align:left !important; }    \n",
       "</style>"
      ],
      "text/plain": [
       "<IPython.core.display.HTML object>"
      ]
     },
     "metadata": {},
     "output_type": "display_data"
    }
   ],
   "source": [
    "from ipywidgets import interact, interactive, Checkbox, VBox\n",
    "from IPython.display import HTML, display\n",
    "import ipywidgets as widgets\n",
    "\n",
    "\n",
    "rho = widgets.BoundedFloatText(\n",
    "    value=1600,\n",
    "    layout=widgets.Layout(width=\"45ex\"),\n",
    "    description='Densidad $ \\\\rho_{compuesto} \\\\ [kg/m^3]$',\n",
    "    disabled=False,\n",
    "    min=0, max=9999,\n",
    ")\n",
    "\n",
    "display(rho)\n",
    "\n",
    "display(HTML('''\n",
    "<style>\n",
    "    .widget-label { width: 35ex !important;text-align:left !important; }    \n",
    "</style>'''))\n"
   ]
  },
  {
   "cell_type": "code",
   "execution_count": 3,
   "id": "b6c15cea",
   "metadata": {},
   "outputs": [
    {
     "data": {
      "text/html": [
       "\n",
       "<button onclick=\"ejecutar(9,11)\">Calcular</button>\n",
       "<button onclick=\"ejecutar(7,8)\">Reiniciar variables</button>\n",
       "<script>function ejecutar(desde, hasta){\n",
       "    for(i = desde; i < hasta; i++)\n",
       "Jupyter.notebook.execute_cells([i])    \n",
       "}</script>"
      ],
      "text/plain": [
       "<IPython.core.display.HTML object>"
      ]
     },
     "execution_count": 3,
     "metadata": {},
     "output_type": "execute_result"
    }
   ],
   "source": [
    "from IPython.display import HTML\n",
    "HTML('''\n",
    "<button onclick=\"ejecutar(9,11)\">Calcular</button>\n",
    "<button onclick=\"ejecutar(7,8)\">Reiniciar variables</button>\n",
    "<script>function ejecutar(desde, hasta){\n",
    "    for(i = desde; i < hasta; i++)\n",
    "Jupyter.notebook.execute_cells([i])    \n",
    "}</script>''')"
   ]
  },
  {
   "cell_type": "code",
   "execution_count": 4,
   "id": "c1f70388",
   "metadata": {},
   "outputs": [
    {
     "data": {
      "text/html": [
       " $$\\gamma_{tierra}= 1600.0(kg/m^3)·9.81(m/s^2)=\\fbox { 15696.0 $N/m^3$ }$$"
      ],
      "text/plain": [
       "<IPython.core.display.HTML object>"
      ]
     },
     "metadata": {},
     "output_type": "display_data"
    },
    {
     "data": {
      "text/html": [
       " $$ S=\\frac{\\rho_{compuesto}}{\\rho_{agua}}= \\frac{\\gamma_{compuesto}}{\\gamma_{agua}}=\\frac{1600.0}{1000}=\\fbox{ 1.6 (Adimensional)}$$"
      ],
      "text/plain": [
       "<IPython.core.display.HTML object>"
      ]
     },
     "metadata": {},
     "output_type": "display_data"
    }
   ],
   "source": [
    "from IPython.display import HTML, display, Latex\n",
    "from IPython.display import Markdown as md\n",
    "\n",
    "g_tierra=9.81\n",
    "rho_agua=1000\n",
    "\n",
    "if (rho.value==0):\n",
    "    display(HTML('<b><FONT COLOR=\"RED\">La densidad no puede ser 0!</b>'))    \n",
    "else:\n",
    "    gamma=rho.value*g_tierra\n",
    "    s=rho.value/rho_agua\n",
    "    display(HTML(f' $$\\\\gamma_{{tierra}}= {rho.value}(kg/m^3)·{g_tierra}(m/s^2)=\\\\fbox {{ {gamma} $N/m^3$ }}$$'))\n",
    "    display(HTML(f' $$ S=\\\\frac{{\\\\rho_{{compuesto}}}}{{\\\\rho_{{agua}}}}= \\\\frac{{\\\\gamma_{{compuesto}}}}{{\\\\gamma_{{agua}}}}=\\\\frac{{{rho.value}}}{{{rho_agua}}}=\\\\fbox{{ {s} (Adimensional)}}$$'))"
   ]
  },
  {
   "cell_type": "code",
   "execution_count": 5,
   "id": "12441d81",
   "metadata": {},
   "outputs": [
    {
     "data": {
      "text/html": [
       "\n",
       "\n",
       "</script>\n",
       "<button onclick=\"confirmar() ; toggle()\" class=\"button-85\" id=\"boton2\"> Mostrar código </button>\n",
       "\n"
      ],
      "text/plain": [
       "<IPython.core.display.HTML object>"
      ]
     },
     "execution_count": 5,
     "metadata": {},
     "output_type": "execute_result"
    }
   ],
   "source": [
    "from IPython.display import HTML,Javascript\n",
    "\n",
    "HTML('''\n",
    "\n",
    "</script>\n",
    "<button onclick=\"confirmar() ; toggle()\" class=\"button-85\" id=\"boton2\"> Mostrar código </button>\n",
    "\n",
    "''')"
   ]
  },
  {
   "cell_type": "markdown",
   "id": "bdef7c9b",
   "metadata": {},
   "source": [
    "<h2>b) Calcular: Peso especifico, densidad relativa y peso especifico realtivo en la luna.    $(g_{luna}=1,65/s^2)$</h2>"
   ]
  },
  {
   "cell_type": "code",
   "execution_count": 6,
   "id": "c7c62787",
   "metadata": {},
   "outputs": [
    {
     "data": {
      "application/vnd.jupyter.widget-view+json": {
       "model_id": "424f55082f954646bbdd0b2d3d2acc61",
       "version_major": 2,
       "version_minor": 0
      },
      "text/plain": [
       "BoundedFloatText(value=1600.0, description='Densidad $\\\\rho_{compuesto} \\\\ [kg/m^3]$', layout=Layout(width='35…"
      ]
     },
     "metadata": {},
     "output_type": "display_data"
    },
    {
     "data": {
      "application/vnd.jupyter.widget-view+json": {
       "model_id": "7477e758321a4fea9b68adad05bd939f",
       "version_major": 2,
       "version_minor": 0
      },
      "text/plain": [
       "BoundedFloatText(value=1.65, description='Gravedad planeta $g \\\\ [m/s^2]$', layout=Layout(width='35%'), max=99…"
      ]
     },
     "metadata": {},
     "output_type": "display_data"
    },
    {
     "data": {
      "text/html": [
       "\n",
       "<style>\n",
       "    .widget-label { width: 28ex !important;text-align:left !important; }    \n",
       "</style>"
      ],
      "text/plain": [
       "<IPython.core.display.HTML object>"
      ]
     },
     "metadata": {},
     "output_type": "display_data"
    }
   ],
   "source": [
    "from ipywidgets import interact, interactive, Checkbox, VBox\n",
    "from IPython.display import HTML, display\n",
    "import ipywidgets as widgets\n",
    "\n",
    "\n",
    "rho = widgets.BoundedFloatText(\n",
    "    value=1600,\n",
    "    layout=widgets.Layout(width=\"35%\"),\n",
    "    description='Densidad $\\\\rho_{compuesto} \\\\ [kg/m^3]$',\n",
    "    disabled=False,\n",
    "    min=0, max=9999,\n",
    ")\n",
    "g_luna = widgets.BoundedFloatText(\n",
    "    value=1.65,\n",
    "    layout=widgets.Layout(width=\"35%\"),\n",
    "    description='Gravedad planeta $g \\\\ [m/s^2]$',\n",
    "    disabled=False,\n",
    "    min=0, max=9999,\n",
    ")\n",
    "\n",
    "display(rho)\n",
    "display(g_luna)\n",
    "\n",
    "display(HTML('''\n",
    "<style>\n",
    "    .widget-label { width: 28ex !important;text-align:left !important; }    \n",
    "</style>'''))\n"
   ]
  },
  {
   "cell_type": "code",
   "execution_count": 7,
   "id": "29dd0cbf",
   "metadata": {},
   "outputs": [
    {
     "data": {
      "text/html": [
       "\n",
       "<button onclick=\"ejecutar(14,16)\">Calcular</button>\n",
       "<button onclick=\"ejecutar(12,14)\">Reiniciar variables</button>\n",
       "<script>function ejecutar(desde, hasta){\n",
       "    for(i = desde; i < hasta; i++)\n",
       "Jupyter.notebook.execute_cells([i])    \n",
       "}</script>"
      ],
      "text/plain": [
       "<IPython.core.display.HTML object>"
      ]
     },
     "execution_count": 7,
     "metadata": {},
     "output_type": "execute_result"
    }
   ],
   "source": [
    "from IPython.display import HTML\n",
    "HTML('''\n",
    "<button onclick=\"ejecutar(14,16)\">Calcular</button>\n",
    "<button onclick=\"ejecutar(12,14)\">Reiniciar variables</button>\n",
    "<script>function ejecutar(desde, hasta){\n",
    "    for(i = desde; i < hasta; i++)\n",
    "Jupyter.notebook.execute_cells([i])    \n",
    "}</script>''')"
   ]
  },
  {
   "cell_type": "code",
   "execution_count": 8,
   "id": "2b8980ee",
   "metadata": {},
   "outputs": [
    {
     "data": {
      "text/html": [
       " $$\\gamma_{luna}= 1600.0(kg/m^3)·1.65(m/s^2)=\\fbox { 2640.0 $N/m^3$ }$$"
      ],
      "text/plain": [
       "<IPython.core.display.HTML object>"
      ]
     },
     "metadata": {},
     "output_type": "display_data"
    },
    {
     "data": {
      "text/html": [
       " $$ S=\\frac{\\rho_{compuesto}}{\\rho_{agua}}= \\frac{\\gamma_{compuesto}}{\\gamma_{agua}}=\\frac{1600.0}{1000}=\\fbox{ 1.6 (Adimensional)}$$"
      ],
      "text/plain": [
       "<IPython.core.display.HTML object>"
      ]
     },
     "metadata": {},
     "output_type": "display_data"
    }
   ],
   "source": [
    "from IPython.display import HTML, display, Latex\n",
    "from IPython.display import Markdown as md\n",
    "\n",
    "g_tierra=9.81\n",
    "rho_agua=1000\n",
    "\n",
    "\n",
    "if (rho.value==0):\n",
    "    display(HTML('<b><FONT COLOR=\"RED\">La densidad no puede ser 0!</b>'))    \n",
    "else:\n",
    "    gamma_luna=rho.value*g_luna.value\n",
    "    s=rho.value/rho_agua\n",
    "    display(HTML(f' $$\\\\gamma_{{luna}}= {rho.value}(kg/m^3)·{g_luna.value}(m/s^2)=\\\\fbox {{ {gamma_luna} $N/m^3$ }}$$'))\n",
    "    display(HTML(f' $$ S=\\\\frac{{\\\\rho_{{compuesto}}}}{{\\\\rho_{{agua}}}}= \\\\frac{{\\\\gamma_{{compuesto}}}}{{\\\\gamma_{{agua}}}}=\\\\frac{{{rho.value}}}{{{rho_agua}}}=\\\\fbox{{ {s} (Adimensional)}}$$'))"
   ]
  },
  {
   "cell_type": "code",
   "execution_count": 9,
   "id": "25296e3e",
   "metadata": {},
   "outputs": [
    {
     "data": {
      "text/html": [
       "\n",
       "\n",
       "</script>\n",
       "<button onclick=\"confirmar() ; toggle()\" class=\"button-85\" id=\"boton2\"> Mostrar código </button>\n",
       "\n"
      ],
      "text/plain": [
       "<IPython.core.display.HTML object>"
      ]
     },
     "execution_count": 9,
     "metadata": {},
     "output_type": "execute_result"
    }
   ],
   "source": [
    "from IPython.display import HTML,Javascript\n",
    "\n",
    "HTML('''\n",
    "\n",
    "</script>\n",
    "<button onclick=\"confirmar() ; toggle()\" class=\"button-85\" id=\"boton2\"> Mostrar código </button>\n",
    "\n",
    "''')"
   ]
  },
  {
   "cell_type": "markdown",
   "id": "e39cd64f",
   "metadata": {},
   "source": [
    "[Volver al enunciado.](#top)"
   ]
  },
  {
   "cell_type": "code",
   "execution_count": 10,
   "id": "89f6a82e",
   "metadata": {},
   "outputs": [
    {
     "data": {
      "text/html": [
       "\n",
       "<script>\n",
       "window.location=\"EJERCICIO_1.3_Peso_especifico.ipynb#top\";\n",
       "</script>"
      ],
      "text/plain": [
       "<IPython.core.display.HTML object>"
      ]
     },
     "execution_count": 10,
     "metadata": {},
     "output_type": "execute_result"
    }
   ],
   "source": [
    "from IPython.display import HTML\n",
    "HTML('''\n",
    "<script>\n",
    "window.location=\"EJERCICIO_1.3_Peso_especifico.ipynb#top\";\n",
    "</script>''')\n"
   ]
  }
 ],
 "metadata": {
  "kernelspec": {
   "display_name": "Python 3 (ipykernel)",
   "language": "python",
   "name": "python3"
  },
  "language_info": {
   "codemirror_mode": {
    "name": "ipython",
    "version": 3
   },
   "file_extension": ".py",
   "mimetype": "text/x-python",
   "name": "python",
   "nbconvert_exporter": "python",
   "pygments_lexer": "ipython3",
   "version": "3.9.12"
  }
 },
 "nbformat": 4,
 "nbformat_minor": 5
}
