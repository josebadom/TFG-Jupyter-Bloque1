{
 "cells": [
  {
   "cell_type": "markdown",
   "id": "c5ec8b49",
   "metadata": {},
   "source": [
    "<details open>\n",
    "  <summary>Pulsa <b><font color=\"#800080\">AQUÍ</font></b> para ocultar/mostrar el tutorial</summary>\n",
    "    <center><b>TUTORIAL</b></center>\n",
    "    <img src=\"../MEDIA/small_tut.png\" style=\"width:70%\">\n",
    "</details>"
   ]
  },
  {
   "cell_type": "code",
   "execution_count": 1,
   "id": "c520aa80",
   "metadata": {},
   "outputs": [
    {
     "data": {
      "text/html": [
       "\n",
       "<script>\n",
       "code_show=true;\n",
       "\n",
       "function confirmar() {\n",
       "        if (code_show==false) {\n",
       "            \n",
       "            let confirmar = confirm(\"¿Estás seguro de que deseas MOSTRAR las celdas de código?\"); // Popup de confirmacion\n",
       "                \n",
       "                if (confirmar==true){$('div.input').show();} // Muestra las celdas de codigo\n",
       "                else {code_show=!code_show}\n",
       "        }\n",
       "        \n",
       "        else {$('div.input').hide();} // Oculta las celdas de codigo\n",
       "        \n",
       "    code_show=!code_show\n",
       "}\n",
       "\n",
       "\n",
       "function toggle() {\n",
       "    \n",
       "    boton1.innerHTML = code_show ? 'Ocultar código' : 'Mostrar código'; // Cambia el texto del boton\n",
       "    boton2.innerHTML = boton1.innerHTML\n",
       "}\n",
       "\n",
       "$( document ).ready(confirmar); // Ejecuta la funcion confirmar cuando se carga el documento\n",
       "</script>\n",
       "\n",
       "<button onclick=\"confirmar() ; toggle()\" class=\"button-85\" id=\"boton1\"> Mostrar código </button>\n"
      ],
      "text/plain": [
       "<IPython.core.display.HTML object>"
      ]
     },
     "execution_count": 1,
     "metadata": {},
     "output_type": "execute_result"
    }
   ],
   "source": [
    "from IPython.display import HTML,Javascript\n",
    "HTML('''\n",
    "<script>\n",
    "code_show=true;\n",
    "\n",
    "function confirmar() {\n",
    "        if (code_show==false) {\n",
    "            \n",
    "            let confirmar = confirm(\"¿Estás seguro de que deseas MOSTRAR las celdas de código?\"); // Popup de confirmacion\n",
    "                \n",
    "                if (confirmar==true){$('div.input').show();} // Muestra las celdas de codigo\n",
    "                else {code_show=!code_show}\n",
    "        }\n",
    "        \n",
    "        else {$('div.input').hide();} // Oculta las celdas de codigo\n",
    "        \n",
    "    code_show=!code_show\n",
    "}\n",
    "\n",
    "\n",
    "function toggle() {\n",
    "    \n",
    "    boton1.innerHTML = code_show ? 'Ocultar código' : 'Mostrar código'; // Cambia el texto del boton\n",
    "    boton2.innerHTML = boton1.innerHTML\n",
    "}\n",
    "\n",
    "$( document ).ready(confirmar); // Ejecuta la funcion confirmar cuando se carga el documento\n",
    "</script>\n",
    "\n",
    "<button onclick=\"confirmar() ; toggle()\" class=\"button-85\" id=\"boton1\"> Mostrar código </button>\n",
    "''')"
   ]
  },
  {
   "cell_type": "markdown",
   "id": "375db807",
   "metadata": {},
   "source": [
    "<div class=\"texto\"><div id=\"top\">\n",
    "<p><p style=\"text-align: justify;\"><span style=\"color: #ff9900;\"><strong>Ejercicio 2&nbsp;</strong></span>\n",
    "</div>\n",
    "<div class=\"split\">\n",
    "    <div class=\"dcha\"><img src=\"../MEDIA/EJ1.2.PNG\" width='40%'></div>\n",
    "    <div class=\"izq\"><div class=\"texto\">\n",
    "        <ol class=\"enunciado\">    \n",
    "        <li> Calcular la densidad del Helio a 15&ordm;C y 1 bar de presi&oacute;n absoluta.</li>\n",
    "        <li> En un recipiente rigido $(V=cte)$ hay inicialmente 1kg de Helio a 15ºC y un manómetro marca 9 MPa de presión. Calcular la presión absoluta en mmHg si al final hay 2,5kg de Helio a 110ºC.</li>\n",
    "        </ol>\n",
    "        \n",
    "            \n",
    "       \n",
    "        \n",
    "</div>\n",
    "</div>\n",
    "</div>\n",
    "</div>\n",
    "<br>\n",
    "<p style=\"text-align: justify;\"><strong>Datos:&nbsp;</strong>$R=0,082 atm·l/K·mol$, Peso molecular $(He) = 4 g/mol$, $P_{atm}=750 mmcHg$</p>\n",
    "\n",
    "</div>\n",
    "</div>\n",
    "    \n",
    "\n"
   ]
  },
  {
   "cell_type": "markdown",
   "id": "425cc49b",
   "metadata": {},
   "source": [
    "<div class=\"antesDe\">\n",
    "<ul>\n",
    "    <li><strong>CONCEPTOS PREVIOS</strong></li>\n",
    "    <ul>\n",
    "        <li>ECUACION DE LOS GASES IDEALES. UNIDADES.</li>\n",
    "        <ul> \n",
    "            <li><p class=\"formulas\">$ P_{(Pa \\Leftrightarrow N/m^2)}·V_{(m^3)}=m_{(kg)}·R'_{(J/kg·K\\Leftrightarrow N·m/kg·K)}·T_{(K)} $<p/></li>\n",
    "            <li><i>Todos los gases a <strong>altas temperaturas</strong> y <strong>bajas presiones</strong> (relativas a su punto crítico)\n",
    "cumplen la ley de los gases perfectos.</i></li>\n",
    "         </ul>\n",
    "        <li>ESCALAS DE PRESIÓN. PRESIÓN ABSOLUTA Y PRESIÓN MANOMÉTRICA.</li>\n",
    "        <ul> \n",
    "            <li><p class=\"formulas\">$P_{_{abs}}= P_{_{atm}}+ P_{_{man}}$<p/></li>\n",
    "            <li><i>La diferencia entre las dos escalas es el origen que se toma como referencia para medir la presión. Para la <strong>presión absoluta</strong> el origen es el <strong>VACÍO</strong>. Para la <strong>presión manométrica</strong> el origen es <strong>la presión de la atmósfera local</strong>.</i></li>\n",
    "            <li><i><strong>NO SE PUEDEN MEZCLAR AMBAS ESCALAS</strong></i></li>\n",
    "         </ul>\n",
    "<li><strong>FALLO TÍPICO $\\rightarrow$ NO ESTUDIARSE LOS CAMBIOS DE UNIDADES </strong></li>\n",
    "    <ul><li>El mal uso de las <strong> unidades </strong> para la <strong> presión P </strong> y la <strong> temperatura T </strong>, y la identificación de los valores correctos de la <strong>constante de los gases R</strong>, son errores comunes en los ejercicios y exámenes.</li></ul>\n",
    "\n",
    "</ul>\n",
    "\n",
    "\n",
    "\n",
    "<div>"
   ]
  },
  {
   "cell_type": "markdown",
   "id": "45c08e9a",
   "metadata": {},
   "source": [
    "<h2>a) Calcular la densidad del Helio $(m^3/kg)$.</h2>\n",
    "\n",
    "<p style=\"text-align: justify;\"><strong>Datos:&nbsp;</strong>$R=0,082 atm·l/K·mol$, Peso molecular $(He) = 4 g/mol$, $P_{atm}=750 mmcHg$</p>"
   ]
  },
  {
   "cell_type": "markdown",
   "id": "bf721c45",
   "metadata": {},
   "source": [
    "Partimos de la ecuacion de estado de los gases ideales:"
   ]
  },
  {
   "cell_type": "markdown",
   "id": "1c9d4958",
   "metadata": {},
   "source": [
    "\n",
    "<p class=\"formulas\">$$ P_{(N/m^2)}·V_{(m^3)}=m_{(kg)}·R'_{(N·m/kg·K)}·T_{(K)} $$<p/>"
   ]
  },
  {
   "cell_type": "markdown",
   "id": "640a90f7",
   "metadata": {},
   "source": [
    "Donde R':"
   ]
  },
  {
   "cell_type": "markdown",
   "id": "a782a6ce",
   "metadata": {},
   "source": [
    "<p class=\"formulas\">$$ \\require{cancel} R'=\\frac{R \\left( \\frac{atm·l}{K·mol} \\right)}{M\\left(\\frac{kg}{mol}\\right)}=\\frac{101,325\\left(\\frac{N·m}{atm·l}\\right)·R\\left(\\frac{atm·l}{K·mol}\\right)}{10^{-3}\\left(\\frac{kg}{g}\\right)·M\\left(\\frac{g}{mol}\\right)}=\\frac{101,325·R}{10^{-3}·M}·\\frac{\\frac{N·m}{\\cancel{atm·l}}·\\frac{\\cancel{atm·l}}{K·\\cancel{mol}}}{\\frac{kg}{\\cancel{g}}·\\frac{\\cancel{g}}{\\cancel{mol}}}$$\n",
    "$$R'=\\frac{101,325·R}{10^{-3}·M}\\left(\\frac{N·m}{kg·K}\\right)$$\n",
    "\n"
   ]
  },
  {
   "cell_type": "markdown",
   "id": "29bfd623",
   "metadata": {},
   "source": [
    "Sabemos que la densidad es $\\rho=m/V$, por lo tanto despejamos:"
   ]
  },
  {
   "cell_type": "markdown",
   "id": "2232c4a5",
   "metadata": {},
   "source": [
    "<p class=\"formulas\">$$\\rho_{(kg/m^3)}=\\frac{m}{V}=\\frac{P_{(Pa)}}{R'\\left(\\frac{N·m}{kg·K}\\right)·T_{(K)}}=\\frac{P_{(bar)}·10^5}{R'\\left(\\frac{N·m}{kg·K}\\right)·(T_{(ºC)}+273,15)}$$</p>"
   ]
  },
  {
   "cell_type": "markdown",
   "id": "a3720311",
   "metadata": {},
   "source": [
    "<div class=\"alert alert-warning\">\n",
    "   Nota:&emsp;&emsp;&emsp;$ 1 bar= 750 mmHg = 10^5 N·m = 10^5 Pa $\n",
    "</div>"
   ]
  },
  {
   "cell_type": "code",
   "execution_count": 2,
   "id": "12489e98",
   "metadata": {
    "scrolled": false
   },
   "outputs": [
    {
     "data": {
      "application/vnd.jupyter.widget-view+json": {
       "model_id": "b7b1e21bdc8449019ee7c0390e634ef9",
       "version_major": 2,
       "version_minor": 0
      },
      "text/plain": [
       "Checkbox(value=False, description='Abrir seleccion de Gases', layout=Layout(width='50%'))"
      ]
     },
     "metadata": {},
     "output_type": "display_data"
    },
    {
     "data": {
      "application/vnd.jupyter.widget-view+json": {
       "model_id": "6750b112aacb489d8ec82520fff9fe7c",
       "version_major": 2,
       "version_minor": 0
      },
      "text/plain": [
       "VBox(children=(BoundedFloatText(value=4.0, description='Peso molecular $M$ $[g/mol]$', disabled=True, max=9999…"
      ]
     },
     "metadata": {},
     "output_type": "display_data"
    },
    {
     "data": {
      "text/html": [
       "\n",
       "<style>\n",
       "    .widget-label { width: 30ex !important;text-align:left !important; }    \n",
       "</style>"
      ],
      "text/plain": [
       "<IPython.core.display.HTML object>"
      ]
     },
     "metadata": {},
     "output_type": "display_data"
    }
   ],
   "source": [
    "from ipywidgets import interact, interactive, Checkbox, VBox\n",
    "from IPython.display import HTML, display\n",
    "import ipywidgets as widgets\n",
    "\n",
    "\n",
    "E=widgets.Dropdown(\n",
    "    options=[('Aire', 29),\n",
    "             ('Monoxido de Carbono', 28), \n",
    "             ('Helio', 4), \n",
    "             ('Hidrogeno', 2.02),\n",
    "             ('Nitrogeno', 28), \n",
    "             ('Oxigeno', 32), \n",
    "             ('Vapor de Agua', 18),\n",
    "             ('Elemento',1)], \n",
    "\n",
    "    description='Elemento',\n",
    "    value=4,\n",
    "    disabled=False,)\n",
    "\n",
    "M= widgets.BoundedFloatText(\n",
    "    value=4,\n",
    "    description='Peso molecular $M$ $[g/mol]$',\n",
    "    disabled=True,\n",
    "    min=1, max=9999,\n",
    ")\n",
    "T= widgets.BoundedFloatText(\n",
    "    value=15,\n",
    "    description='Temperatura $T$ $[ºC]$',\n",
    "    disabled=False,\n",
    "    min=-273, max=9999,\n",
    ")\n",
    "P= widgets.BoundedFloatText(\n",
    "    value=1,\n",
    "    description='Presión $P$ $[bar]$',\n",
    "    disabled=False,\n",
    "    min=0, max=9999,\n",
    ")\n",
    "\n",
    "L=widgets.dlink((E, 'value'), (M, 'value'))\n",
    "\n",
    "vb = VBox(children = [E, M, T, P])\n",
    "vb.children = [M, T, P]\n",
    "E_toggle = Checkbox(description='Abrir seleccion de Gases', layout=widgets.Layout(width='50%'))\n",
    "\n",
    "def open_E(button):\n",
    "    if button['new']:\n",
    "        vb.children = [E, M, T, P]\n",
    "        vb.children[1].disabled = True\n",
    "       \n",
    "    else:\n",
    "        vb.children = [M, T, P]\n",
    "        vb.children[0].disabled = False\n",
    "        vb.children[0].value = 1\n",
    "        E.value=1\n",
    "        \n",
    "def unlock_M(change):\n",
    "    if E.value == 1:\n",
    "        vb.children[1].disabled = False\n",
    "    else:\n",
    "        vb.children[1].disabled = True\n",
    "    \n",
    "E.observe(unlock_M, names='value')\n",
    "E_toggle.observe(open_E, names='value')\n",
    "\n",
    "display(E_toggle)\n",
    "display(vb)\n",
    "\n",
    "display(HTML('''\n",
    "<style>\n",
    "    .widget-label { width: 30ex !important;text-align:left !important; }    \n",
    "</style>'''))\n",
    "\n",
    "\n"
   ]
  },
  {
   "cell_type": "code",
   "execution_count": 3,
   "id": "fae33e21",
   "metadata": {
    "scrolled": true
   },
   "outputs": [
    {
     "data": {
      "text/html": [
       "\n",
       "<button onclick=\"ejecutar(14,17)\">Calcular</button>\n",
       "<button onclick=\"ejecutar(12,14)\">Reiniciar variables</button>\n",
       "<script>function ejecutar(desde, hasta){\n",
       "    for(i = desde; i < hasta; i++)\n",
       "Jupyter.notebook.execute_cells([i])    \n",
       "}</script>"
      ],
      "text/plain": [
       "<IPython.core.display.HTML object>"
      ]
     },
     "execution_count": 3,
     "metadata": {},
     "output_type": "execute_result"
    }
   ],
   "source": [
    "from IPython.display import HTML\n",
    "HTML('''\n",
    "<button onclick=\"ejecutar(14,17)\">Calcular</button>\n",
    "<button onclick=\"ejecutar(12,14)\">Reiniciar variables</button>\n",
    "<script>function ejecutar(desde, hasta){\n",
    "    for(i = desde; i < hasta; i++)\n",
    "Jupyter.notebook.execute_cells([i])    \n",
    "}</script>''')"
   ]
  },
  {
   "cell_type": "code",
   "execution_count": 4,
   "id": "64d2b368",
   "metadata": {
    "scrolled": false
   },
   "outputs": [
    {
     "data": {
      "text/html": [
       "$$ R`=\\frac{101,325·0.082}{10^{-3}·4.0}=2077.16 \\left(\\frac{N·m}{kg·K}\\right)$$"
      ],
      "text/plain": [
       "<IPython.core.display.HTML object>"
      ]
     },
     "metadata": {},
     "output_type": "display_data"
    },
    {
     "data": {
      "text/html": [
       "$$\\rho =\\frac{1.000·10^5 }{ 2077.16·288.15} = 0.167 kg/m^3 $$"
      ],
      "text/plain": [
       "<IPython.core.display.HTML object>"
      ]
     },
     "metadata": {},
     "output_type": "display_data"
    },
    {
     "name": "stdout",
     "output_type": "stream",
     "text": [
      "\n"
     ]
    },
    {
     "data": {
      "text/html": [
       "La densidad del Helio con Peso molecular 4.0 g/mol a 15.0 ºC y 1.0 bar es &rarr; $ \\rho_{_{Helio}}= \\fbox{ 0.167 $kg/m^3$ } $"
      ],
      "text/plain": [
       "<IPython.core.display.HTML object>"
      ]
     },
     "metadata": {},
     "output_type": "display_data"
    }
   ],
   "source": [
    "from IPython.display import HTML, display, Latex\n",
    "from IPython.display import Markdown as md\n",
    "\n",
    "R=0.082\n",
    "\n",
    "\n",
    "\n",
    "try:\n",
    "    R_prima=(101.325*R)/(10**(-3)*M.value)\n",
    "    \n",
    "except ZeroDivisionError :\n",
    "    display(HTML('<b><FONT COLOR=\"DARKRED\">Recuerda que el peso molecular no puede ser igual a 0!</b>'))\n",
    "\n",
    "else:\n",
    "    \n",
    "    if (P.value==0):\n",
    "        display(HTML('<b><FONT COLOR=\"DARKRED\">Recuerda que la presión solo puede ser igual a 0 en un vacío perfecto!</b>'))\n",
    "    \n",
    "    else:\n",
    "        T_kelvin=T.value+273.15\n",
    "        densidad=P.value*10**5/(R_prima*T_kelvin)\n",
    "        display(HTML(f'$$ R`=\\\\frac{{101,325·{R}}}{{10^{{-3}}·{M.value}}}={R_prima:.2f} \\\\left(\\\\frac{{N·m}}{{kg·K}}\\\\right)$$'))\n",
    "        display(HTML(f'$$\\\\rho =\\\\frac{{{P.value:.3f}·10^5 }}{{ {R_prima:.2f}·{T_kelvin:.2f}}} = {densidad:.3f} kg/m^3 $$'))\n",
    "        print(\"\")\n",
    "        display(HTML(f'La densidad del {E.label} con Peso molecular {M.value} g/mol a {T.value} ºC y {P.value} bar es &rarr; $ \\\\rho_{{_{{{E.label}}}}}= \\\\fbox{{ {densidad:.3f} $kg/m^3$ }} $'))\n",
    "\n",
    "\n",
    "\n",
    "\n",
    "\n"
   ]
  },
  {
   "cell_type": "code",
   "execution_count": 5,
   "id": "06537aa4",
   "metadata": {},
   "outputs": [
    {
     "data": {
      "text/html": [
       "\n",
       "\n",
       "</script>\n",
       "<button onclick=\"confirmar() ; toggle()\" class=\"button-85\" id=\"boton1\"> Mostrar código </button>\n",
       "\n"
      ],
      "text/plain": [
       "<IPython.core.display.HTML object>"
      ]
     },
     "execution_count": 5,
     "metadata": {},
     "output_type": "execute_result"
    }
   ],
   "source": [
    "from IPython.display import HTML,Javascript\n",
    "\n",
    "HTML('''\n",
    "\n",
    "</script>\n",
    "<button onclick=\"confirmar() ; toggle()\" class=\"button-85\" id=\"boton1\"> Mostrar código </button>\n",
    "\n",
    "''')"
   ]
  },
  {
   "cell_type": "markdown",
   "id": "8fabf461",
   "metadata": {},
   "source": [
    "<h2>b)  Calcula la presión absoluta final del gas $(mmHg)$.</h2>"
   ]
  },
  {
   "cell_type": "markdown",
   "id": "f3f7cbfa",
   "metadata": {},
   "source": [
    "\n",
    "<img src=\"../MEDIA/EJ1.2.1.PNG\" width='50%'>\n",
    "\n"
   ]
  },
  {
   "cell_type": "markdown",
   "id": "45e88155",
   "metadata": {},
   "source": [
    "<p>Al tratarse de un recipiente rigido cerrado:</p>"
   ]
  },
  {
   "cell_type": "markdown",
   "id": "36025b01",
   "metadata": {},
   "source": [
    "<p class=\"formulas\">$$ V_1=V_2 $$"
   ]
  },
  {
   "cell_type": "markdown",
   "id": "91fa16fd",
   "metadata": {},
   "source": [
    "<p>Primero calculamos la presion absoluta en el estado inicial:</p>"
   ]
  },
  {
   "cell_type": "markdown",
   "id": "66b05ea4",
   "metadata": {},
   "source": [
    "<p class=\"formulas\">$$ P^{abs}_{1}=P^{man}_{1}+P_{atm} $$"
   ]
  },
  {
   "cell_type": "markdown",
   "id": "52978d60",
   "metadata": {},
   "source": [
    "<p>V<sub>1</sub> se puede calcular mediante la ecuacion de los gases ideales al ser el resto de variables conocidas:</p>"
   ]
  },
  {
   "cell_type": "markdown",
   "id": "56daa57e",
   "metadata": {},
   "source": [
    "<p class=\"formulas\">$$ P^{abs}_1·V_1= m_1·R'·T_1 $$"
   ]
  },
  {
   "cell_type": "markdown",
   "id": "eaa58ad4",
   "metadata": {},
   "source": [
    "<p>Despejamos el volumen:</p>"
   ]
  },
  {
   "cell_type": "markdown",
   "id": "1fb48754",
   "metadata": {},
   "source": [
    "<p class=\"formulas\">$$ V_1=\\frac{m_1·R'·T_1}{P^{abs}_1} $$"
   ]
  },
  {
   "cell_type": "markdown",
   "id": "bbe1b004",
   "metadata": {},
   "source": [
    "<p>Comprobamos unidades:</p>"
   ]
  },
  {
   "cell_type": "markdown",
   "id": "7f4d95b2",
   "metadata": {},
   "source": [
    "<p class=\"formulas\">\n",
    "$$ V_1(m^3)=\\frac{m_1(kg)·R'\\left(\\frac{N·m}{kg·K}\\right)·T_1(ºC)}{P^{abs}_1(bar)} $$\n",
    "<br>\n",
    "$$ V_1(m^3)=\\frac{m_1(kg)·R'\\left(\\frac{N·m}{kg·K}\\right)·(T_1+273,15)(K)} {P^{abs}_1(bar)·\\frac{10^5Pa}{1 bar}}=(m^3) $$<p>"
   ]
  },
  {
   "cell_type": "code",
   "execution_count": 6,
   "id": "f42b7b3f",
   "metadata": {},
   "outputs": [
    {
     "data": {
      "application/vnd.jupyter.widget-view+json": {
       "model_id": "f429023e3f464403a22118d51558b4ff",
       "version_major": 2,
       "version_minor": 0
      },
      "text/plain": [
       "VBox(children=(BoundedFloatText(value=15.0, description='Temperatura inicial $T_{_1}$ $[ºC]$', max=9999.0, min…"
      ]
     },
     "metadata": {},
     "output_type": "display_data"
    },
    {
     "data": {
      "text/html": [
       "\n",
       "<style>\n",
       "    .widget-label { width: 35ex !important;text-align:left !important; }    \n",
       "</style>"
      ],
      "text/plain": [
       "<IPython.core.display.HTML object>"
      ]
     },
     "metadata": {},
     "output_type": "display_data"
    }
   ],
   "source": [
    "from ipywidgets import interact, interactive, Checkbox, VBox\n",
    "from IPython.display import HTML, display\n",
    "import ipywidgets as widgets\n",
    "\n",
    "\n",
    "T_1= widgets.BoundedFloatText(\n",
    "    value=15,\n",
    "    description='Temperatura inicial $T_{_1}$ $[ºC]$',\n",
    "    disabled=False,\n",
    "    min=-273, max=9999,\n",
    ")\n",
    "Pman_1= widgets.BoundedFloatText(\n",
    "    value=9,\n",
    "    description='P.man inicial $P^{man}_{1}$ $[MPa]$',\n",
    "    disabled=False,\n",
    "    min=0, max=9999,\n",
    ")\n",
    "\n",
    "m_1= widgets.BoundedFloatText(\n",
    "    value=1,\n",
    "    description='Masa inicial $m_{_1}$ $[kg]$',\n",
    "    disabled=False,\n",
    "    min=0, max=9999,\n",
    ")\n",
    "\n",
    "\n",
    "vb2 = VBox(children = [T_1, Pman_1, m_1])\n",
    "\n",
    "display(vb2)\n",
    "\n",
    "display(HTML('''\n",
    "<style>\n",
    "    .widget-label { width: 35ex !important;text-align:left !important; }    \n",
    "</style>'''))"
   ]
  },
  {
   "cell_type": "code",
   "execution_count": 7,
   "id": "c8372abe",
   "metadata": {},
   "outputs": [
    {
     "data": {
      "text/html": [
       "\n",
       "<button onclick=\"ejecutar(27,56)\">Calcular</button>\n",
       "<button onclick=\"ejecutar(25,27)\">Reiniciar variables</button>\n",
       "<script>function ejecutar(desde, hasta){\n",
       "    for(i = desde; i < hasta; i++)\n",
       "Jupyter.notebook.execute_cells([i])    \n",
       "}</script>"
      ],
      "text/plain": [
       "<IPython.core.display.HTML object>"
      ]
     },
     "execution_count": 7,
     "metadata": {},
     "output_type": "execute_result"
    }
   ],
   "source": [
    "from IPython.display import HTML\n",
    "HTML('''\n",
    "<button onclick=\"ejecutar(27,56)\">Calcular</button>\n",
    "<button onclick=\"ejecutar(25,27)\">Reiniciar variables</button>\n",
    "<script>function ejecutar(desde, hasta){\n",
    "    for(i = desde; i < hasta; i++)\n",
    "Jupyter.notebook.execute_cells([i])    \n",
    "}</script>''')"
   ]
  },
  {
   "cell_type": "code",
   "execution_count": 8,
   "id": "792335f0",
   "metadata": {},
   "outputs": [
    {
     "data": {
      "text/html": [
       "$$P^{abs}_{1}=9.0(MPa)+1(bar)=9100000.0\\ Pa=9.10 \\ MPa$$"
      ],
      "text/plain": [
       "<IPython.core.display.HTML object>"
      ]
     },
     "metadata": {},
     "output_type": "display_data"
    },
    {
     "data": {
      "text/html": [
       "$$\\ $$"
      ],
      "text/plain": [
       "<IPython.core.display.HTML object>"
      ]
     },
     "metadata": {},
     "output_type": "display_data"
    },
    {
     "data": {
      "text/html": [
       "$$ V_1=\\frac{1.0(kg)·2077.16(J/Kg·K)·288.15(K)}{9100000.0(Pa)}=0.066\\ m^3$$"
      ],
      "text/plain": [
       "<IPython.core.display.HTML object>"
      ]
     },
     "metadata": {},
     "output_type": "display_data"
    }
   ],
   "source": [
    "from IPython.display import HTML, display, Latex\n",
    "from IPython.display import Markdown as md\n",
    "\n",
    "R=0.082\n",
    "Patm=1 #bar\n",
    "\n",
    "\n",
    "try:\n",
    "    R_prima=(101.325*R)/(10**(-3)*M.value)\n",
    "    \n",
    "except ZeroDivisionError :\n",
    "    display(HTML('<b><FONT COLOR=\"RED\">Recuerda que el peso molecular en el apartado a) no puede ser 0!</b>'))\n",
    "\n",
    "else:\n",
    "    \n",
    "    if (m_1.value==0):\n",
    "        display(HTML('<b><FONT COLOR=\"RED\">La masa no puede ser 0!</b>'))\n",
    "    \n",
    "    else:\n",
    "        \n",
    "        Tkelvin_1=T_1.value+273.15\n",
    "        \n",
    "        Pabs_1=Pman_1.value*10**6+Patm*10**5\n",
    "        \n",
    "        Pabs_1_MPa= Pabs_1*10**(-6)\n",
    "        \n",
    "        V_1=m_1.value*R_prima*Tkelvin_1/Pabs_1\n",
    "        \n",
    "        \n",
    "        display(HTML(f'$$P^{{abs}}_{{1}}={Pman_1.value}(MPa)+{Patm}(bar)={Pabs_1}\\\\ Pa={Pabs_1_MPa:.2f} \\\\ MPa$$'))\n",
    "        display(HTML(f'$$\\\\ $$'))\n",
    "        display(HTML(f'$$ V_1=\\\\frac{{{m_1.value}(kg)·{R_prima:.2f}(J/Kg·K)·{Tkelvin_1:.2f}(K)}}{{{Pabs_1}(Pa)}}={V_1:.3f}\\\\ m^3$$'))\n",
    "        "
   ]
  },
  {
   "cell_type": "markdown",
   "id": "57832877",
   "metadata": {},
   "source": [
    "Como sabemos que $V_1 = V_2$ podemos despejar $P^{abs}_2$ de la ecuacion de los gases ideales en el estado final:"
   ]
  },
  {
   "cell_type": "markdown",
   "id": "f97563a3",
   "metadata": {},
   "source": [
    "<p class=\"formulas\">$$ P^{abs}_2·V_2= m_2·R'·T_2 $$"
   ]
  },
  {
   "cell_type": "markdown",
   "id": "bcfa9005",
   "metadata": {},
   "source": [
    "Despejamos:\n",
    "<p class=\"formulas\">$$ P^{abs}_2=\\frac{m_2·R'·T_2}{V_1} $$"
   ]
  },
  {
   "cell_type": "code",
   "execution_count": 9,
   "id": "f1ae9154",
   "metadata": {},
   "outputs": [
    {
     "data": {
      "application/vnd.jupyter.widget-view+json": {
       "model_id": "40f2011bc4e0463cb8de77c7ecc2f8f3",
       "version_major": 2,
       "version_minor": 0
      },
      "text/plain": [
       "VBox(children=(BoundedFloatText(value=110.0, description='Temperatura final $T_{_2}$ $[ºC]$', max=9999.0, min=…"
      ]
     },
     "metadata": {},
     "output_type": "display_data"
    },
    {
     "data": {
      "text/html": [
       "\n",
       "<style>\n",
       "    .widget-label { width: 25ex !important;text-align:left !important; }    \n",
       "</style>"
      ],
      "text/plain": [
       "<IPython.core.display.HTML object>"
      ]
     },
     "metadata": {},
     "output_type": "display_data"
    }
   ],
   "source": [
    "from ipywidgets import interact, interactive, Checkbox, VBox\n",
    "from IPython.display import HTML, display\n",
    "import ipywidgets as widgets\n",
    "\n",
    "\n",
    "T_2= widgets.BoundedFloatText(\n",
    "    value=110,\n",
    "    description='Temperatura final $T_{_2}$ $[ºC]$',\n",
    "    disabled=False,\n",
    "    min=-273, max=9999,\n",
    ")\n",
    "V_2= widgets.BoundedFloatText(\n",
    "    value=round(V_1, 3),\n",
    "    description='Volumen recipiente $V_{_2}$ $[m^3]$',\n",
    "    disabled=True,\n",
    "    min=0, max=9999,\n",
    ")\n",
    "\n",
    "m_2= widgets.BoundedFloatText(\n",
    "    value=2.5,\n",
    "    description='Masa final $m_{_2}$ $[kg]$',\n",
    "    disabled=False,\n",
    "    min=0, max=9999,\n",
    ")\n",
    "\n",
    "\n",
    "vb3 = VBox(children = [T_2, V_2, m_2])\n",
    "\n",
    "display(vb3)\n",
    "\n",
    "display(HTML('''\n",
    "<style>\n",
    "    .widget-label { width: 25ex !important;text-align:left !important; }    \n",
    "</style>'''))"
   ]
  },
  {
   "cell_type": "code",
   "execution_count": 10,
   "id": "0a6f0bfb",
   "metadata": {},
   "outputs": [
    {
     "data": {
      "text/html": [
       "\n",
       "<button onclick=\"ejecutar(14,16)\">Calcular</button>\n",
       "<button onclick=\"ejecutar(12,14)\">Reiniciar variables</button>\n",
       "<script>function ejecutar(desde, hasta){\n",
       "    for(i = desde; i < hasta; i++)\n",
       "Jupyter.notebook.execute_cells([i])    \n",
       "}</script>"
      ],
      "text/plain": [
       "<IPython.core.display.HTML object>"
      ]
     },
     "execution_count": 10,
     "metadata": {},
     "output_type": "execute_result"
    }
   ],
   "source": [
    "from IPython.display import HTML\n",
    "HTML('''\n",
    "<button onclick=\"ejecutar(14,16)\">Calcular</button>\n",
    "<button onclick=\"ejecutar(12,14)\">Reiniciar variables</button>\n",
    "<script>function ejecutar(desde, hasta){\n",
    "    for(i = desde; i < hasta; i++)\n",
    "Jupyter.notebook.execute_cells([i])    \n",
    "}</script>''')"
   ]
  },
  {
   "cell_type": "code",
   "execution_count": 11,
   "id": "7886b134",
   "metadata": {},
   "outputs": [
    {
     "data": {
      "text/html": [
       "$$P^{abs}_{2}=\\frac{2.5(kg)·2077.1625(J/Kg·K)·383.15(K)}{0.066(m^3)}=30250433.802\\ Pa=30.25\\ MPa $$"
      ],
      "text/plain": [
       "<IPython.core.display.HTML object>"
      ]
     },
     "metadata": {},
     "output_type": "display_data"
    }
   ],
   "source": [
    "from IPython.display import HTML, display, Latex\n",
    "from IPython.display import Markdown as md\n",
    "\n",
    "\n",
    "\n",
    "try:\n",
    "    R_prima=(101.325*R)/(10**(-3)*M.value)\n",
    "    \n",
    "except ZeroDivisionError :\n",
    "    display(HTML('<b><FONT COLOR=\"RED\">Recuerda que el peso molecular en el apartado a) no puede ser 0!</b>'))\n",
    "\n",
    "else:\n",
    "    \n",
    "    if (m_2.value==0):\n",
    "        display(HTML('<b><FONT COLOR=\"RED\">La masa no puede ser 0!</b>'))\n",
    "    \n",
    "    else:\n",
    "        \n",
    "        Tkelvin_2=T_2.value+273.15\n",
    "        \n",
    "        Pabs_2=m_2.value*R_prima*Tkelvin_2/V_1\n",
    "        \n",
    "        Pabs_2_MPa=Pabs_2/10**6\n",
    "               \n",
    "        display(HTML(f'$$P^{{abs}}_{{2}}=\\\\frac{{{m_2.value}(kg)·{R_prima}(J/Kg·K)·{Tkelvin_2}(K)}}{{{V_2.value}(m^3)}}={Pabs_2:.3f}\\\\ Pa={Pabs_2_MPa:.2f}\\\\ MPa $$'))\n",
    "        "
   ]
  },
  {
   "cell_type": "markdown",
   "id": "7d3f691c",
   "metadata": {},
   "source": [
    "Hacemos el cambio de unidades de MPa a mmHg:\n",
    "<p class=\"formulas\">\n",
    "$$ 1 bar = 10^5 Pa = 0,1 MPa = 750 Torr = 750 mmHg $$"
   ]
  },
  {
   "cell_type": "code",
   "execution_count": 12,
   "id": "18266158",
   "metadata": {},
   "outputs": [
    {
     "data": {
      "text/html": [
       "$$ P^{abs}_{2}=30.250(MPa)= \\fbox{226878.254  mmHg} $$"
      ],
      "text/plain": [
       "<IPython.core.display.HTML object>"
      ]
     },
     "metadata": {},
     "output_type": "display_data"
    }
   ],
   "source": [
    "from IPython.display import HTML, display, Latex\n",
    "\n",
    "Pabs_mmhg=Pabs_2_MPa*7500\n",
    "display(HTML(f'$$ P^{{abs}}_{{2}}={Pabs_2_MPa:.3f}(MPa)= \\\\fbox{{{Pabs_mmhg:.3f}  mmHg}} $$'))"
   ]
  },
  {
   "cell_type": "code",
   "execution_count": 13,
   "id": "37ec562b",
   "metadata": {},
   "outputs": [
    {
     "data": {
      "text/html": [
       "\n",
       "\n",
       "</script>\n",
       "<button onclick=\"confirmar() ; toggle()\" class=\"button-85\" id=\"boton2\"> Mostrar código </button>\n",
       "\n"
      ],
      "text/plain": [
       "<IPython.core.display.HTML object>"
      ]
     },
     "execution_count": 13,
     "metadata": {},
     "output_type": "execute_result"
    }
   ],
   "source": [
    "from IPython.display import HTML,Javascript\n",
    "\n",
    "HTML('''\n",
    "\n",
    "</script>\n",
    "<button onclick=\"confirmar() ; toggle()\" class=\"button-85\" id=\"boton2\"> Mostrar código </button>\n",
    "\n",
    "''')"
   ]
  },
  {
   "cell_type": "markdown",
   "id": "6d560f16",
   "metadata": {},
   "source": [
    "[Volver al enunciado.](#top)"
   ]
  },
  {
   "cell_type": "code",
   "execution_count": 14,
   "id": "db772908",
   "metadata": {},
   "outputs": [
    {
     "data": {
      "text/html": [
       "\n",
       "<script>\n",
       "window.location=\"EJERCICIO_1.2_Presiones.ipynb#top\";\n",
       "</script>"
      ],
      "text/plain": [
       "<IPython.core.display.HTML object>"
      ]
     },
     "execution_count": 14,
     "metadata": {},
     "output_type": "execute_result"
    }
   ],
   "source": [
    "from IPython.display import HTML\n",
    "HTML('''\n",
    "<script>\n",
    "window.location=\"EJERCICIO_1.2_Presiones.ipynb#top\";\n",
    "</script>''')"
   ]
  }
 ],
 "metadata": {
  "kernelspec": {
   "display_name": "Python 3 (ipykernel)",
   "language": "python",
   "name": "python3"
  },
  "language_info": {
   "codemirror_mode": {
    "name": "ipython",
    "version": 3
   },
   "file_extension": ".py",
   "mimetype": "text/x-python",
   "name": "python",
   "nbconvert_exporter": "python",
   "pygments_lexer": "ipython3",
   "version": "3.9.12"
  }
 },
 "nbformat": 4,
 "nbformat_minor": 5
}
