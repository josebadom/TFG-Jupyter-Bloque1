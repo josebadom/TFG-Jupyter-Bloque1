{
 "cells": [
  {
   "cell_type": "markdown",
   "id": "69a754dd",
   "metadata": {},
   "source": [
    "<details open>\n",
    "  <summary>Pulsa <b><font color=\"#800080\">AQUÍ</font></b> para ocultar/mostrar el tutorial</summary>\n",
    "    <center><b>TUTORIAL</b></center>\n",
    "    <img src=\"../MEDIA/small_tut.png\" style=\"width:70%\">\n",
    "</details>"
   ]
  },
  {
   "cell_type": "code",
   "execution_count": 1,
   "id": "4472e466",
   "metadata": {},
   "outputs": [
    {
     "data": {
      "text/html": [
       "\n",
       "<script>\n",
       "code_show=true;\n",
       "\n",
       "function confirmar() {\n",
       "        if (code_show==false) {\n",
       "            //var audio = new Audio('https://media.geeksforgeeks.org/wp-content/uploads/20190531135120/beep.mp3');\n",
       "            //audio.play();\n",
       "            let confirmar = confirm(\"¿Estás seguro de que deseas MOSTRAR las celdas de código?\"); // Confirmacion de accion\n",
       "                \n",
       "                if (confirmar==true){$('div.input').show();} // Muestra las celdas de codigo\n",
       "                else {code_show=!code_show}// Cancela la accion\n",
       "        }\n",
       "        \n",
       "        else {$('div.input').hide();} // Oculta las celdas de codigo\n",
       "        \n",
       "    code_show=!code_show\n",
       "}\n",
       "\n",
       "\n",
       "function toggle(boton) {\n",
       "    let txt = boton.innerHTML;\n",
       "    boton.innerHTML = code_show ? 'Ocultar código' : 'Mostrar código'; // Cambia el texto del boton\n",
       "}\n",
       "\n",
       "$( document ).ready(confirmar); // Ejecuta la funcion confirmar cuando se carga el documento\n",
       "</script>\n",
       "\n",
       "<button onclick=\"confirmar() ; toggle(this)\" class=\"button-85\" > Mostrar código </button>\n"
      ],
      "text/plain": [
       "<IPython.core.display.HTML object>"
      ]
     },
     "execution_count": 1,
     "metadata": {},
     "output_type": "execute_result"
    }
   ],
   "source": [
    "from IPython.display import HTML,Javascript\n",
    "HTML('''\n",
    "<script>\n",
    "code_show=true;\n",
    "\n",
    "function confirmar() {\n",
    "        if (code_show==false) {\n",
    "            //var audio = new Audio('https://media.geeksforgeeks.org/wp-content/uploads/20190531135120/beep.mp3');\n",
    "            //audio.play();\n",
    "            let confirmar = confirm(\"¿Estás seguro de que deseas MOSTRAR las celdas de código?\"); // Confirmacion de accion\n",
    "                \n",
    "                if (confirmar==true){$('div.input').show();} // Muestra las celdas de codigo\n",
    "                else {code_show=!code_show}// Cancela la accion\n",
    "        }\n",
    "        \n",
    "        else {$('div.input').hide();} // Oculta las celdas de codigo\n",
    "        \n",
    "    code_show=!code_show\n",
    "}\n",
    "\n",
    "\n",
    "function toggle(boton) {\n",
    "    let txt = boton.innerHTML;\n",
    "    boton.innerHTML = code_show ? 'Ocultar código' : 'Mostrar código'; // Cambia el texto del boton\n",
    "}\n",
    "\n",
    "$( document ).ready(confirmar); // Ejecuta la funcion confirmar cuando se carga el documento\n",
    "</script>\n",
    "\n",
    "<button onclick=\"confirmar() ; toggle(this)\" class=\"button-85\" > Mostrar código </button>\n",
    "''')"
   ]
  },
  {
   "cell_type": "markdown",
   "id": "556d3118",
   "metadata": {},
   "source": [
    "<p style=\"text-align: justify;\"><span style=\"color: #ff9900;\"><strong>Ejercicio 1&nbsp;</strong></span>   \n",
    "Empareja cada dimensión secundaria con sus respectivas unidades.\n",
    "<br>\n",
    "<br>\n",
    "<br>"
   ]
  },
  {
   "cell_type": "code",
   "execution_count": 2,
   "id": "f38ca9c2",
   "metadata": {},
   "outputs": [
    {
     "data": {
      "text/html": [
       "<style>.widget-label { width: 21ex !important;text-align:left !important; }</style>"
      ],
      "text/plain": [
       "<IPython.core.display.HTML object>"
      ]
     },
     "metadata": {},
     "output_type": "display_data"
    },
    {
     "data": {
      "application/vnd.jupyter.widget-view+json": {
       "model_id": "42aa0943901c45bfbe5c2d5156e031f5",
       "version_major": 2,
       "version_minor": 0
      },
      "text/plain": [
       "Dropdown(description='Potencia', layout=Layout(width='35%'), options=(('Seleccione respuesta', 0), ('L²', 1), …"
      ]
     },
     "metadata": {},
     "output_type": "display_data"
    }
   ],
   "source": [
    "import random\n",
    "from ipywidgets import interact, interactive, fixed, interact_manual\n",
    "import ipywidgets as widgets\n",
    "from IPython.display import HTML, display\n",
    "\n",
    " \n",
    "word_list = ['Área', 'Volumen', 'Densidad', 'Velocidad', 'Aceleración', 'Vel. angular', 'Fuerza', 'Presión', 'Energía', 'Trabajo', 'Calor', 'Potencia','Viscosidad cinemática','Viscosidad dinámica']\n",
    " \n",
    "\n",
    "word = random.choice(word_list)\n",
    "\n",
    "\n",
    "a_11=widgets.Dropdown(\n",
    "    options=[('Seleccione respuesta', 0),\n",
    "             ('L\\u00b2', 1), \n",
    "             ('L\\u00b3', 2), \n",
    "             ('ML\\u207B\\u00b3', 3), \n",
    "             ('LT\\u207B\\u00B9', 4), \n",
    "             ('LT\\u207B\\u00b2', 5), \n",
    "             ('T\\u207B\\u00B9', 6), \n",
    "             ('MLT\\u207B\\u00b2', 7),\n",
    "             ('ML\\u207B\\u00B9T\\u207B\\u00b2', 8),\n",
    "             ('ML\\u00b2T\\u207B\\u00b3', 9), \n",
    "             ('ML\\u207B\\u00B9T\\u207B\\u00B9', 10), \n",
    "             ('L\\u00b2T\\u207B\\u00B9', 11),\n",
    "             ('ML\\u00b2T\\u207B\\u00b2', 12)],\n",
    "\n",
    "    description=word,\n",
    "    layout=widgets.Layout(width=\"35%\"),\n",
    "    value=0,\n",
    "    disabled=False,)\n",
    "\n",
    "display(HTML('''<style>.widget-label { width: 21ex !important;text-align:left !important; }</style>'''))\n",
    "\n",
    "display(a_11)"
   ]
  },
  {
   "cell_type": "code",
   "execution_count": 3,
   "id": "e14a5bbe",
   "metadata": {
    "scrolled": true
   },
   "outputs": [
    {
     "data": {
      "text/html": [
       "<button onclick=\"ejecutar(5,6)\">Resolver</button>\n",
       "<button onclick=\"ejecutar(3,6)\"><i class=\"fa fa-refresh fa-spin\"></i> Nuevo intento</button>\n",
       "<script>function ejecutar(desde, hasta){\n",
       "    for(i = desde; i < hasta; i++)\n",
       "Jupyter.notebook.execute_cells([i])\n",
       "}</script>\n"
      ],
      "text/plain": [
       "<IPython.core.display.HTML object>"
      ]
     },
     "metadata": {},
     "output_type": "display_data"
    }
   ],
   "source": [
    "%%html\n",
    "<button onclick=\"ejecutar(5,6)\">Resolver</button>\n",
    "<button onclick=\"ejecutar(3,6)\"><i class=\"fa fa-refresh fa-spin\"></i> Nuevo intento</button>\n",
    "<script>function ejecutar(desde, hasta){\n",
    "    for(i = desde; i < hasta; i++)\n",
    "Jupyter.notebook.execute_cells([i])\n",
    "}</script>"
   ]
  },
  {
   "cell_type": "code",
   "execution_count": 4,
   "id": "159d0395",
   "metadata": {},
   "outputs": [
    {
     "data": {
      "text/html": [
       "Selecciona una unidad y pincha en 'Resolver'"
      ],
      "text/plain": [
       "<IPython.core.display.HTML object>"
      ]
     },
     "metadata": {},
     "output_type": "display_data"
    }
   ],
   "source": [
    "respuesta=a_11.value\n",
    "\n",
    "if (respuesta==0):\n",
    "    display(HTML(\"Selecciona una unidad y pincha en 'Resolver'\"))\n",
    "    \n",
    "elif (word=='Área'):\n",
    "    if (respuesta==1):\n",
    "        display(HTML('Correcto &#9989;'))\n",
    "    else:\n",
    "        display(HTML('Error &#10060; la respuesta es $[L^{2}]$'))\n",
    "        \n",
    "elif (word=='Volumen'):\n",
    "    if(respuesta==2):\n",
    "        display(HTML('Correcto &#9989;'))\n",
    "    else:\n",
    "        display(HTML('Error &#10060; la respuesta es $[L^{3}]$'))\n",
    "        \n",
    "elif (word=='Densidad'):\n",
    "    if(respuesta==3):\n",
    "        display(HTML('Correcto &#9989;'))\n",
    "    else:\n",
    "        display(HTML('Error &#10060; la respuesta es $[ML^{-3}]$'))\n",
    "        \n",
    "elif (word=='Velocidad'):\n",
    "    if(respuesta==4):\n",
    "        display(HTML('Correcto &#9989;'))\n",
    "    else:\n",
    "        display(HTML('Error &#10060; la respuesta es $[L{T}^{-1}]$'))\n",
    "        \n",
    "elif (word=='Aceleración'):\n",
    "    if (respuesta==5):\n",
    "        display(HTML('Correcto &#9989;'))\n",
    "    else:\n",
    "        display(HTML('Error &#10060; la respuesta es $[LT^{-2}]$'))\n",
    "        \n",
    "elif (word=='Vel. angular'):\n",
    "    if(respuesta==6):\n",
    "        display(HTML('Correcto &#9989;'))\n",
    "    else:\n",
    "        display(HTML('Error &#10060; la respuesta es $[T^{-1}]$'))\n",
    "        \n",
    "elif (word=='Fuerza'):\n",
    "    if(respuesta==7):\n",
    "        display(HTML('Correcto &#9989;'))\n",
    "    else:\n",
    "        display(HTML('Error &#10060; la respuesta es $[MLT^{-2}]$'))\n",
    "        \n",
    "elif (word=='Presión'):\n",
    "    if(respuesta==8):\n",
    "        display(HTML('Correcto &#9989;'))\n",
    "    else:\n",
    "        display(HTML('Error &#10060; la respuesta es $[M{L}^{-1}{T}^{-2}]$'))\n",
    "        \n",
    "elif (word=='Potencia'):\n",
    "    if(respuesta==9):\n",
    "        display(HTML('Correcto &#9989;'))\n",
    "    else:\n",
    "        display(HTML('Error &#10060; la respuesta es $[M{L}^{2}{T}^{-3}]$'))\n",
    "\n",
    "elif (word=='Viscosidad dinámica'):\n",
    "    if(respuesta==10):\n",
    "        display(HTML('Correcto &#9989;'))\n",
    "    else:\n",
    "        display(HTML('Error &#10060; la respuesta es $[M{L}^{-1}{T}^{-1}]$'))\n",
    "\n",
    "elif (word=='Viscosidad cinemática'):\n",
    "    if(respuesta==11):\n",
    "        display(HTML('Correcto &#9989;'))\n",
    "    else:\n",
    "        display(HTML('Error &#10060; la respuesta es $[{L}^{2}{T}^{-1}]$'))\n",
    "\n",
    "elif (word=='Energía' or 'Trabajo' or 'Calor'):\n",
    "    if(respuesta==12):\n",
    "        display(HTML('Correcto &#9989;'))\n",
    "    else:\n",
    "        display(HTML('Error &#10060; la respuesta es $[M{L}^{2}{T}^{-2}]$'))"
   ]
  }
 ],
 "metadata": {
  "kernelspec": {
   "display_name": "Python 3 (ipykernel)",
   "language": "python",
   "name": "python3"
  },
  "language_info": {
   "codemirror_mode": {
    "name": "ipython",
    "version": 3
   },
   "file_extension": ".py",
   "mimetype": "text/x-python",
   "name": "python",
   "nbconvert_exporter": "python",
   "pygments_lexer": "ipython3",
   "version": "3.9.12"
  }
 },
 "nbformat": 4,
 "nbformat_minor": 5
}
