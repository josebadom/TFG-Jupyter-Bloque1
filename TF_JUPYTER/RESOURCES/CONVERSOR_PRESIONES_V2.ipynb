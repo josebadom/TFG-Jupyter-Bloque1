{
 "cells": [
  {
   "cell_type": "code",
   "execution_count": 1,
   "id": "f71fc90e",
   "metadata": {},
   "outputs": [
    {
     "data": {
      "text/html": [
       "\n",
       "<script>\n",
       "code_show=true;\n",
       "\n",
       "function confirmar() {\n",
       "        if (code_show==false) {\n",
       "            \n",
       "            let confirmar = confirm(\"¿Estás seguro de que deseas MOSTRAR las celdas de código?\"); // Popup de confirmacion\n",
       "                \n",
       "                if (confirmar==true){$('div.input').show();} // Muestra las celdas de codigo\n",
       "                else {code_show=!code_show}\n",
       "        }\n",
       "        \n",
       "        else {$('div.input').hide();} // Oculta las celdas de codigo\n",
       "        \n",
       "    code_show=!code_show\n",
       "}\n",
       "\n",
       "\n",
       "function toggle() {\n",
       "    \n",
       "    boton1.innerHTML = code_show ? 'Ocultar código' : 'Mostrar código'; // Cambia el texto del boton\n",
       "    boton2.innerHTML = boton1.innerHTML\n",
       "}\n",
       "\n",
       "$( document ).ready(confirmar); // Ejecuta la funcion confirmar cuando se carga el documento\n",
       "</script>\n",
       "\n",
       "<button onclick=\"confirmar() ; toggle()\" class=\"button-85\" id=\"boton1\"> Mostrar código </button>\n"
      ],
      "text/plain": [
       "<IPython.core.display.HTML object>"
      ]
     },
     "execution_count": 1,
     "metadata": {},
     "output_type": "execute_result"
    }
   ],
   "source": [
    "from IPython.display import HTML,Javascript\n",
    "HTML('''\n",
    "<script>\n",
    "code_show=true;\n",
    "\n",
    "function confirmar() {\n",
    "        if (code_show==false) {\n",
    "            \n",
    "            let confirmar = confirm(\"¿Estás seguro de que deseas MOSTRAR las celdas de código?\"); // Popup de confirmacion\n",
    "                \n",
    "                if (confirmar==true){$('div.input').show();} // Muestra las celdas de codigo\n",
    "                else {code_show=!code_show}\n",
    "        }\n",
    "        \n",
    "        else {$('div.input').hide();} // Oculta las celdas de codigo\n",
    "        \n",
    "    code_show=!code_show\n",
    "}\n",
    "\n",
    "\n",
    "function toggle() {\n",
    "    \n",
    "    boton1.innerHTML = code_show ? 'Ocultar código' : 'Mostrar código'; // Cambia el texto del boton\n",
    "    boton2.innerHTML = boton1.innerHTML\n",
    "}\n",
    "\n",
    "$( document ).ready(confirmar); // Ejecuta la funcion confirmar cuando se carga el documento\n",
    "</script>\n",
    "\n",
    "<button onclick=\"confirmar() ; toggle()\" class=\"button-85\" id=\"boton1\"> Mostrar código </button>\n",
    "''')"
   ]
  },
  {
   "cell_type": "code",
   "execution_count": 2,
   "id": "bbca18bc",
   "metadata": {
    "scrolled": true
   },
   "outputs": [
    {
     "data": {
      "application/vnd.jupyter.widget-view+json": {
       "model_id": "b71a5b0a24fb4a35b19486dffb098432",
       "version_major": 2,
       "version_minor": 0
      },
      "text/plain": [
       "interactive(children=(Dropdown(description='de', options=('atm', 'bar', 'dyn/cm²', 'kg/cm²', 'kp/m²', 'mca', '…"
      ]
     },
     "metadata": {},
     "output_type": "display_data"
    },
    {
     "data": {
      "text/html": [
       "\n",
       "<style>\n",
       "    .widget-label { width: 15ex !important;text-align:left !important; }    \n",
       "</style>"
      ],
      "text/plain": [
       "<IPython.core.display.HTML object>"
      ]
     },
     "metadata": {},
     "output_type": "display_data"
    },
    {
     "data": {
      "application/vnd.jupyter.widget-view+json": {
       "model_id": "c833bd7d5007467ea295c54172548357",
       "version_major": 2,
       "version_minor": 0
      },
      "text/plain": [
       "interactive(children=(Text(value='0', description='Magnitud'), Output()), _dom_classes=('widget-interact',))"
      ]
     },
     "metadata": {},
     "output_type": "display_data"
    }
   ],
   "source": [
    "from IPython.display import HTML, display\n",
    "from ipywidgets import interact, interactive, fixed, interact_manual\n",
    "import ipywidgets as widgets\n",
    "from termcolor import colored\n",
    "\n",
    "def f(de,a):   \n",
    "    return (de, a)\n",
    "\n",
    "CU = interactive(f, de=['atm','bar','dyn/cm\\u00b2','kg/cm\\u00b2','kp/m\\u00b2','mca','mcHg','mmcHg','Pa','Torr'],\n",
    "                     a=['atm','bar','dyn/cm\\u00b2','kg/cm\\u00b2','kp/m\\u00b2','mca','mcHg','mmcHg','Pa','Torr']);\n",
    "display(CU)\n",
    "\n",
    "def u(Magnitud):\n",
    "    try:\n",
    "        float(Magnitud)\n",
    "            \n",
    "    except:\n",
    "        display(HTML('<b><FONT COLOR=\"DARKRED\">Error, introduce un valor numérico!</b>'))\n",
    "        \n",
    "    else:\n",
    "        display(HTML('<b>Pulsa calcular para mostrar el cambio de unidades</b>'))\n",
    "        return Magnitud\n",
    "\n",
    "fu = interactive(u,Magnitud=\"0\")\n",
    "\n",
    "\n",
    "display(HTML('''\n",
    "<style>\n",
    "    .widget-label { width: 15ex !important;text-align:left !important; }    \n",
    "</style>'''))\n",
    "\n",
    "\n",
    "display(fu)"
   ]
  },
  {
   "cell_type": "code",
   "execution_count": 3,
   "id": "cb3b5b15",
   "metadata": {},
   "outputs": [
    {
     "data": {
      "text/html": [
       "<button onclick=\"ejecutar(3,8)\">Calcular</button>\n",
       "<button onclick=\"ejecutar(1,2)\">Abrir/reiniciar cuadro de variables</button>\n",
       "<script>function ejecutar(desde, hasta){\n",
       "    for(i = desde; i < hasta; i++)\n",
       "Jupyter.notebook.execute_cells([i])\n",
       "}</script>\n"
      ],
      "text/plain": [
       "<IPython.core.display.HTML object>"
      ]
     },
     "metadata": {},
     "output_type": "display_data"
    }
   ],
   "source": [
    "%%html\n",
    "<button onclick=\"ejecutar(3,8)\">Calcular</button>\n",
    "<button onclick=\"ejecutar(1,2)\">Abrir/reiniciar cuadro de variables</button>\n",
    "<script>function ejecutar(desde, hasta){\n",
    "    for(i = desde; i < hasta; i++)\n",
    "Jupyter.notebook.execute_cells([i])\n",
    "}</script>"
   ]
  },
  {
   "cell_type": "code",
   "execution_count": 4,
   "id": "27ec6531",
   "metadata": {},
   "outputs": [],
   "source": [
    "from IPython.display import Markdown as md\n",
    "from IPython.display import HTML, display\n",
    "\n",
    "try:\n",
    "    intmagnitud=float(fu.result)\n",
    "except:\n",
    "    display(HTML('<b><FONT COLOR=\"DARKRED\">Introduce un valor numérico valido!</b>'))\n",
    "else:    \n",
    "    de=CU.children[0].value\n",
    "    a=CU.children[1].value\n",
    "    strmagnitud=fu.children[0].value\n",
    "\n",
    "    try:\n",
    "       de\n",
    "    except NameError:\n",
    "       de=\"\"\n",
    "    try:\n",
    "       a\n",
    "    except NameError:\n",
    "       a=\"\""
   ]
  },
  {
   "cell_type": "code",
   "execution_count": 5,
   "id": "8d73f8e4",
   "metadata": {},
   "outputs": [
    {
     "data": {
      "text/html": [
       "Conversión de <b>atm</b> a <b>atm</b>"
      ],
      "text/plain": [
       "<IPython.core.display.HTML object>"
      ]
     },
     "metadata": {},
     "output_type": "display_data"
    }
   ],
   "source": [
    "from IPython.display import HTML, display\n",
    "\n",
    "try:\n",
    "    intmagnitud=float(fu.result)\n",
    "except:\n",
    "    pass\n",
    "else:\n",
    "    display(HTML(f'Conversión de <b>{de}</b> a <b>{a}</b>'))\n",
    "    #print(\"Conversión de \"+ de +\" a \"+ a)\n",
    "    conversion=0\n",
    "    unidades= []\n",
    "    unidadesDiv=[]\n",
    "    factores= []\n",
    "    valores= []\n",
    "    charig=[]\n",
    "    charsl=[]\n",
    "    factor=\"1\"\n",
    "    valor=1\n",
    "    if (a!=de):\n",
    "        unidadesDiv.insert(conversion,de)\n",
    "    else:\n",
    "        strmagnitud=\"\"\n",
    "        unidadesDiv.insert(conversion,\"\")\n",
    "    while (a!=de):\n",
    "        if(de==\"atm\"):\n",
    "            de=\"mmcHg\"\n",
    "            factor=\"\\cdot 760\"\n",
    "            valor=760\n",
    "        elif(de==\"bar\"):\n",
    "            de=\"Pa\"\n",
    "            factor=\"\\cdot 10^5\"\n",
    "            valor=pow(10,5)\n",
    "        elif(de==\"dyn/cm\\u00b2\"):\n",
    "            de=\"Pa\"\n",
    "            factor=\"\\cdot 0.1\"\n",
    "            valor=0.1\n",
    "        elif(de==\"kg/cm\\u00b2\"):\n",
    "            de=\"Pa\"\n",
    "            factor=\"\\cdot 9,8\\cdot 10^{4}\"\n",
    "            valor=9.8*pow(10,4)\n",
    "        elif(de==\"kp/m\\u00b2\"):\n",
    "            de=\"Pa\"\n",
    "            factor=\"\\cdot 9,8\"\n",
    "            valor=9.8\n",
    "        elif(de==\"mca\"):\n",
    "            if(a in {\"kp/m\\u00b2\" , \"kg/cm\\u00b2\" , \"dyn/cm\\u00b2\" , \"bar\" , \"Pa\"}):\n",
    "                de=\"Pa\"\n",
    "                factor=\"\\cdot 9800\"\n",
    "                valor=9800\n",
    "            else:\n",
    "                de=\"mcHg\"\n",
    "                factor=\"\\cdot 1/13.6\"\n",
    "                valor=1/13.6\n",
    "        elif(de==\"mcHg\"):\n",
    "            if(a in {\"mmcHg\" , \"Torr\" , \"atm\"}):\n",
    "                de=\"mmcHg\"\n",
    "                factor=\"\\cdot 10^3\"\n",
    "                valor=pow(10,3)\n",
    "            else:\n",
    "                de=\"mca\"\n",
    "                factor=\"\\cdot 13.6\"\n",
    "                valor=13.6\n",
    "        elif(de==\"mmcHg\"):\n",
    "            if(a==\"Torr\"):\n",
    "                de=\"Torr\"\n",
    "                factor=\"\\cdot 1\"\n",
    "                valor=1\n",
    "            elif(a==\"atm\"):\n",
    "                de=\"atm\"\n",
    "                factor=\"\\cdot 1/760\"\n",
    "                valor=1/760\n",
    "            else:\n",
    "                de=\"mcHg\"\n",
    "                factor=\"\\cdot 10^{-3}\"\n",
    "                valor=pow(10,-3)\n",
    "        elif(de==\"Pa\"):\n",
    "            if(a==\"kp/m\\u00b2\"):\n",
    "                de=\"kp/m\\u00b2\"\n",
    "                factor=\"\\cdot\\ 1/9.8\"\n",
    "                valor=1/9.8\n",
    "            elif(a==\"kg/cm\\u00b2\"):\n",
    "                de=\"kg/cm\\u00b2\"\n",
    "                factor=\"\\cdot 1/(9.8\\cdot 10^{4})\"\n",
    "                valor=1/(9.8*pow(10,4))\n",
    "            elif(a==\"dyn/cm\\u00b2\"):\n",
    "                de=\"dyn/cm\\u00b2\"\n",
    "                factor=\"\\cdot 10\"\n",
    "                valor=10\n",
    "            elif(a==\"bar\"):\n",
    "                de=\"bar\"\n",
    "                factor=\"\\cdot 1/10^5\"\n",
    "                valor=pow(10,-5)\n",
    "            else:\n",
    "                de=\"mca\"\n",
    "                factor=\"\\cdot 1/9800\"\n",
    "                valor=1/9800\n",
    "        elif(de==\"Torr\"):\n",
    "            de=\"mmcHg\"\n",
    "            factor=\"\\cdot 1\"\n",
    "            valor=1 \n",
    "        unidades.insert(conversion,de)\n",
    "        unidadesDiv.insert(conversion+1,de)\n",
    "        factores.insert(conversion,factor)\n",
    "        valores.insert(conversion,valor)\n",
    "        charig.insert(conversion,\"=\")\n",
    "        charsl.insert(conversion,\"/\")\n",
    "        conversion+=1\n",
    "\n",
    "\n",
    "\n",
    "\n",
    "    if (a==de):\n",
    "        cambios=conversion\n",
    "        conversion+=1\n",
    "        unidadesDiv[cambios]=\"\"\n",
    "        while(conversion < 6):\n",
    "            unidades.insert(conversion,\"\")\n",
    "            unidadesDiv.insert(conversion+1,\"\")\n",
    "            factores.insert(conversion,\"\")\n",
    "            valores.insert(conversion,\"\")\n",
    "            charig.insert(conversion,\"\")\n",
    "            charsl.insert(conversion,\"\")\n",
    "            conversion+=1\n"
   ]
  },
  {
   "cell_type": "code",
   "execution_count": 6,
   "id": "88fa3deb",
   "metadata": {},
   "outputs": [],
   "source": [
    "def calculo(valores,intmagnitud):\n",
    "    ciclo=0\n",
    "    pasos= []    \n",
    "    oldResultado=intmagnitud\n",
    "    while(ciclo<cambios):            \n",
    "        \n",
    "        resultado=oldResultado*valores[ciclo]\n",
    "        ciclo+=1\n",
    "        pasos.insert(ciclo,resultado)\n",
    "        oldResultado=resultado\n",
    "    while(ciclo<6):      \n",
    "        ciclo+=1\n",
    "        resultado=\"\"\n",
    "        pasos.insert(ciclo,resultado)\n",
    "\n",
    "    return pasos\n",
    "try:        \n",
    "    resultados=calculo(valores,intmagnitud)\n",
    "except:\n",
    "    pass"
   ]
  },
  {
   "cell_type": "code",
   "execution_count": 7,
   "id": "e9c2863a",
   "metadata": {},
   "outputs": [],
   "source": [
    "try:\n",
    "    float(fu.result)\n",
    "    resultadosR=[\"\",\"\",\"\",\"\",\"\",\"\"]\n",
    "    exponentes=[\"\",\"\",\"\",\"\",\"\",\"\"]\n",
    "    i=0\n",
    "    e=0\n",
    "    while (i<cambios):\n",
    "        if ((resultados[i]>=1) and (resultados[i]<=9999)):\n",
    "            exponentes[i]=\"\"\n",
    "            resultadosR[i]=(round(resultados[i], 3))\n",
    "        else:\n",
    "            if(resultados[i]<1):\n",
    "                while (resultados[i]<1):\n",
    "                    e+=1\n",
    "                    resultados[i]=resultados[i]*10\n",
    "\n",
    "\n",
    "                resultadosR[i]=(round(resultados[i], 3))\n",
    "                exponentes[i]=\"\\cdot 10^{-\"+str(e)+\"}\"\n",
    "            else:\n",
    "                while (resultados[i]>999):\n",
    "                    e+=1\n",
    "                    resultados[i]=resultados[i]/10\n",
    "\n",
    "\n",
    "                resultadosR[i]=(round(resultados[i], 3))\n",
    "                exponentes[i]=\"\\cdot 10^{\"+str(e)+\"}\"\n",
    "        i+=1\n",
    "        e=0\n",
    "except:\n",
    "    strmagnitud=\"\"\n",
    "    unidadesDiv=factores=unidades=charig=unidadesDiv=charsl=resultadosR=exponentes=unidades=factores=charig=[\"\",\"\",\"\",\"\",\"\",\"\"]\n"
   ]
  },
  {
   "cell_type": "code",
   "execution_count": 8,
   "id": "5bf44f04",
   "metadata": {},
   "outputs": [
    {
     "data": {
      "text/markdown": [
       "$$\\ \\ \\ \\ \\ $$  $$\\ \\ \\ \\ \\ $$  $$\\ \\ \\ \\ \\ $$  $$\\ \\ \\ \\ \\ $$  $$\\ \\ \\ \\ \\ $$"
      ],
      "text/plain": [
       "<IPython.core.display.Markdown object>"
      ]
     },
     "execution_count": 8,
     "metadata": {},
     "output_type": "execute_result"
    }
   ],
   "source": [
    "from IPython.display import Markdown as md\n",
    "md('$$%s\\ %s%s\\ %s\\ %s\\ %s%s%s%s\\ %s$$  $$%s%s\\ %s%s\\ %s\\ %s\\ %s%s%s%s\\ %s$$  $$%s%s\\ %s%s\\ %s\\ %s\\ %s%s%s%s\\ %s$$  $$%s%s\\ %s%s\\ %s\\ %s\\ %s%s%s%s\\ %s$$  $$%s%s\\ %s%s\\ %s\\ %s\\ %s%s%s%s\\ %s$$'\n",
    "%(strmagnitud,unidadesDiv[0],factores[0],unidades[0],charsl[0],unidadesDiv[0],charig[0],resultadosR[0],exponentes[0], unidades[0],\n",
    "  resultadosR[0],exponentes[0], unidades[0],factores[1],unidades[1],charsl[1],unidadesDiv[1],charig[1],resultadosR[1],exponentes[1], unidades[1], \n",
    "  resultadosR[1],exponentes[1], unidades[1],factores[2],unidades[2],charsl[2],unidadesDiv[2],charig[2],resultadosR[2],exponentes[2], unidades[2], \n",
    "  resultadosR[2],exponentes[2], unidades[2],factores[3],unidades[3],charsl[3],unidadesDiv[3],charig[3],resultadosR[3],exponentes[3], unidades[3], \n",
    "  resultadosR[3],exponentes[3], unidades[3],factores[4],unidades[4],charsl[4],unidadesDiv[4],charig[4],resultadosR[4],exponentes[4], unidades[4]))"
   ]
  },
  {
   "cell_type": "code",
   "execution_count": 9,
   "id": "80fdbf87",
   "metadata": {},
   "outputs": [
    {
     "data": {
      "text/html": [
       "\n",
       "\n",
       "</script>\n",
       "<button onclick=\"confirmar() ; toggle()\" class=\"button-85\" id=\"boton2\"> Mostrar código </button>\n",
       "\n"
      ],
      "text/plain": [
       "<IPython.core.display.HTML object>"
      ]
     },
     "execution_count": 9,
     "metadata": {},
     "output_type": "execute_result"
    }
   ],
   "source": [
    "from IPython.display import HTML,Javascript\n",
    "\n",
    "HTML('''\n",
    "\n",
    "</script>\n",
    "<button onclick=\"confirmar() ; toggle()\" class=\"button-85\" id=\"boton2\"> Mostrar código </button>\n",
    "\n",
    "''')"
   ]
  }
 ],
 "metadata": {
  "kernelspec": {
   "display_name": "Python 3 (ipykernel)",
   "language": "python",
   "name": "python3"
  },
  "language_info": {
   "codemirror_mode": {
    "name": "ipython",
    "version": 3
   },
   "file_extension": ".py",
   "mimetype": "text/x-python",
   "name": "python",
   "nbconvert_exporter": "python",
   "pygments_lexer": "ipython3",
   "version": "3.9.12"
  }
 },
 "nbformat": 4,
 "nbformat_minor": 5
}
