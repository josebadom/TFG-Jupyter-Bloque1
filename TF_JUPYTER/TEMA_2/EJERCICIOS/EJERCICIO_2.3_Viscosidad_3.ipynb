{
 "cells": [
  {
   "cell_type": "code",
   "execution_count": 1,
   "id": "56cd7477",
   "metadata": {},
   "outputs": [
    {
     "data": {
      "text/html": [
       "\n",
       "<script>\n",
       "code_show=true;\n",
       "\n",
       "function confirmar() {\n",
       "        if (code_show==false) {\n",
       "            \n",
       "            let confirmar = confirm(\"¿Estás seguro de que deseas MOSTRAR las celdas de código?\"); // Popup de confirmacion\n",
       "                \n",
       "                if (confirmar==true){$('div.input').show();} // Muestra las celdas de codigo\n",
       "                else {code_show=!code_show}\n",
       "        }\n",
       "        \n",
       "        else {$('div.input').hide();} // Oculta las celdas de codigo\n",
       "        \n",
       "    code_show=!code_show\n",
       "}\n",
       "\n",
       "\n",
       "function toggle() {\n",
       "    \n",
       "    boton1.innerHTML = code_show ? 'Ocultar código' : 'Mostrar código'; // Cambia el texto del boton\n",
       "    boton2.innerHTML = boton1.innerHTML\n",
       "}\n",
       "\n",
       "$( document ).ready(confirmar); // Ejecuta la funcion confirmar cuando se carga el documento\n",
       "</script>\n",
       "\n",
       "<button onclick=\"confirmar() ; toggle()\" class=\"button-85\" id=\"boton1\"> Mostrar código </button>\n"
      ],
      "text/plain": [
       "<IPython.core.display.HTML object>"
      ]
     },
     "execution_count": 1,
     "metadata": {},
     "output_type": "execute_result"
    }
   ],
   "source": [
    "from IPython.display import HTML,Javascript\n",
    "HTML('''\n",
    "<script>\n",
    "code_show=true;\n",
    "\n",
    "function confirmar() {\n",
    "        if (code_show==false) {\n",
    "            \n",
    "            let confirmar = confirm(\"¿Estás seguro de que deseas MOSTRAR las celdas de código?\"); // Popup de confirmacion\n",
    "                \n",
    "                if (confirmar==true){$('div.input').show();} // Muestra las celdas de codigo\n",
    "                else {code_show=!code_show}\n",
    "        }\n",
    "        \n",
    "        else {$('div.input').hide();} // Oculta las celdas de codigo\n",
    "        \n",
    "    code_show=!code_show\n",
    "}\n",
    "\n",
    "\n",
    "function toggle() {\n",
    "    \n",
    "    boton1.innerHTML = code_show ? 'Ocultar código' : 'Mostrar código'; // Cambia el texto del boton\n",
    "    boton2.innerHTML = boton1.innerHTML\n",
    "}\n",
    "\n",
    "$( document ).ready(confirmar); // Ejecuta la funcion confirmar cuando se carga el documento\n",
    "</script>\n",
    "\n",
    "<button onclick=\"confirmar() ; toggle()\" class=\"button-85\" id=\"boton1\"> Mostrar código </button>\n",
    "''')"
   ]
  },
  {
   "cell_type": "markdown",
   "id": "866b72fd",
   "metadata": {},
   "source": [
    "<div class=\"texto\"><div id=\"top\"><p><p style=\"text-align: justify;\"><span style=\"color: #ff9900;\"><strong>EXAMEN FINAL (29/06/20). Ejercicio 1.&nbsp;</strong></span> La figura muestra un embrague hidráulico de múltiples etapas. En la Figura 1,\n",
    "cuando está completamente acoplado, transmite todo el par desde el eje izquierdo al eje\n",
    "derecho. En la figura 2 tiene la capacidad de transmitir un par de fuerzas M de dependiendo\n",
    "de la separación \"e\".</p>\n",
    "<br>\n",
    "</div>\n",
    "<div class=\"split\">\n",
    "    <div class=\"dcha\"><img src=\"../MEDIA/EJ2.3.png\"></div>\n",
    "    <div class=\"izq\"><div class=\"texto\">\n",
    "        <ol class=\"enunciado\">    \n",
    "        <li> Calcular la viscosidad cinemática del fluido requerida para transmitir el par de fuerzas\n",
    "M.</li>\n",
    "        <li>Seleccionar de la tabla de la figura el aceite más adecuado para transmitir al menos el\n",
    "par de fuerza M mientras se mantienen constantes las velocidades de rotación N1 y N2.</li>\n",
    "        <li>Calcular la variación (%) que causará en la potencia transmitida el aceite\n",
    "seleccionado.</li>\n",
    "        </ol>\n",
    "</div>\n",
    "</div>\n",
    "</div>\n",
    "<br>\n",
    "<div class=\"texto\"><p><p style=\"text-align: justify;\"><strong>Datos:</strong>          \n",
    " N1=260 rpm; N2=40 rpm; Ø1=150 mm; Ø2=1550 mm; M=4 m·kN; s=0,79 [-]; e=1,25mm.</p>\n",
    "</div>"
   ]
  },
  {
   "cell_type": "markdown",
   "id": "6083fd78",
   "metadata": {},
   "source": [
    "<div class=\"alert alert-warning\">&emsp;&emsp;<strong> Nota: </strong>Las secciones laterales se consideran despreciables."
   ]
  },
  {
   "cell_type": "markdown",
   "id": "58f2c191",
   "metadata": {},
   "source": [
    "<div class=\"antesDe\">\n",
    "<ul>\n",
    "    <li><strong>CONCEPTOS PREVIOS</strong></li>\n",
    "    <ul>\n",
    "        <li>DENSIDAD RELATIVA Y VISCOSIDAD CINEMATICA.</li>\n",
    "        <ul> \n",
    "            <li><p class=\"formulas\">$S= \\frac{\\rho_{_{compuesto}}}{\\rho_{_{agua}}}\\ (Adimensional)$<p/></li>\n",
    "            <li><p class=\"formulas\">$\\nu_{_{aceite}}= \\frac{\\mu_{_{aceite}}}{\\rho_{_{aceite}}}\\ (m^2/s)$<p/></li>\n",
    "         </ul>\n",
    "        <li>LEY DE NEWTON DE LA VISCOSIDAD.</li>\n",
    "        <ul> \n",
    "            <li><p class=\"formulas\">$ \\tau=\\frac{dFt}{dA}=\\mu·\\frac{du}{dy}$<p/></li>\n",
    "            <li><p class=\"formulas\">$ dFt=\\mu·\\frac{u}{y}·dA $<p/></li>\n",
    "            <li><p class=\"formulas\">$  dMt= dFt·r $<p/></li>\n",
    "         </ul>\n",
    "            \n",
    "         \n",
    "<li><strong>FALLO TÍPICO $\\rightarrow$ OLVIDAR QUE CADA ETAPA TIENE 2 SUPERFICIES EN CONTACTO CON EL FLUIDO. </strong></li>\n",
    "    <ul><li>Se debe tener en cuenta que cada etapa esta formada por un disco con ambas caras en contacto con el fuido por lo que una vez se calcule el par de fuerzas M para una cara, hay que multiplicar ese mismo par por $2n$. </li></ul>\n",
    "\n",
    "</ul>\n",
    "<div>"
   ]
  },
  {
   "cell_type": "markdown",
   "id": "1eaa29f1",
   "metadata": {},
   "source": [
    "<h2>a) Calcular la viscosidad cinemática ($\\nu$) del fluido requerida para transmitir el par de fuerzas M.</h2>"
   ]
  },
  {
   "cell_type": "markdown",
   "id": "defc991c",
   "metadata": {},
   "source": [
    "El embrague hidraulico esta formado por un total de 5 etapas. Primero vamos a resolver para media etapa.\n",
    "\n",
    "La diferencia de velocidad es $w (rad/s)= w_1-w_2= (N_1-N_2)·\\frac {2\\pi}{60}$"
   ]
  },
  {
   "cell_type": "markdown",
   "id": "677c43a0",
   "metadata": {},
   "source": [
    "Mediante la ley de Newton de la viscosidad:\n",
    "\n",
    "<p class=\"formulas\">$$ \\tau=\\frac{dFt}{dA}=\\mu·\\frac{du}{de}$$\n",
    "<br>\n",
    "$$ dFt=\\tau·dA=\\mu·\\frac{u}{e}·dA $$\n",
    "     <br>\n",
    "$$dMt=r·dFt$$\n",
    "    "
   ]
  },
  {
   "cell_type": "markdown",
   "id": "7bc65271",
   "metadata": {},
   "source": [
    "Siendo la velocidad $u =w·r$ y al tratarse de un disco $dA = 2\\pi r dr$\n",
    "<br>\n",
    "\n",
    "<p class=\"formulas\">$$ dFt=\\mu·\\frac{w·r}{e}·2\\pi·r·dr$$\n",
    "    <br>\n",
    "$$ dMt= r· \\mu·\\frac{w·r}{e}·2\\pi·r·dr = \\mu·\\frac{w·r^3}{e}·2\\pi·dr  $$"
   ]
  },
  {
   "cell_type": "markdown",
   "id": "4d9e6a6e",
   "metadata": {},
   "source": [
    "Integramos:\n",
    "<p class=\"formulas\">\n",
    "    $$ Mt=2\\pi· \\mu \\int_{r_1}^{r_2}\\left(\\frac{w·r^3}{e}\\right)·dr$$\n",
    "    <br>\n",
    "    $$ Mt= 2\\pi·\\mu \\left[ \\frac{w·r^4}{4e}\\right]_{r=r_1}^{r=r_2}=\\frac{2\\pi·\\mu·w}{4e}·(r_{_1}^4-r_{_2}^4)  $$"
   ]
  },
  {
   "cell_type": "markdown",
   "id": "87129265",
   "metadata": {},
   "source": [
    "Puesto que el embrage dispone de n etapas y estando cada etapa compuesta por dos caras en contacto con el aceite:\n",
    "    <p class=\"formulas\">\n",
    "    $$ Mt=2n\\left[\\frac{2\\pi·\\mu·w}{4e}·(r_{_1}^4-r_{_2}^4)\\right]  $$"
   ]
  },
  {
   "cell_type": "markdown",
   "id": "b604b0c4",
   "metadata": {},
   "source": [
    "Despejamos la viscosidad absoluta:\n",
    "    <p class=\"formulas\">\n",
    "    $$ \\mu= \\frac {M_t·4e}{4\\pi·n·w}·\\frac{1}{(r_{_1}^4-r_{_2}^4)}$$\n",
    "    <br>\n",
    "    "
   ]
  },
  {
   "cell_type": "markdown",
   "id": "c4ed5979",
   "metadata": {},
   "source": [
    "Comprobamos unidades:\n",
    "    <p class=\"formulas\">\n",
    "    $$ \\mu\\left(\\frac{N·s}{m^2}\\right) = \\frac {M_t(N·m)·4e(m)}{4\\pi·n·w(rad/s)}·\\frac{1}{(r_{_1}^4-r_{_2}^4)}\\left(\\frac{1}{m^4}\\right)$$\n",
    "    <br>\n",
    "    "
   ]
  },
  {
   "cell_type": "code",
   "execution_count": 2,
   "id": "ea0d8c73",
   "metadata": {},
   "outputs": [
    {
     "data": {
      "application/vnd.jupyter.widget-view+json": {
       "model_id": "7d0a1909c01241dcae973461a9aff2fa",
       "version_major": 2,
       "version_minor": 0
      },
      "text/plain": [
       "BoundedFloatText(value=260.0, description='Velocidad $N_1$ $[rpm]$', layout=Layout(width='38ex'), max=9999.0)"
      ]
     },
     "metadata": {},
     "output_type": "display_data"
    },
    {
     "data": {
      "application/vnd.jupyter.widget-view+json": {
       "model_id": "5cbf40b3b3214b34bc98ceeeac7a3fd9",
       "version_major": 2,
       "version_minor": 0
      },
      "text/plain": [
       "BoundedFloatText(value=40.0, description='Velocidad $N_2$ $[rpm]$', layout=Layout(width='38ex'), max=9999.0, m…"
      ]
     },
     "metadata": {},
     "output_type": "display_data"
    },
    {
     "data": {
      "application/vnd.jupyter.widget-view+json": {
       "model_id": "dc38162adc65420dae5e03e056885e38",
       "version_major": 2,
       "version_minor": 0
      },
      "text/plain": [
       "BoundedFloatText(value=775.0, description='Radio mayor $R_1$ $[mm]$', layout=Layout(width='38ex'), max=99999.0…"
      ]
     },
     "metadata": {},
     "output_type": "display_data"
    },
    {
     "data": {
      "application/vnd.jupyter.widget-view+json": {
       "model_id": "8abbb883719a4c0fb8cfc0d24dafe2d6",
       "version_major": 2,
       "version_minor": 0
      },
      "text/plain": [
       "BoundedFloatText(value=75.0, description='Radio menor $R_2$ $[mm]$', layout=Layout(width='38ex'), max=99999.0)"
      ]
     },
     "metadata": {},
     "output_type": "display_data"
    },
    {
     "data": {
      "application/vnd.jupyter.widget-view+json": {
       "model_id": "d382bf08ee1a417ebb23577c93ea6a5a",
       "version_major": 2,
       "version_minor": 0
      },
      "text/plain": [
       "BoundedFloatText(value=1.25, description='Separacion $e$ $[mm]$', layout=Layout(width='38ex'), max=9999.0)"
      ]
     },
     "metadata": {},
     "output_type": "display_data"
    },
    {
     "data": {
      "application/vnd.jupyter.widget-view+json": {
       "model_id": "fe3fe928b8ef4451882513a817d2fea2",
       "version_major": 2,
       "version_minor": 0
      },
      "text/plain": [
       "BoundedFloatText(value=4000.0, description='Momento torsor $Mt$ $[N·m]$', layout=Layout(width='38ex'), max=999…"
      ]
     },
     "metadata": {},
     "output_type": "display_data"
    },
    {
     "data": {
      "application/vnd.jupyter.widget-view+json": {
       "model_id": "5065b10e23e24764943f7a8972bc62e6",
       "version_major": 2,
       "version_minor": 0
      },
      "text/plain": [
       "BoundedIntText(value=5, description='Número de etapas $n$', layout=Layout(width='38ex'), max=99, min=1)"
      ]
     },
     "metadata": {},
     "output_type": "display_data"
    },
    {
     "data": {
      "text/html": [
       "\n",
       "<style>\n",
       "    .widget-label { width: 28ex !important;text-align:left !important; }    \n",
       "</style>"
      ],
      "text/plain": [
       "<IPython.core.display.HTML object>"
      ]
     },
     "metadata": {},
     "output_type": "display_data"
    }
   ],
   "source": [
    "from ipywidgets import interact, interactive, Checkbox, VBox\n",
    "from IPython.display import HTML, display\n",
    "import ipywidgets as widgets\n",
    "\n",
    "N1= widgets.BoundedFloatText(\n",
    "    value=260,\n",
    "    layout=widgets.Layout(width=\"38ex\"),\n",
    "    description='Velocidad $N_1$ $[rpm]$',\n",
    "    disabled=False,\n",
    "    min=0, max=9999,\n",
    ")\n",
    "N2= widgets.BoundedFloatText(\n",
    "    value=40,\n",
    "    layout=widgets.Layout(width=\"38ex\"),\n",
    "    description='Velocidad $N_2$ $[rpm]$',\n",
    "    disabled=False,\n",
    "    min=0.001, max=9999,)\n",
    "R1 = widgets.BoundedFloatText(\n",
    "    value=775,\n",
    "    layout=widgets.Layout(width=\"38ex\"),\n",
    "    description='Radio mayor $R_1$ $[mm]$',\n",
    "    disabled=False,\n",
    "    min=0, max=99999,)\n",
    "R2 = widgets.BoundedFloatText(\n",
    "    value=75,\n",
    "    layout=widgets.Layout(width=\"38ex\"),\n",
    "    description='Radio menor $R_2$ $[mm]$',\n",
    "    disabled=False,\n",
    "    min=0, max=99999,)\n",
    "e= widgets.BoundedFloatText(\n",
    "    value=1.25,\n",
    "    layout=widgets.Layout(width=\"38ex\"),\n",
    "    description='Separacion $e$ $[mm]$',\n",
    "    disabled=False,\n",
    "    min=0, max=9999,)\n",
    "MT= widgets.BoundedFloatText(\n",
    "    value=4000,\n",
    "    layout=widgets.Layout(width=\"38ex\"),\n",
    "    description='Momento torsor $Mt$ $[N·m]$',\n",
    "    disabled=False,\n",
    "    min=0, max=999999,)\n",
    "n = widgets.BoundedIntText(\n",
    "    value=5,\n",
    "    layout=widgets.Layout(width=\"38ex\"),\n",
    "    description='Número de etapas $n$',\n",
    "    disabled=False,\n",
    "    min=1, max=99,)\n",
    "\n",
    "display(N1)\n",
    "display(N2)\n",
    "display(R1)\n",
    "display(R2)\n",
    "display(e)\n",
    "display(MT)\n",
    "display(n)\n",
    "\n",
    "display(HTML('''\n",
    "<style>\n",
    "    .widget-label { width: 28ex !important;text-align:left !important; }    \n",
    "</style>'''))"
   ]
  },
  {
   "cell_type": "code",
   "execution_count": 3,
   "id": "eeeefdc1",
   "metadata": {},
   "outputs": [
    {
     "data": {
      "text/html": [
       "\n",
       "<button onclick=\"ejecutar(14,15)\">Calcular</button>\n",
       "<button onclick=\"ejecutar(12,13)\">Reiniciar variables</button>\n",
       "<script>function ejecutar(desde, hasta){\n",
       "    for(i = desde; i < hasta; i++)\n",
       "Jupyter.notebook.execute_cells([i])    \n",
       "}</script>"
      ],
      "text/plain": [
       "<IPython.core.display.HTML object>"
      ]
     },
     "execution_count": 3,
     "metadata": {},
     "output_type": "execute_result"
    }
   ],
   "source": [
    "from IPython.display import HTML\n",
    "HTML('''\n",
    "<button onclick=\"ejecutar(14,15)\">Calcular</button>\n",
    "<button onclick=\"ejecutar(12,13)\">Reiniciar variables</button>\n",
    "<script>function ejecutar(desde, hasta){\n",
    "    for(i = desde; i < hasta; i++)\n",
    "Jupyter.notebook.execute_cells([i])    \n",
    "}</script>''')"
   ]
  },
  {
   "cell_type": "code",
   "execution_count": 4,
   "id": "ad4b7916",
   "metadata": {},
   "outputs": [
    {
     "data": {
      "text/html": [
       "$$ \\mu = \\frac{4000.00·4·0.00125}{4·{\\pi}·5·23.04}·\\frac{1}{0.775^4-0.075^4}= 0.0383\\ \\frac{N·s}{m^2} $$"
      ],
      "text/plain": [
       "<IPython.core.display.HTML object>"
      ]
     },
     "metadata": {},
     "output_type": "display_data"
    }
   ],
   "source": [
    "import math\n",
    "from IPython.display import HTML, display, Latex\n",
    "from IPython.display import Markdown as md\n",
    "\n",
    "w= (N1.value-N2.value)*2*math.pi/60\n",
    "ep=e.value*10**(-3)\n",
    "r1=R1.value*10**(-3)\n",
    "r2=R2.value*10**(-3)\n",
    "\n",
    "if (e.value==0):\n",
    "    display(HTML('<b><FONT COLOR=\"RED\">La separacion no puede ser 0!</b>'))\n",
    "elif (R1.value<=R2.value):\n",
    "    display(HTML('<b><FONT COLOR=\"RED\">La diferencia entre radios no puede ser 0 negativa! </b>'))\n",
    "elif (N1.value<=N2.value):\n",
    "    display(HTML('<b><FONT COLOR=\"RED\">La diferencia entre velocidades no puede ser 0 o negativa! </b>'))\n",
    "    \n",
    "else:\n",
    "    va=MT.value*4*ep/(4*math.pi*n.value*w*(r1**4-r2**4))\n",
    "   \n",
    "    display(HTML(f'$$ \\\\mu = \\\\frac{{{MT.value:.2f}·4·{ep}}}{{4·{{\\\\pi}}·{n.value:.0f}·{w:.2f}}}·\\\\frac{{1}}{{{r1}^4-{r2}^4}}= {va:.4f}\\\\ \\\\frac{{N·s}}{{m^2}} $$'))"
   ]
  },
  {
   "cell_type": "markdown",
   "id": "953211f8",
   "metadata": {},
   "source": [
    "Una vez despejada la viscosidad absoluta del aceite calculamos su densidad:\n",
    "\n",
    "<p class=\"formulas\"> $$ S_{_{aceite}}= \\frac{\\rho_{_{aceite}}}{\\rho_{_{agua}}}\\rightarrow \\rho_{_{aceite}}  = S_{_{aceite}}·\\rho_{_{agua}} $$ <p>"
   ]
  },
  {
   "cell_type": "markdown",
   "id": "11ed8a1a",
   "metadata": {},
   "source": [
    "Y hallamos el valor de la viscosidad cinematica a traves de su formula:\n",
    "    \n",
    "<p class=\"formulas\"> $$ \\nu_{_{aceite}}= \\frac{\\mu_{_{aceite}}}{\\rho_{_{aceite}}}$$"
   ]
  },
  {
   "cell_type": "code",
   "execution_count": 5,
   "id": "c1ee21a4",
   "metadata": {},
   "outputs": [
    {
     "data": {
      "application/vnd.jupyter.widget-view+json": {
       "model_id": "cc9822ed4bb84bea931daf32cb31cac5",
       "version_major": 2,
       "version_minor": 0
      },
      "text/plain": [
       "BoundedFloatText(value=0.79, description='Densidad relativa compuesto $s$', layout=Layout(width='38ex'), max=9…"
      ]
     },
     "metadata": {},
     "output_type": "display_data"
    },
    {
     "data": {
      "text/html": [
       "\n",
       "<style>\n",
       "    .widget-label {min-width: 28ex !important;text-align:left !important; }    \n",
       "</style>"
      ],
      "text/plain": [
       "<IPython.core.display.HTML object>"
      ]
     },
     "metadata": {},
     "output_type": "display_data"
    }
   ],
   "source": [
    "from ipywidgets import interact, interactive, Checkbox, VBox\n",
    "from IPython.display import HTML, display\n",
    "import ipywidgets as widgets\n",
    "\n",
    "\n",
    "S_aceite1 = widgets.BoundedFloatText(\n",
    "    value=0.79,\n",
    "    layout=widgets.Layout(width=\"38ex\"),\n",
    "    description='Densidad relativa compuesto $s$',\n",
    "    disabled=False,\n",
    "    min=0, max=99,\n",
    ")\n",
    "\n",
    "display(S_aceite1)\n",
    "\n",
    "display(HTML('''\n",
    "<style>\n",
    "    .widget-label {min-width: 28ex !important;text-align:left !important; }    \n",
    "</style>'''))"
   ]
  },
  {
   "cell_type": "code",
   "execution_count": 6,
   "id": "b97830ce",
   "metadata": {},
   "outputs": [
    {
     "data": {
      "text/html": [
       "\n",
       "<button onclick=\"ejecutar(19,20)\">Calcular</button>\n",
       "<button onclick=\"ejecutar(17,18)\">Reiniciar variables</button>\n",
       "<script>function ejecutar(desde, hasta){\n",
       "    for(i = desde; i < hasta; i++)\n",
       "Jupyter.notebook.execute_cells([i])    \n",
       "}</script>"
      ],
      "text/plain": [
       "<IPython.core.display.HTML object>"
      ]
     },
     "execution_count": 6,
     "metadata": {},
     "output_type": "execute_result"
    }
   ],
   "source": [
    "from IPython.display import HTML\n",
    "HTML('''\n",
    "<button onclick=\"ejecutar(19,20)\">Calcular</button>\n",
    "<button onclick=\"ejecutar(17,18)\">Reiniciar variables</button>\n",
    "<script>function ejecutar(desde, hasta){\n",
    "    for(i = desde; i < hasta; i++)\n",
    "Jupyter.notebook.execute_cells([i])    \n",
    "}</script>''')"
   ]
  },
  {
   "cell_type": "code",
   "execution_count": 7,
   "id": "b9f563d9",
   "metadata": {},
   "outputs": [
    {
     "data": {
      "text/html": [
       " $$\\rho_{aceite}= 1000 \\ (kg/m^3)·0.79 \\ (adimensional)=790.00 \\  kg/m^3$$"
      ],
      "text/plain": [
       "<IPython.core.display.HTML object>"
      ]
     },
     "metadata": {},
     "output_type": "display_data"
    },
    {
     "data": {
      "text/html": [
       " $$\\nu_{aceite}= \\frac { 0.0383 \\ (kg /m·s)}{ 790.0\\ (kg/m^3) } =0.0000485 \\  m^2/s =\\fbox { 48.5 cSt } $$"
      ],
      "text/plain": [
       "<IPython.core.display.HTML object>"
      ]
     },
     "metadata": {},
     "output_type": "display_data"
    }
   ],
   "source": [
    "from IPython.display import HTML, display, Latex\n",
    "from IPython.display import Markdown as md\n",
    "\n",
    "\n",
    "rho_agua=1000\n",
    "\n",
    "if (S_aceite1.value==0):\n",
    "    display(HTML('<b><FONT COLOR=\"RED\">La densidad relativa no puede ser 0!</b>'))\n",
    "else:\n",
    "    rho_aceite=rho_agua*S_aceite1.value\n",
    "    v_cinem=va/rho_aceite\n",
    "    v_cinem_cst= 10**6*v_cinem\n",
    "    display(HTML(f' $$\\\\rho_{{aceite}}= {rho_agua} \\\\ (kg/m^3)·{S_aceite1.value} \\\\ (adimensional)={rho_aceite:.2f} \\\\  kg/m^3$$'))\n",
    "    display(HTML(f' $$\\\\nu_{{aceite}}= \\\\frac {{ {va:.4f} \\\\ (kg /m·s)}}{{ {rho_aceite}\\\\ (kg/m^3) }} ={v_cinem:.7f} \\\\  m^2/s =\\\\fbox {{ {v_cinem_cst:.1f} cSt }} $$'))"
   ]
  },
  {
   "cell_type": "code",
   "execution_count": 8,
   "id": "ead4abee",
   "metadata": {},
   "outputs": [
    {
     "data": {
      "text/html": [
       "\n",
       "\n",
       "</script>\n",
       "<button onclick=\"confirmar() ; toggle()\" class=\"button-85\" id=\"boton2\"> Mostrar código </button>\n",
       "\n"
      ],
      "text/plain": [
       "<IPython.core.display.HTML object>"
      ]
     },
     "execution_count": 8,
     "metadata": {},
     "output_type": "execute_result"
    }
   ],
   "source": [
    "from IPython.display import HTML,Javascript\n",
    "\n",
    "HTML('''\n",
    "\n",
    "</script>\n",
    "<button onclick=\"confirmar() ; toggle()\" class=\"button-85\" id=\"boton2\"> Mostrar código </button>\n",
    "\n",
    "''')"
   ]
  },
  {
   "cell_type": "markdown",
   "id": "9d42ae60",
   "metadata": {},
   "source": [
    "<h2>b) Seleccionar de la tabla de la figura el aceite más adecuado para transmitir al menos el\n",
    "par de fuerza M mientras se mantienen constantes las velocidades de rotación N1 y N2.</h2>"
   ]
  },
  {
   "cell_type": "markdown",
   "id": "0887e933",
   "metadata": {},
   "source": [
    "<div class=\"split\">\n",
    "    <div class=\"dcha\"><img src=\"../MEDIA/EJ2.3.2.png\" width='50%'></div>\n",
    "    <div class=\"izq\"><div class=\"texto\">\n",
    "\n",
    "Puesto que la viscosidad dimanica es porporcional al par de torsion, deberiamos escoger un aceite que tuviese al menos una viscosidad cinematica de 48,5 cSt. De la tabla, el aceite con una viscosidad inmediatamente superior a la minima es el denominado <strong>VG 68</strong>, con una valor de 68 cSt.\n",
    "    </div>\n",
    "    </div>\n",
    "</div>"
   ]
  },
  {
   "cell_type": "markdown",
   "id": "b5637dc2",
   "metadata": {},
   "source": [
    "<h2>c) Calcular la variación (%) que causará en la potencia transmitida el aceite\n",
    "seleccionado.</h2>"
   ]
  },
  {
   "cell_type": "markdown",
   "id": "49f3feaa",
   "metadata": {},
   "source": [
    "<div class=\"texto\">La potencia se calcula como:\n",
    "    <p class=\"formulas\">$$ Pot=Mt·w \\ [J/s]$$"
   ]
  },
  {
   "cell_type": "markdown",
   "id": "18ca71d0",
   "metadata": {},
   "source": [
    "Primero calculamos la nueva viscosidad absoluta de nuestro nuevo aceite  con $\\nu=68 \\ cSt\\  =\\  10^{-6}·68 \\ \n",
    "m^2/s$:\n",
    "    <p class=\"formulas\">\n",
    "    $$\\mu_{_{c}}(kg/m·s)=\\nu_{_{aceite}}(m^2/s)·\\rho_{_{aceite}} (kg/m^3)$$"
   ]
  },
  {
   "cell_type": "markdown",
   "id": "51bbd5a4",
   "metadata": {},
   "source": [
    "Despues es necesario calcular el par de torsion que se genera en el embrague por el uso del nuevo aceite:\n",
    "<p class=\"formulas\">\n",
    " $$ Mt_c=2n\\left[\\frac{2\\pi·\\mu·w}{4e}·(r_{_1}^4-r_{_2}^4)\\right]  $$"
   ]
  },
  {
   "cell_type": "code",
   "execution_count": 9,
   "id": "6fac0052",
   "metadata": {},
   "outputs": [
    {
     "data": {
      "application/vnd.jupyter.widget-view+json": {
       "model_id": "f2f0d118c5e04e039a0d182ee50cc815",
       "version_major": 2,
       "version_minor": 0
      },
      "text/plain": [
       "BoundedFloatText(value=68.0, description='Viscosidad cinematica $\\\\nu$ $[cSt]$', layout=Layout(width='38ex'), …"
      ]
     },
     "metadata": {},
     "output_type": "display_data"
    },
    {
     "data": {
      "text/html": [
       "\n",
       "<style>\n",
       "    .widget-label {min-width: 28ex !important;text-align:left !important; }    \n",
       "</style>"
      ],
      "text/plain": [
       "<IPython.core.display.HTML object>"
      ]
     },
     "metadata": {},
     "output_type": "display_data"
    }
   ],
   "source": [
    "from ipywidgets import interact, interactive, Checkbox, VBox\n",
    "from IPython.display import HTML, display\n",
    "import ipywidgets as widgets\n",
    "\n",
    "\n",
    "v_cinem_aceite = widgets.BoundedFloatText(\n",
    "    value=68,\n",
    "    layout=widgets.Layout(width=\"38ex\"),\n",
    "    description='Viscosidad cinematica $\\\\nu$ $[cSt]$',\n",
    "    disabled=False,\n",
    "    min=0, max=99999,\n",
    ")\n",
    "\n",
    "display(v_cinem_aceite)\n",
    "\n",
    "display(HTML('''\n",
    "<style>\n",
    "    .widget-label {min-width: 28ex !important;text-align:left !important; }    \n",
    "</style>'''))"
   ]
  },
  {
   "cell_type": "code",
   "execution_count": 10,
   "id": "3ad35c71",
   "metadata": {},
   "outputs": [
    {
     "data": {
      "text/html": [
       "\n",
       "<button onclick=\"ejecutar(29,32)\">Calcular</button>\n",
       "<button onclick=\"ejecutar(27,29)\">Reiniciar variables</button>\n",
       "<script>function ejecutar(desde, hasta){\n",
       "    for(i = desde; i < hasta; i++)\n",
       "Jupyter.notebook.execute_cells([i])    \n",
       "}</script>"
      ],
      "text/plain": [
       "<IPython.core.display.HTML object>"
      ]
     },
     "execution_count": 10,
     "metadata": {},
     "output_type": "execute_result"
    }
   ],
   "source": [
    "HTML('''\n",
    "<button onclick=\"ejecutar(29,32)\">Calcular</button>\n",
    "<button onclick=\"ejecutar(27,29)\">Reiniciar variables</button>\n",
    "<script>function ejecutar(desde, hasta){\n",
    "    for(i = desde; i < hasta; i++)\n",
    "Jupyter.notebook.execute_cells([i])    \n",
    "}</script>''')"
   ]
  },
  {
   "cell_type": "code",
   "execution_count": 11,
   "id": "86775669",
   "metadata": {},
   "outputs": [
    {
     "data": {
      "text/html": [
       " $$ \\mu_c = 0.000068·790.0 =\\  0.053720\\frac{N·s}{m^2}  $$"
      ],
      "text/plain": [
       "<IPython.core.display.HTML object>"
      ]
     },
     "metadata": {},
     "output_type": "display_data"
    },
    {
     "data": {
      "text/html": [
       "$$ Mt_c = 2 · 5\\left[ \\frac{ 2 ·\\pi·0.05372·23.04}{4·0.00125}·(0.775^4-0.075^4)\\right]= 5610.04\\ N·m $$"
      ],
      "text/plain": [
       "<IPython.core.display.HTML object>"
      ]
     },
     "metadata": {},
     "output_type": "display_data"
    }
   ],
   "source": [
    "from IPython.display import HTML, display, Latex\n",
    "from IPython.display import Markdown as md\n",
    "\n",
    "if (v_cinem_aceite.value==0):\n",
    "    display(HTML('<b><FONT COLOR=\"RED\">La viscosidad cinematica no puede ser 0!</b>'))\n",
    "else:\n",
    "    v_cinem_aceite_c=v_cinem_aceite.value*10**(-6)\n",
    "    v_absol_c=v_cinem_aceite_c*rho_aceite\n",
    "    MT_c=2*n.value*2*math.pi*v_absol_c*w*(r1**4-r2**4)/(4*ep)\n",
    "\n",
    "\n",
    "    display(HTML(f' $$ \\\\mu_c = {v_cinem_aceite_c:.6f}·{rho_aceite} =\\\\  {v_absol_c:.6f}\\\\frac{{N·s}}{{m^2}}  $$'))\n",
    "    display(HTML(f'$$ Mt_c = 2 · {n.value:.0f}\\\\left[ \\\\frac{{ 2 ·\\\\pi·{v_absol_c:.5f}·{w:.2f}}}{{4·{ep}}}·({r1}^4-{r2}^4)\\\\right]= {MT_c:.2f}\\\\ N·m $$'))"
   ]
  },
  {
   "cell_type": "markdown",
   "id": "3d251d15",
   "metadata": {},
   "source": [
    "Como la diferencia de  velocidades de entrada y salida se mantiene constante para el apartado c) ($w_A=w_C$), comparamos los pares torsores de ambos apartados:"
   ]
  },
  {
   "cell_type": "code",
   "execution_count": 12,
   "id": "fbd86699",
   "metadata": {},
   "outputs": [
    {
     "data": {
      "text/html": [
       " $$\\frac{Mt_A}{Mt_C}=\\fbox{ 40.25% }$$"
      ],
      "text/plain": [
       "<IPython.core.display.HTML object>"
      ]
     },
     "metadata": {},
     "output_type": "display_data"
    }
   ],
   "source": [
    "from IPython.display import HTML, display, Latex\n",
    "from IPython.display import Markdown as md\n",
    "\n",
    "if (v_cinem_aceite.value==0):\n",
    "    display(HTML('<b><FONT COLOR=\"RED\">La viscosidad cinematica no puede ser 0!</b>'))\n",
    "else:\n",
    "    diff_c = MT_c-MT.value\n",
    "    comparac = diff_c*100/MT.value\n",
    "    display(HTML(f' $$\\\\frac{{Mt_A}}{{Mt_C}}=\\\\fbox{{ {comparac:.2f}% }}$$'))"
   ]
  },
  {
   "cell_type": "code",
   "execution_count": 13,
   "id": "d47d6c11",
   "metadata": {},
   "outputs": [
    {
     "data": {
      "text/html": [
       "\n",
       "\n",
       "</script>\n",
       "<button onclick=\"confirmar() ; toggle()\" class=\"button-85\" id=\"boton2\"> Mostrar código </button>\n",
       "\n"
      ],
      "text/plain": [
       "<IPython.core.display.HTML object>"
      ]
     },
     "execution_count": 13,
     "metadata": {},
     "output_type": "execute_result"
    }
   ],
   "source": [
    "from IPython.display import HTML,Javascript\n",
    "\n",
    "HTML('''\n",
    "\n",
    "</script>\n",
    "<button onclick=\"confirmar() ; toggle()\" class=\"button-85\" id=\"boton2\"> Mostrar código </button>\n",
    "\n",
    "''')"
   ]
  },
  {
   "cell_type": "markdown",
   "id": "7a9a27fe",
   "metadata": {},
   "source": [
    "[Volver al enunciado.](#top)"
   ]
  },
  {
   "cell_type": "code",
   "execution_count": 14,
   "id": "b78f51e2",
   "metadata": {},
   "outputs": [
    {
     "data": {
      "text/html": [
       "\n",
       "<script>\n",
       "window.location=\"EJERCICIO_2.3_Viscosidad_3.ipynb#top\";\n",
       "</script>"
      ],
      "text/plain": [
       "<IPython.core.display.HTML object>"
      ]
     },
     "execution_count": 14,
     "metadata": {},
     "output_type": "execute_result"
    }
   ],
   "source": [
    "from IPython.display import HTML\n",
    "HTML('''\n",
    "<script>\n",
    "window.location=\"EJERCICIO_2.3_Viscosidad_3.ipynb#top\";\n",
    "</script>''')"
   ]
  }
 ],
 "metadata": {
  "kernelspec": {
   "display_name": "Python 3 (ipykernel)",
   "language": "python",
   "name": "python3"
  },
  "language_info": {
   "codemirror_mode": {
    "name": "ipython",
    "version": 3
   },
   "file_extension": ".py",
   "mimetype": "text/x-python",
   "name": "python",
   "nbconvert_exporter": "python",
   "pygments_lexer": "ipython3",
   "version": "3.9.12"
  }
 },
 "nbformat": 4,
 "nbformat_minor": 5
}
