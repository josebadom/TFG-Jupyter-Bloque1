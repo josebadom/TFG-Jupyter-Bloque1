{
 "cells": [
  {
   "cell_type": "code",
   "execution_count": 1,
   "id": "b525eced",
   "metadata": {},
   "outputs": [
    {
     "data": {
      "text/html": [
       "\n",
       "<script>\n",
       "code_show=true;\n",
       "\n",
       "function confirmar() {\n",
       "        if (code_show==false) {\n",
       "            \n",
       "            let confirmar = confirm(\"¿Estás seguro de que deseas MOSTRAR las celdas de código?\"); // Popup de confirmacion\n",
       "                \n",
       "                if (confirmar==true){$('div.input').show();} // Muestra las celdas de codigo\n",
       "                else {code_show=!code_show}\n",
       "        }\n",
       "        \n",
       "        else {$('div.input').hide();} // Oculta las celdas de codigo\n",
       "        \n",
       "    code_show=!code_show\n",
       "}\n",
       "\n",
       "\n",
       "function toggle() {\n",
       "    \n",
       "    boton1.innerHTML = code_show ? 'Ocultar código' : 'Mostrar código'; // Cambia el texto del boton\n",
       "    boton2.innerHTML = boton1.innerHTML\n",
       "}\n",
       "\n",
       "$( document ).ready(confirmar); // Ejecuta la funcion confirmar cuando se carga el documento\n",
       "</script>\n",
       "\n",
       "<button onclick=\"confirmar() ; toggle()\" class=\"button-85\" id=\"boton1\"> Mostrar código </button>\n"
      ],
      "text/plain": [
       "<IPython.core.display.HTML object>"
      ]
     },
     "execution_count": 1,
     "metadata": {},
     "output_type": "execute_result"
    }
   ],
   "source": [
    "from IPython.display import HTML,Javascript\n",
    "HTML('''\n",
    "<script>\n",
    "code_show=true;\n",
    "\n",
    "function confirmar() {\n",
    "        if (code_show==false) {\n",
    "            \n",
    "            let confirmar = confirm(\"¿Estás seguro de que deseas MOSTRAR las celdas de código?\"); // Popup de confirmacion\n",
    "                \n",
    "                if (confirmar==true){$('div.input').show();} // Muestra las celdas de codigo\n",
    "                else {code_show=!code_show}\n",
    "        }\n",
    "        \n",
    "        else {$('div.input').hide();} // Oculta las celdas de codigo\n",
    "        \n",
    "    code_show=!code_show\n",
    "}\n",
    "\n",
    "\n",
    "function toggle() {\n",
    "    \n",
    "    boton1.innerHTML = code_show ? 'Ocultar código' : 'Mostrar código'; // Cambia el texto del boton\n",
    "    boton2.innerHTML = boton1.innerHTML\n",
    "}\n",
    "\n",
    "$( document ).ready(confirmar); // Ejecuta la funcion confirmar cuando se carga el documento\n",
    "</script>\n",
    "\n",
    "<button onclick=\"confirmar() ; toggle()\" class=\"button-85\" id=\"boton1\"> Mostrar código </button>\n",
    "''')"
   ]
  },
  {
   "cell_type": "markdown",
   "id": "c697a64e",
   "metadata": {},
   "source": [
    "<div class=\"texto\"><div id=\"top\"><p><p style=\"text-align: justify;\"><span style=\"color: #ff9900;\"><strong>COLECCION DE PROBLEMAS. Ejercicio 1.31&nbsp;</strong></span>Un depósito metálico sometido a una presión interior de 30 MPa contiene 2.000\n",
    "kg de agua, ocupando todo su volumen. Si el depósito se ha dilatado un 0,5 % en volumen al\n",
    "someterle a tal presión, se pide:</p>\n",
    "<br>\n",
    "</div>\n",
    "<div class=\"split\">\n",
    "    <div class=\"dcha\"><img src=\"../MEDIA/EJ2.7.png\"></div>\n",
    "    <div class=\"izq\"><div class=\"texto\">\n",
    "        <ol class=\"enunciado\">    \n",
    "        <li> Calcular la cantidad de agua que se verterá cuando el depósito se despresurice.</li>\n",
    "        </ol>\n",
    "</div>\n",
    "</div>\n",
    "</div>\n",
    "<br>\n",
    "<div class=\"texto\"><p><p style=\"text-align: justify;\"><strong>Datos:</strong>          \n",
    " Módulo elasticidad volumétrico del agua K = 2.100 MPa</p>\n",
    "</div>"
   ]
  },
  {
   "cell_type": "markdown",
   "id": "4590f1f6",
   "metadata": {},
   "source": [
    "<div class=\"antesDe\">\n",
    "<ul>\n",
    "    <li><strong>CONCEPTOS PREVIOS</strong></li>\n",
    "    <ul>\n",
    "        <li>MODULO DE ELASTICIDAD VOLUMETRICO.</li>\n",
    "        <ul> \n",
    "            <li><p class=\"formulas\">$ K=\\frac{\\Delta P}{\\frac{-\\Delta V}{V}}$<p/></li>\n",
    "            <li><p class=\"formulas\">$\\rho_{_1}=\\rho_{_0}·e^{^{\\Delta P\\  /K}}\\  (kg/m^3)$<p/></li>\n",
    "        </ul>\n",
    "        <li>MASA RESPECTO DEL VOLUMEN Y DENSIDAD.</li>\n",
    "        <ul> \n",
    "            <li><p class=\"formulas\">$m= V ·\\rho\\ (kg) $<p/></li>\n",
    "            \n",
    "         \n",
    "<li><strong>FALLO TÍPICO $\\rightarrow$ CAMBIOS DE UNIDADES. </strong></li>\n",
    " "
   ]
  },
  {
   "cell_type": "markdown",
   "id": "41755f24",
   "metadata": {},
   "source": [
    "<h2>a) Calcular la cantidad de agua que se verterá cuando el depósito se despresurice.</h2>"
   ]
  },
  {
   "cell_type": "markdown",
   "id": "4fb93a2d",
   "metadata": {},
   "source": [
    "La diferencia de presion entre un deposito abierto al aire libre y el mismo con una presión absoluta es:\n",
    " <p class=\"formulas\">$$ \\Delta P=P_{_1}^{abs} - P_{_0}^{abs} $$"
   ]
  },
  {
   "cell_type": "markdown",
   "id": "b0e5e33a",
   "metadata": {},
   "source": [
    "El módulo de elasticidad volumétrico $(K)$ se define como la relación entre la variación de\n",
    "presión y la deformación unitaria de volumen:\n",
    "\n",
    "<p class=\"formulas\">$$  K=\\frac{\\Delta P}{\\frac{-\\Delta V}{V}} = \\frac{\\Delta P}{\\frac{\\Delta \\rho}{\\rho}}= \\frac{dP}{\\frac{d\\rho}{\\rho}} \\rightarrow \\frac{d\\rho}{\\rho}=\\frac{dP}{K}$$\n",
    "    "
   ]
  },
  {
   "cell_type": "markdown",
   "id": "f0c0a1f9",
   "metadata": {},
   "source": [
    "Tomando logaritmos:\n",
    "    <p class=\"formulas\">$$ln|\\rho|_{\\rho_0}^{\\rho}=\\frac{\\Delta P}{K} \\rightarrow ln\\frac{\\rho}{\\rho_{_0}}= \\frac{\\Delta P}{K}$$"
   ]
  },
  {
   "cell_type": "markdown",
   "id": "0e21ff13",
   "metadata": {},
   "source": [
    "Despejamos:\n",
    "    <p class=\"formulas\"> $$  \\frac{\\rho_{_1}}{\\rho_{_0}}=e^{^{\\Delta P\\  /K}} \\rightarrow \\rho_{_1}=\\rho_{_0}·e^{^{\\Delta P\\  /K}}\\  kg/m^3 $$"
   ]
  },
  {
   "cell_type": "code",
   "execution_count": 2,
   "id": "9bab49de",
   "metadata": {},
   "outputs": [
    {
     "data": {
      "application/vnd.jupyter.widget-view+json": {
       "model_id": "39212ee9ec3e4c59b48ee6c64d08ef17",
       "version_major": 2,
       "version_minor": 0
      },
      "text/plain": [
       "BoundedFloatText(value=1000.0, description='Densidad inicial $\\\\rho_0$ $[kg/m^3]$', layout=Layout(width='45ex'…"
      ]
     },
     "metadata": {},
     "output_type": "display_data"
    },
    {
     "data": {
      "application/vnd.jupyter.widget-view+json": {
       "model_id": "e0b9585b2930418cac1a43863782f625",
       "version_major": 2,
       "version_minor": 0
      },
      "text/plain": [
       "BoundedFloatText(value=0.1, description='Presion atm $P_0^{abs}$ $[MPa]$', layout=Layout(width='45ex'), max=99…"
      ]
     },
     "metadata": {},
     "output_type": "display_data"
    },
    {
     "data": {
      "application/vnd.jupyter.widget-view+json": {
       "model_id": "67fb478514fb4b729ffbecd8fe685f33",
       "version_major": 2,
       "version_minor": 0
      },
      "text/plain": [
       "BoundedFloatText(value=30.0, description='Presion absoluta $P_1^{abs}$ $[MPa]$', layout=Layout(width='45ex'), …"
      ]
     },
     "metadata": {},
     "output_type": "display_data"
    },
    {
     "data": {
      "application/vnd.jupyter.widget-view+json": {
       "model_id": "78bf507f955d46f099a3eabce0d5134e",
       "version_major": 2,
       "version_minor": 0
      },
      "text/plain": [
       "BoundedFloatText(value=2100.0, description='Modulo elastico $K$ $[MPa]$', layout=Layout(width='45ex'), max=999…"
      ]
     },
     "metadata": {},
     "output_type": "display_data"
    },
    {
     "data": {
      "text/html": [
       "\n",
       "<style>\n",
       "    .widget-label { width: 35ex !important;text-align:left !important; }    \n",
       "</style>"
      ],
      "text/plain": [
       "<IPython.core.display.HTML object>"
      ]
     },
     "metadata": {},
     "output_type": "display_data"
    }
   ],
   "source": [
    "from ipywidgets import interact, interactive, Checkbox, VBox\n",
    "from IPython.display import HTML, display\n",
    "import ipywidgets as widgets\n",
    "\n",
    "rho_0= widgets.BoundedFloatText(\n",
    "    value=1000,\n",
    "    layout=widgets.Layout(width=\"45ex\"),\n",
    "    description='Densidad inicial $\\\\rho_0$ $[kg/m^3]$',\n",
    "    disabled=False,\n",
    "    min=0, max=99999,\n",
    ")\n",
    "P0= widgets.BoundedFloatText(\n",
    "    value=0.1,\n",
    "    layout=widgets.Layout(width=\"45ex\"),\n",
    "    description='Presion atm $P_0^{abs}$ $[MPa]$',\n",
    "    disabled=False,\n",
    "    min=0, max=99999,)\n",
    "P1 = widgets.BoundedFloatText(\n",
    "    value=30,\n",
    "    layout=widgets.Layout(width=\"45ex\"),\n",
    "    description='Presion absoluta $P_1^{abs}$ $[MPa]$',\n",
    "    disabled=False,\n",
    "    min=0, max=99999,)\n",
    "\n",
    "K= widgets.BoundedFloatText(\n",
    "    value=2100,\n",
    "    layout=widgets.Layout(width=\"45ex\"),\n",
    "    description='Modulo elastico $K$ $[MPa]$',\n",
    "    disabled=False,\n",
    "    min=0, max=999999,)\n",
    "\n",
    "display(rho_0)\n",
    "display(P0)\n",
    "display(P1)\n",
    "display(K)\n",
    "\n",
    "\n",
    "display(HTML('''\n",
    "<style>\n",
    "    .widget-label { width: 35ex !important;text-align:left !important; }    \n",
    "</style>'''))"
   ]
  },
  {
   "cell_type": "code",
   "execution_count": 3,
   "id": "1a4f4d4d",
   "metadata": {},
   "outputs": [
    {
     "data": {
      "text/html": [
       "\n",
       "<button onclick=\"ejecutar(10,11)\">Calcular</button>\n",
       "<button onclick=\"ejecutar(8,9)\">Reiniciar variables</button>\n",
       "<script>function ejecutar(desde, hasta){\n",
       "    for(i = desde; i < hasta; i++)\n",
       "Jupyter.notebook.execute_cells([i])    \n",
       "}</script>"
      ],
      "text/plain": [
       "<IPython.core.display.HTML object>"
      ]
     },
     "execution_count": 3,
     "metadata": {},
     "output_type": "execute_result"
    }
   ],
   "source": [
    "from IPython.display import HTML\n",
    "HTML('''\n",
    "<button onclick=\"ejecutar(10,11)\">Calcular</button>\n",
    "<button onclick=\"ejecutar(8,9)\">Reiniciar variables</button>\n",
    "<script>function ejecutar(desde, hasta){\n",
    "    for(i = desde; i < hasta; i++)\n",
    "Jupyter.notebook.execute_cells([i])    \n",
    "}</script>''')"
   ]
  },
  {
   "cell_type": "code",
   "execution_count": 4,
   "id": "fcdfcc8e",
   "metadata": {},
   "outputs": [
    {
     "data": {
      "text/html": [
       "$$ \\rho_1 = 1000.0·e^{\\ 29.9//2100.0}=1014.34\\ kg/m^3$$"
      ],
      "text/plain": [
       "<IPython.core.display.HTML object>"
      ]
     },
     "metadata": {},
     "output_type": "display_data"
    }
   ],
   "source": [
    "import math\n",
    "from IPython.display import HTML, display, Latex\n",
    "from IPython.display import Markdown as md\n",
    "\n",
    "varP=P1.value-P0.value\n",
    "\n",
    "if (rho_0.value==0):\n",
    "    display(HTML('<b><FONT COLOR=\"RED\">La densidad no puede ser 0!</b>'))\n",
    "elif (K.value==0):\n",
    "    display(HTML('<b><FONT COLOR=\"RED\">El modulo de elasticidad volumetrico no puede ser 0!</b>'))\n",
    "else:\n",
    "    rho_1=rho_0.value*math.e**(varP/K.value)\n",
    "   \n",
    "    display(HTML(f'$$ \\\\rho_1 = {rho_0.value:.1f}·e^{{\\ {varP}//{K.value}}}={rho_1:.2f}\\\\ kg/m^3$$'))"
   ]
  },
  {
   "cell_type": "markdown",
   "id": "a99c0f7f",
   "metadata": {},
   "source": [
    "Una vez calculada la densidad del liquido presurizado calculamos el volumen final del deposito:\n",
    "    <p class=\"formulas\">$$ V_1= \\frac{m_1}{\\rho_1}$$"
   ]
  },
  {
   "cell_type": "markdown",
   "id": "567320fb",
   "metadata": {},
   "source": [
    "Ahora calculamos el volumen inicial del deposito:\n",
    "<p class=\"formulas\"> $$ V_0= V_1 - \\Delta V $$"
   ]
  },
  {
   "cell_type": "markdown",
   "id": "412f44b5",
   "metadata": {},
   "source": [
    "Finalmente calculamos la masa inicial del liquido:\n",
    "    <p class=\"formulas\"> $$ V_{_0}=\\frac{m_{_0}}{\\rho_{_0}} \\rightarrow m_{_0}= V_{_0} ·\\rho_{_0} $$"
   ]
  },
  {
   "cell_type": "markdown",
   "id": "da12f32d",
   "metadata": {},
   "source": [
    "Unidades:\n",
    "    <p class=\"formulas\">\n",
    "    $$ m_{_0}\\ (kg)= V_{_0}\\ (m^3) ·\\rho_{_0} \\left(\\frac{kg}{m^3}\\right) $$"
   ]
  },
  {
   "cell_type": "code",
   "execution_count": 5,
   "id": "8ea3b30e",
   "metadata": {},
   "outputs": [
    {
     "data": {
      "application/vnd.jupyter.widget-view+json": {
       "model_id": "6ea3aa73bd7442a585d1b3ec439493c1",
       "version_major": 2,
       "version_minor": 0
      },
      "text/plain": [
       "BoundedFloatText(value=2000.0, description='masa final $m_1$ $[kg]$', layout=Layout(width='45ex'), max=99999.0…"
      ]
     },
     "metadata": {},
     "output_type": "display_data"
    },
    {
     "data": {
      "application/vnd.jupyter.widget-view+json": {
       "model_id": "4a0a9d33def646b4a2f2e7245297b20a",
       "version_major": 2,
       "version_minor": 0
      },
      "text/plain": [
       "BoundedFloatText(value=0.5, description='Variación volumen $\\\\Delta P$ [%]', layout=Layout(width='45ex'), max=…"
      ]
     },
     "metadata": {},
     "output_type": "display_data"
    },
    {
     "data": {
      "text/html": [
       "\n",
       "<style>\n",
       "    .widget-label { width: 35ex !important;text-align:left !important; }    \n",
       "</style>"
      ],
      "text/plain": [
       "<IPython.core.display.HTML object>"
      ]
     },
     "metadata": {},
     "output_type": "display_data"
    }
   ],
   "source": [
    "from ipywidgets import interact, interactive, Checkbox, VBox\n",
    "from IPython.display import HTML, display\n",
    "import ipywidgets as widgets\n",
    "\n",
    "m_1= widgets.BoundedFloatText(\n",
    "    value=2000,\n",
    "    layout=widgets.Layout(width=\"45ex\"),\n",
    "    description='masa final $m_1$ $[kg]$',\n",
    "    disabled=False,\n",
    "    min=0, max=99999,)\n",
    "var_v= widgets.BoundedFloatText(\n",
    "    value=0.5,\n",
    "    layout=widgets.Layout(width=\"45ex\"),\n",
    "    description='Variación volumen $\\\\Delta P$ [%]',\n",
    "    disabled=False,\n",
    "    min=0, max=999,)\n",
    "    \n",
    "display(m_1)\n",
    "display(var_v)\n",
    "display(HTML('''\n",
    "<style>\n",
    "    .widget-label { width: 35ex !important;text-align:left !important; }    \n",
    "</style>'''))"
   ]
  },
  {
   "cell_type": "code",
   "execution_count": 6,
   "id": "1a01ca70",
   "metadata": {},
   "outputs": [
    {
     "data": {
      "text/html": [
       "\n",
       "<button onclick=\"ejecutar(17,20)\">Calcular</button>\n",
       "<button onclick=\"ejecutar(15,16)\">Reiniciar variables</button>\n",
       "<script>function ejecutar(desde, hasta){\n",
       "    for(i = desde; i < hasta; i++)\n",
       "Jupyter.notebook.execute_cells([i])    \n",
       "}</script>"
      ],
      "text/plain": [
       "<IPython.core.display.HTML object>"
      ]
     },
     "execution_count": 6,
     "metadata": {},
     "output_type": "execute_result"
    }
   ],
   "source": [
    "from IPython.display import HTML\n",
    "HTML('''\n",
    "<button onclick=\"ejecutar(17,20)\">Calcular</button>\n",
    "<button onclick=\"ejecutar(15,16)\">Reiniciar variables</button>\n",
    "<script>function ejecutar(desde, hasta){\n",
    "    for(i = desde; i < hasta; i++)\n",
    "Jupyter.notebook.execute_cells([i])    \n",
    "}</script>''')"
   ]
  },
  {
   "cell_type": "code",
   "execution_count": 7,
   "id": "b9dbdaa1",
   "metadata": {},
   "outputs": [
    {
     "data": {
      "text/html": [
       "$$ V_1= \\frac{ 2000.0 } { 1014.34 } = 1.972\\ m^3 $$"
      ],
      "text/plain": [
       "<IPython.core.display.HTML object>"
      ]
     },
     "metadata": {},
     "output_type": "display_data"
    },
    {
     "data": {
      "text/html": [
       "$$ V_0= 1.972-0.00986 = 1.962\\ m^3 $$"
      ],
      "text/plain": [
       "<IPython.core.display.HTML object>"
      ]
     },
     "metadata": {},
     "output_type": "display_data"
    },
    {
     "data": {
      "text/html": [
       "$$ m_0= 1.962·1000.0 = 1961.87\\ kg $$"
      ],
      "text/plain": [
       "<IPython.core.display.HTML object>"
      ]
     },
     "metadata": {},
     "output_type": "display_data"
    }
   ],
   "source": [
    "import math\n",
    "from IPython.display import HTML, display, Latex\n",
    "from IPython.display import Markdown as md\n",
    "\n",
    "\n",
    "\n",
    "if (m_1.value==0):\n",
    "    display(HTML('<b><FONT COLOR=\"RED\">La masa no puede ser 0!</b>'))\n",
    "else:\n",
    "    v_1=m_1.value/rho_1\n",
    "    var_v_num=v_1*var_v.value/100\n",
    "    v_0=v_1-var_v_num\n",
    "    m_0=v_0*rho_0.value\n",
    "\n",
    "    \n",
    "    display(HTML(f'$$ V_1= \\\\frac{{ {m_1.value} }} {{ {rho_1:.2f} }} = {v_1:.3f}\\\\ m^3 $$'))\n",
    "    display(HTML(f'$$ V_0= {v_1:.3f}-{var_v_num:.5f} = {v_0:.3f}\\\\ m^3 $$'))\n",
    "    display(HTML(f'$$ m_0= {v_0:.3f}·{rho_0.value} = {m_0:.2f}\\\\ kg $$'))"
   ]
  },
  {
   "cell_type": "markdown",
   "id": "3e4d6b02",
   "metadata": {},
   "source": [
    "Calculamos la variacion de masa:\n",
    "    <p class=\"formulas\">$$ \\Delta m=m_1-m_0 $$"
   ]
  },
  {
   "cell_type": "code",
   "execution_count": 8,
   "id": "6c74ce13",
   "metadata": {},
   "outputs": [
    {
     "data": {
      "text/html": [
       "$$ \\Delta m= 2000.0-1961.87 = \\fbox{38.13 kg} $$"
      ],
      "text/plain": [
       "<IPython.core.display.HTML object>"
      ]
     },
     "metadata": {},
     "output_type": "display_data"
    }
   ],
   "source": [
    "import math\n",
    "from IPython.display import HTML, display, Latex\n",
    "from IPython.display import Markdown as md\n",
    "\n",
    "var_m=m_1.value-m_0\n",
    "    \n",
    "\n",
    "display(HTML(f'$$ \\\\Delta m= {m_1.value}-{m_0:.2f} = \\\\fbox{{{var_m:.2f} kg}} $$'))"
   ]
  },
  {
   "cell_type": "code",
   "execution_count": 9,
   "id": "af02454e",
   "metadata": {},
   "outputs": [
    {
     "data": {
      "text/html": [
       "\n",
       "\n",
       "</script>\n",
       "<button onclick=\"confirmar() ; toggle()\" class=\"button-85\" id=\"boton2\"> Mostrar código </button>\n",
       "\n"
      ],
      "text/plain": [
       "<IPython.core.display.HTML object>"
      ]
     },
     "execution_count": 9,
     "metadata": {},
     "output_type": "execute_result"
    }
   ],
   "source": [
    "from IPython.display import HTML,Javascript\n",
    "\n",
    "HTML('''\n",
    "\n",
    "</script>\n",
    "<button onclick=\"confirmar() ; toggle()\" class=\"button-85\" id=\"boton2\"> Mostrar código </button>\n",
    "\n",
    "''')"
   ]
  },
  {
   "cell_type": "markdown",
   "id": "66f82885",
   "metadata": {},
   "source": [
    "[Volver al enunciado.](#top)"
   ]
  },
  {
   "cell_type": "code",
   "execution_count": 10,
   "id": "0a2e0696",
   "metadata": {},
   "outputs": [
    {
     "data": {
      "text/html": [
       "\n",
       "<script>\n",
       "window.location=\"EJERCICIO_2.7_Modulo_elasticidad_2.ipynb#top\";\n",
       "</script>"
      ],
      "text/plain": [
       "<IPython.core.display.HTML object>"
      ]
     },
     "execution_count": 10,
     "metadata": {},
     "output_type": "execute_result"
    }
   ],
   "source": [
    "from IPython.display import HTML\n",
    "HTML('''\n",
    "<script>\n",
    "window.location=\"EJERCICIO_2.7_Modulo_elasticidad_2.ipynb#top\";\n",
    "</script>''')"
   ]
  }
 ],
 "metadata": {
  "kernelspec": {
   "display_name": "Python 3 (ipykernel)",
   "language": "python",
   "name": "python3"
  },
  "language_info": {
   "codemirror_mode": {
    "name": "ipython",
    "version": 3
   },
   "file_extension": ".py",
   "mimetype": "text/x-python",
   "name": "python",
   "nbconvert_exporter": "python",
   "pygments_lexer": "ipython3",
   "version": "3.9.12"
  }
 },
 "nbformat": 4,
 "nbformat_minor": 5
}
