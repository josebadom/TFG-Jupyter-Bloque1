{
 "cells": [
  {
   "cell_type": "code",
   "execution_count": 1,
   "id": "df749445",
   "metadata": {},
   "outputs": [
    {
     "data": {
      "text/html": [
       "\n",
       "<script>\n",
       "code_show=true;\n",
       "\n",
       "function confirmar() {\n",
       "        if (code_show==false) {\n",
       "            \n",
       "            let confirmar = confirm(\"¿Estás seguro de que deseas MOSTRAR las celdas de código?\"); // Popup de confirmacion\n",
       "                \n",
       "                if (confirmar==true){$('div.input').show();} // Muestra las celdas de codigo\n",
       "                else {code_show=!code_show}\n",
       "        }\n",
       "        \n",
       "        else {$('div.input').hide();} // Oculta las celdas de codigo\n",
       "        \n",
       "    code_show=!code_show\n",
       "}\n",
       "\n",
       "\n",
       "function toggle() {\n",
       "    \n",
       "    boton1.innerHTML = code_show ? 'Ocultar código' : 'Mostrar código'; // Cambia el texto del boton\n",
       "    boton2.innerHTML = boton1.innerHTML\n",
       "}\n",
       "\n",
       "$( document ).ready(confirmar); // Ejecuta la funcion confirmar cuando se carga el documento\n",
       "</script>\n",
       "\n",
       "<button onclick=\"confirmar() ; toggle()\" class=\"button-85\" id=\"boton1\"> Mostrar código </button>\n"
      ],
      "text/plain": [
       "<IPython.core.display.HTML object>"
      ]
     },
     "execution_count": 1,
     "metadata": {},
     "output_type": "execute_result"
    }
   ],
   "source": [
    "from IPython.display import HTML,Javascript\n",
    "HTML('''\n",
    "<script>\n",
    "code_show=true;\n",
    "\n",
    "function confirmar() {\n",
    "        if (code_show==false) {\n",
    "            \n",
    "            let confirmar = confirm(\"¿Estás seguro de que deseas MOSTRAR las celdas de código?\"); // Popup de confirmacion\n",
    "                \n",
    "                if (confirmar==true){$('div.input').show();} // Muestra las celdas de codigo\n",
    "                else {code_show=!code_show}\n",
    "        }\n",
    "        \n",
    "        else {$('div.input').hide();} // Oculta las celdas de codigo\n",
    "        \n",
    "    code_show=!code_show\n",
    "}\n",
    "\n",
    "\n",
    "function toggle() {\n",
    "    \n",
    "    boton1.innerHTML = code_show ? 'Ocultar código' : 'Mostrar código'; // Cambia el texto del boton\n",
    "    boton2.innerHTML = boton1.innerHTML\n",
    "}\n",
    "\n",
    "$( document ).ready(confirmar); // Ejecuta la funcion confirmar cuando se carga el documento\n",
    "</script>\n",
    "\n",
    "<button onclick=\"confirmar() ; toggle()\" class=\"button-85\" id=\"boton1\"> Mostrar código </button>\n",
    "''')"
   ]
  },
  {
   "cell_type": "markdown",
   "id": "1ba90f4f",
   "metadata": {},
   "source": [
    "<div class=\"texto\"><div id=\"top\">\n",
    "<p><p style=\"text-align: justify;\"><span style=\"color: #ff9900;\"><strong>EXAMEN FINAL (24/06/19). Ejercicio 1 &nbsp;</strong></span> Se tiene un tubo capilar con sección de corona circular de Dmáx=8 mm y Dmín=5 mm. Al\n",
    "sumergirlo en etanol (s=0,789) se produce un ascenso capilar de 2 mm. Sabiendo que la\n",
    "tensión superficial del etanol a 20˚C es 22,3 dyn/cm, calcular:</p>\n",
    "<br>\n",
    "</div>\n",
    "<div class=\"split\">\n",
    "    <div class=\"dcha\"><img src=\"../MEDIA/EJ2.5.png\"width='60%'></div>\n",
    "    <div class=\"izq\"><div class=\"texto\">\n",
    "        <ol class=\"enunciado\">    \n",
    "        <li> Cual es la relación entre los\n",
    "módulos de las fuerzas de adhesión y cohesión $\\frac{F_a}{F_c} $</li>\n",
    "        \n",
    "       \n",
    "\n",
    "</div>\n",
    "</div>\n"
   ]
  },
  {
   "cell_type": "markdown",
   "id": "91407b37",
   "metadata": {},
   "source": [
    "<div class=\"antesDe\">\n",
    "<ul>\n",
    "    <li><strong>CONCEPTOS PREVIOS</strong></li>\n",
    "    <ul>\n",
    "        <li>ASCENSO Y DESCENSO CAPILAR.</li>\n",
    "        <ul> \n",
    "            <li><p class=\"formulas\">$h=\\frac{\\sigma·L·cos\\theta}{A·\\rho_{_{liq}}·g} $<p/></li>\n",
    "            \n",
    "         \n",
    "<li><strong>FALLO TÍPICO $\\rightarrow$ CAMBIO DE UNIDADES. </strong></li>\n",
    "    \n",
    "\n",
    "</ul>\n",
    "<div>"
   ]
  },
  {
   "cell_type": "markdown",
   "id": "92e53009",
   "metadata": {},
   "source": [
    "<h2>a) Calcular cual es la relación entre los módulos de las fuerzas de adhesión y cohesión $\\left( \\frac{F_{_a}}{F_{_c}} \\right) $</h2>"
   ]
  },
  {
   "cell_type": "markdown",
   "id": "c8911edf",
   "metadata": {},
   "source": [
    "Como la tension supercifial no esta en unidades internacionales  $(SI)$ primero debemos hacer el cambio:\n",
    "<p class=\"formulas\">\n",
    "    $$\\sigma^{^{etanol}}_{_{20ºC}}= 22,3 \\ \\frac{dyn}{cm}=22,3 \\ \\frac{dyn}{cm}·\\frac{1}{10^5}\\frac{N}{dyn}·10^2\\frac{cm}{m}=0,0223\\frac{N}{m}$$"
   ]
  },
  {
   "cell_type": "markdown",
   "id": "99b7ed57",
   "metadata": {},
   "source": [
    "<div class=\"dcha\"><img src=\"../MEDIA/EJ2.5.1.png\"width='30%'>"
   ]
  },
  {
   "cell_type": "markdown",
   "id": "667f0351",
   "metadata": {},
   "source": [
    "El sistema se encuentra en equilibrio:\n",
    "<p class=\"formulas\">\n",
    "    $$ \\sum F_{_{Y}}=0$$"
   ]
  },
  {
   "cell_type": "markdown",
   "id": "8c0ea03f",
   "metadata": {},
   "source": [
    "Partimos de la ecuacion del ascenso capilar:\n",
    "<p class=\"formulas\">\n",
    "    $$h=\\frac{\\sigma·L·cos\\theta}{A·\\rho_{_{liq}}·g}$$"
   ]
  },
  {
   "cell_type": "markdown",
   "id": "8edf5d78",
   "metadata": {},
   "source": [
    "Como nuestra unica incognita es el angulo $\\theta$ despejamos:\n",
    "<p class=\"formulas\">\n",
    "    $$cos\\theta=\\frac{h·A·\\rho_{_{liq}}·g}{\\sigma·L}$$"
   ]
  },
  {
   "cell_type": "markdown",
   "id": "e6ad0004",
   "metadata": {},
   "source": [
    "Unidades:\n",
    "<p class=\"formulas\">\n",
    "    $$cos\\theta=\\frac{h\\ (m)· A\\ (m^2)·\\rho_{_{liq}}\\ (kg/m^3)·g\\ (m/s^2)}{\\sigma\\ (N/m)·L\\ (m)}$$"
   ]
  },
  {
   "cell_type": "markdown",
   "id": "cda4aea2",
   "metadata": {},
   "source": [
    "Al tratarse de una corona circular el perimetro $L=\\pi D+\\pi d$ y el area $A=\\frac{\\pi}{4}(D^2-d^2) $ tenemos:\n",
    "<p class=\"formulas\">\n",
    "    $$cos\\theta=\\frac{h·\\frac{\\pi}{4}(D^2-d^2)·\\rho_{_{liq}}·g}{\\sigma·\\pi·(D+d)}$$"
   ]
  },
  {
   "cell_type": "code",
   "execution_count": 2,
   "id": "2aadebb7",
   "metadata": {},
   "outputs": [
    {
     "data": {
      "application/vnd.jupyter.widget-view+json": {
       "model_id": "09ba2c9638b4424a898a9659fe7b55b4",
       "version_major": 2,
       "version_minor": 0
      },
      "text/plain": [
       "BoundedFloatText(value=0.0223, description='Tension superficial $\\\\sigma$ [N/m]', layout=Layout(width='45ex'),…"
      ]
     },
     "metadata": {},
     "output_type": "display_data"
    },
    {
     "data": {
      "application/vnd.jupyter.widget-view+json": {
       "model_id": "309a06bd6770421895f0dd33096311c0",
       "version_major": 2,
       "version_minor": 0
      },
      "text/plain": [
       "BoundedFloatText(value=8.0, description='Diametro mayor $D$ [mm]', layout=Layout(width='45ex'), max=9999.0)"
      ]
     },
     "metadata": {},
     "output_type": "display_data"
    },
    {
     "data": {
      "application/vnd.jupyter.widget-view+json": {
       "model_id": "e72a55cd396b47f4a8fba69ed61f8556",
       "version_major": 2,
       "version_minor": 0
      },
      "text/plain": [
       "BoundedFloatText(value=5.0, description='Diametro menor $d$ [mm]', layout=Layout(width='45ex'), max=9999.0)"
      ]
     },
     "metadata": {},
     "output_type": "display_data"
    },
    {
     "data": {
      "application/vnd.jupyter.widget-view+json": {
       "model_id": "f967eb3d1b764cc798c6aef63301df46",
       "version_major": 2,
       "version_minor": 0
      },
      "text/plain": [
       "BoundedFloatText(value=0.789, description='Densidad relativa $S$ [Adimensional]', layout=Layout(width='45ex'),…"
      ]
     },
     "metadata": {},
     "output_type": "display_data"
    },
    {
     "data": {
      "text/html": [
       "\n",
       "<style>\n",
       "    .widget-label { width: 35ex !important;text-align:left !important; }    \n",
       "</style>"
      ],
      "text/plain": [
       "<IPython.core.display.HTML object>"
      ]
     },
     "metadata": {},
     "output_type": "display_data"
    }
   ],
   "source": [
    "from ipywidgets import interact, interactive, Checkbox, VBox\n",
    "from IPython.display import HTML, display\n",
    "import ipywidgets as widgets\n",
    "\n",
    "ten_sup= widgets.BoundedFloatText(\n",
    "    value=0.0223,\n",
    "    layout=widgets.Layout(width=\"45ex\"),\n",
    "    step=0.01,\n",
    "    description='Tension superficial $\\\\sigma$ [N/m]',\n",
    "    disabled=False,\n",
    "    min=0, max=9999,\n",
    ")\n",
    "D= widgets.BoundedFloatText(\n",
    "    value=8,\n",
    "    layout=widgets.Layout(width=\"45ex\"),\n",
    "    description='Diametro mayor $D$ [mm]',\n",
    "    disabled=False,\n",
    "    min=0, max=9999,)\n",
    "d = widgets.BoundedFloatText(\n",
    "    value=5,\n",
    "    layout=widgets.Layout(width=\"45ex\"),\n",
    "    description='Diametro menor $d$ [mm]',\n",
    "    disabled=False,\n",
    "    min=0, max=9999,)\n",
    "s = widgets.BoundedFloatText(\n",
    "    value=0.789,\n",
    "    layout=widgets.Layout(width=\"45ex\"),\n",
    "    description='Densidad relativa $S$ [Adimensional]',\n",
    "    disabled=False,\n",
    "    min=0, max=9999,)\n",
    "\n",
    "\n",
    "display(ten_sup)\n",
    "display(D)\n",
    "display(d)\n",
    "display(s)\n",
    "\n",
    "display(HTML('''\n",
    "<style>\n",
    "    .widget-label { width: 35ex !important;text-align:left !important; }    \n",
    "</style>'''))"
   ]
  },
  {
   "cell_type": "code",
   "execution_count": 3,
   "id": "a8d6eac3",
   "metadata": {},
   "outputs": [
    {
     "data": {
      "text/html": [
       "\n",
       "<button onclick=\"ejecutar(13,19)\">Calcular</button>\n",
       "<button onclick=\"ejecutar(11,12)\">Reiniciar variables</button>\n",
       "<script>function ejecutar(desde, hasta){\n",
       "    for(i = desde; i < hasta; i++)\n",
       "Jupyter.notebook.execute_cells([i])    \n",
       "}</script>"
      ],
      "text/plain": [
       "<IPython.core.display.HTML object>"
      ]
     },
     "execution_count": 3,
     "metadata": {},
     "output_type": "execute_result"
    }
   ],
   "source": [
    "from IPython.display import HTML\n",
    "HTML('''\n",
    "<button onclick=\"ejecutar(13,19)\">Calcular</button>\n",
    "<button onclick=\"ejecutar(11,12)\">Reiniciar variables</button>\n",
    "<script>function ejecutar(desde, hasta){\n",
    "    for(i = desde; i < hasta; i++)\n",
    "Jupyter.notebook.execute_cells([i])    \n",
    "}</script>''')"
   ]
  },
  {
   "cell_type": "code",
   "execution_count": 4,
   "id": "b34394af",
   "metadata": {},
   "outputs": [
    {
     "data": {
      "text/html": [
       "$$ h·d=K (Ley\\ de\\ Jurin) \\rightarrow h·\\frac{D^2-d^2}{D+d}=0.00200·\\frac{0.008^2-0.005^2}{0.008+0.005}=6e-06$$"
      ],
      "text/plain": [
       "<IPython.core.display.HTML object>"
      ]
     },
     "metadata": {},
     "output_type": "display_data"
    },
    {
     "data": {
      "text/html": [
       "$$ h=K·\\frac{D+d}{D^2-d^2}=0.00200\\ m=2.00\\ mm $$"
      ],
      "text/plain": [
       "<IPython.core.display.HTML object>"
      ]
     },
     "metadata": {},
     "output_type": "display_data"
    },
    {
     "data": {
      "text/html": [
       "$$ cos\\theta = \\frac{0.00200·\\frac{\\pi}{4}·(0.008^2-0.005^2)·789.0·9.81} {0.0223·\\pi ·(0.008+0.005) }= 0.521$$"
      ],
      "text/plain": [
       "<IPython.core.display.HTML object>"
      ]
     },
     "metadata": {},
     "output_type": "display_data"
    },
    {
     "data": {
      "text/html": [
       "$$ \\theta=arccos\\ (0.521)=\\fbox{58.63 º} $$"
      ],
      "text/plain": [
       "<IPython.core.display.HTML object>"
      ]
     },
     "metadata": {},
     "output_type": "display_data"
    }
   ],
   "source": [
    "import math\n",
    "from IPython.display import HTML, display, Latex\n",
    "from IPython.display import Markdown as md\n",
    "\n",
    "d_m=d.value*10**(-3)\n",
    "D_m=D.value*10**(-3)\n",
    "\n",
    "h_og=2*10**(-3)\n",
    "D_og=8*10**(-3)\n",
    "d_og=5*10**(-3)\n",
    "K=h_og*((D_og)**2-(d_og)**2)/(D_og+d_og) #Ley de Jurin\n",
    "\n",
    "g=9.81\n",
    "rho_agua=1000\n",
    "\n",
    "\n",
    "if (ten_sup.value==0):\n",
    "    display(HTML('<b><FONT COLOR=\"RED\">La tension superficial no puede ser 0!</b>'))\n",
    "elif (D.value<=d.value):\n",
    "    display(HTML('<b><FONT COLOR=\"RED\">La diferencia entre radios no puede ser 0 o negativa! </b>'))\n",
    "elif (s.value==0):\n",
    "    display(HTML('<b><FONT COLOR=\"RED\">La densidad relativa no puede ser 0! </b>'))\n",
    "else:\n",
    "    rho_liq=s.value*rho_agua\n",
    "    h_k=K*(D_m+d_m)/((D_m)**2-(d_m)**2)\n",
    "    result=h_k*rho_liq*g*math.pi/4*(D_m**2-d_m**2)/(ten_sup.value*math.pi*(D_m+d_m))\n",
    "    h_k_mm=h_k*10**3\n",
    "    ang_rad=math.acos(result)\n",
    "    ang_ang=ang_rad*180/math.pi\n",
    "   \n",
    "    display(HTML(f'$$ h·d=K (Ley\\\\ de\\\\ Jurin) \\\\rightarrow h·\\\\frac{{D^2-d^2}}{{D+d}}={h_k:.5f}·\\\\frac{{{D_m}^2-{d_m}^2}}{{{D_m}+{d_m}}}={K:.0e}$$'))\n",
    "    display(HTML(f'$$ h=K·\\\\frac{{D+d}}{{D^2-d^2}}={h_k:.5f}\\\\ m={h_k_mm:.2f}\\\\ mm $$'))\n",
    "    display(HTML(f'$$ cos\\\\theta = \\\\frac{{{h_k:.5f}·\\\\frac{{\\\\pi}}{{4}}·({D_m}^2-{d_m}^2)·{rho_liq}·{g}}} {{{ten_sup.value}·\\\\pi ·({D_m}+{d_m}) }}= {result:.3f}$$'))\n",
    "    display(HTML(f'$$ \\\\theta=arccos\\\\ ({result:.3f})=\\\\fbox{{{ang_ang:.2f} º}} $$'))"
   ]
  },
  {
   "cell_type": "markdown",
   "id": "df3b6e8f",
   "metadata": {},
   "source": [
    "Una vez calculado el angulo solo queda comparar las fuerzas de adhesion y cohesion, para ello resolvemos trigonometricamente:"
   ]
  },
  {
   "cell_type": "markdown",
   "id": "c1cb85e1",
   "metadata": {},
   "source": [
    "<div class=\"split\">\n",
    "    <div class=\"izq\"><img src=\"../MEDIA/EJ2.4.1.png\"width='60%'></div>\n",
    "    <div class=\"dcha\"><div class=\"texto\">\n",
    "        <p class=\"formulas\">\n",
    "         $$ tan\\theta=\\frac{{F_{_c}}·sen45}{{F_{_a}}-{F_{_c}}·cos45}$$\n",
    "         <br>\n",
    "         <p>\n",
    "         <div class=\"texto\">\n",
    "         <p class=\"formulas\">    \n",
    "         $$ tan\\theta\\ \\left({F_{_a}}-{F_{_c}}·\\frac{\\sqrt{2}}{2}\\right)={F_{_c}}·\\frac{\\sqrt{2}}{2} $$\n",
    "         <br>\n",
    "         <p>\n",
    "         <div class=\"texto\">\n",
    "         <p class=\"formulas\"> \n",
    "         $$ tan\\theta·\\frac{2}{\\sqrt{2}}·{F_{_a}}={F_{_c}}+tan\\theta·{F_{_c}}$$"
   ]
  },
  {
   "cell_type": "markdown",
   "id": "0240b3d4",
   "metadata": {},
   "source": [
    "<p class=\"formulas\">\n",
    "$$ F_{_a}\\left( tan\\theta \\frac{2}{\\sqrt{2}} \\right)= F_{_c}\\left(1+tan\\theta \\right)$$"
   ]
  },
  {
   "cell_type": "markdown",
   "id": "f3df6181",
   "metadata": {},
   "source": [
    "Dividiendo ambos terminos:\n",
    "<p class=\"formulas\">\n",
    "    $$\\frac{F_{_a}}{F_{_c}}=\\frac{1+tan\\theta}{tan\\theta ·\\frac{2}{\\sqrt{2}}}$$"
   ]
  },
  {
   "cell_type": "code",
   "execution_count": 5,
   "id": "280a9247",
   "metadata": {},
   "outputs": [
    {
     "data": {
      "text/html": [
       "$$\\frac{ F_a }{ F_c }= \\frac{ 1+ tan\\  (58.63)}{ tan\\ (58.63) · \\frac{2}{\\sqrt2} }=\\fbox{1.138} $$"
      ],
      "text/plain": [
       "<IPython.core.display.HTML object>"
      ]
     },
     "metadata": {},
     "output_type": "display_data"
    }
   ],
   "source": [
    "import math\n",
    "from IPython.display import HTML, display, Latex\n",
    "from IPython.display import Markdown as md\n",
    "\n",
    "\n",
    "if (ten_sup.value==0):\n",
    "    display(HTML('<b><FONT COLOR=\"RED\">La tension superficial no puede ser 0!</b>'))\n",
    "elif (D.value<=d.value):\n",
    "    display(HTML('<b><FONT COLOR=\"RED\">La diferencia entre radios no puede ser negativa! </b>'))\n",
    "elif (s.value==0):\n",
    "    display(HTML('<b><FONT COLOR=\"RED\">La densidad relativa no puede ser 0! </b>'))\n",
    "else:\n",
    "\n",
    "    fa_fc=(1+math.tan(ang_rad))/(math.tan(ang_rad)*2/math.sqrt(2))\n",
    "    \n",
    "    \n",
    "    display(HTML(f'$$\\\\frac{{ F_a }}{{ F_c }}= \\\\frac{{ 1+ tan\\  ({ang_ang:.2f})}}{{ tan\\\\ ({ang_ang:.2f}) · \\\\frac{{2}}{{\\\\sqrt{2}}} }}=\\\\fbox{{{fa_fc:.3f}}} $$'))"
   ]
  },
  {
   "cell_type": "code",
   "execution_count": 6,
   "id": "356a6925",
   "metadata": {},
   "outputs": [
    {
     "data": {
      "text/html": [
       "\n",
       "\n",
       "</script>\n",
       "<button onclick=\"confirmar() ; toggle()\" class=\"button-85\" id=\"boton2\"> Mostrar código </button>\n",
       "\n"
      ],
      "text/plain": [
       "<IPython.core.display.HTML object>"
      ]
     },
     "execution_count": 6,
     "metadata": {},
     "output_type": "execute_result"
    }
   ],
   "source": [
    "from IPython.display import HTML,Javascript\n",
    "\n",
    "HTML('''\n",
    "\n",
    "</script>\n",
    "<button onclick=\"confirmar() ; toggle()\" class=\"button-85\" id=\"boton2\"> Mostrar código </button>\n",
    "\n",
    "''')"
   ]
  },
  {
   "cell_type": "markdown",
   "id": "957aca8f",
   "metadata": {},
   "source": [
    "[Volver al enunciado.](#top)"
   ]
  },
  {
   "cell_type": "code",
   "execution_count": 7,
   "id": "74a31350",
   "metadata": {},
   "outputs": [
    {
     "data": {
      "text/html": [
       "\n",
       "<script>\n",
       "window.location=\"EJERCICIO_2.5_Capilaridad_2.ipynb#top\";\n",
       "</script>"
      ],
      "text/plain": [
       "<IPython.core.display.HTML object>"
      ]
     },
     "execution_count": 7,
     "metadata": {},
     "output_type": "execute_result"
    }
   ],
   "source": [
    "from IPython.display import HTML\n",
    "HTML('''\n",
    "<script>\n",
    "window.location=\"EJERCICIO_2.5_Capilaridad_2.ipynb#top\";\n",
    "</script>''')"
   ]
  }
 ],
 "metadata": {
  "kernelspec": {
   "display_name": "Python 3 (ipykernel)",
   "language": "python",
   "name": "python3"
  },
  "language_info": {
   "codemirror_mode": {
    "name": "ipython",
    "version": 3
   },
   "file_extension": ".py",
   "mimetype": "text/x-python",
   "name": "python",
   "nbconvert_exporter": "python",
   "pygments_lexer": "ipython3",
   "version": "3.9.12"
  }
 },
 "nbformat": 4,
 "nbformat_minor": 5
}
