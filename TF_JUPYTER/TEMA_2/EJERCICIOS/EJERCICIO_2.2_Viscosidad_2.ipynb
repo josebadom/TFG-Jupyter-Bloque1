{
 "cells": [
  {
   "cell_type": "code",
   "execution_count": 1,
   "id": "4a9f501c",
   "metadata": {},
   "outputs": [
    {
     "data": {
      "text/html": [
       "\n",
       "<script>\n",
       "code_show=true;\n",
       "\n",
       "function confirmar() {\n",
       "        if (code_show==false) {\n",
       "            \n",
       "            let confirmar = confirm(\"¿Estás seguro de que deseas MOSTRAR las celdas de código?\"); // Popup de confirmacion\n",
       "                \n",
       "                if (confirmar==true){$('div.input').show();} // Muestra las celdas de codigo\n",
       "                else {code_show=!code_show}\n",
       "        }\n",
       "        \n",
       "        else {$('div.input').hide();} // Oculta las celdas de codigo\n",
       "        \n",
       "    code_show=!code_show\n",
       "}\n",
       "\n",
       "\n",
       "function toggle() {\n",
       "    \n",
       "    boton1.innerHTML = code_show ? 'Ocultar código' : 'Mostrar código'; // Cambia el texto del boton\n",
       "    boton2.innerHTML = boton1.innerHTML\n",
       "}\n",
       "\n",
       "$( document ).ready(confirmar); // Ejecuta la funcion confirmar cuando se carga el documento\n",
       "</script>\n",
       "\n",
       "<button onclick=\"confirmar() ; toggle()\" class=\"button-85\" id=\"boton1\"> Mostrar código </button>\n"
      ],
      "text/plain": [
       "<IPython.core.display.HTML object>"
      ]
     },
     "execution_count": 1,
     "metadata": {},
     "output_type": "execute_result"
    }
   ],
   "source": [
    "from IPython.display import HTML,Javascript\n",
    "HTML('''\n",
    "<script>\n",
    "code_show=true;\n",
    "\n",
    "function confirmar() {\n",
    "        if (code_show==false) {\n",
    "            \n",
    "            let confirmar = confirm(\"¿Estás seguro de que deseas MOSTRAR las celdas de código?\"); // Popup de confirmacion\n",
    "                \n",
    "                if (confirmar==true){$('div.input').show();} // Muestra las celdas de codigo\n",
    "                else {code_show=!code_show}\n",
    "        }\n",
    "        \n",
    "        else {$('div.input').hide();} // Oculta las celdas de codigo\n",
    "        \n",
    "    code_show=!code_show\n",
    "}\n",
    "\n",
    "\n",
    "function toggle() {\n",
    "    \n",
    "    boton1.innerHTML = code_show ? 'Ocultar código' : 'Mostrar código'; // Cambia el texto del boton\n",
    "    boton2.innerHTML = boton1.innerHTML\n",
    "}\n",
    "\n",
    "$( document ).ready(confirmar); // Ejecuta la funcion confirmar cuando se carga el documento\n",
    "</script>\n",
    "\n",
    "<button onclick=\"confirmar() ; toggle()\" class=\"button-85\" id=\"boton1\"> Mostrar código </button>\n",
    "''')"
   ]
  },
  {
   "cell_type": "markdown",
   "id": "9e386474",
   "metadata": {},
   "source": [
    "<div class=\"texto\"><div id=\"top\"><p><p style=\"text-align: justify;\"><span style=\"color: #ff9900;\"><strong>COLECCION DE PROBLEMAS. Ejercicio 1.24.&nbsp;</strong></span> Un cuerpo cónico gira a una velocidad\n",
    "constante de 10 rad/s. Una película de aceite de\n",
    "viscosidad $2,2·10^{-4} kg·s/m^2$ separa el cono del\n",
    "recipiente que lo contiene. Si el espesor de la\n",
    "película es de 0,25 mm, se pide:</p>\n",
    "</div>\n",
    "<div class=\"split\">\n",
    "    <div class=\"dcha\"><img src=\"../MEDIA/EJ2.2.PNG\"></div>\n",
    "    <div class=\"izq\"><div class=\"texto\">\n",
    "        <ol class=\"enunciado\">    \n",
    "        <li>Par necesario para mantener el movimiento.</li>\n",
    "       </ol>\n",
    "</div>\n",
    "       \n",
    "      \n",
    "            \n",
    "       \n",
    "</div>        \n",
    "</div>\n",
    "</div>\n",
    "<div class=\"texto\"><p><p style=\"text-align: justify;\"><strong>Datos:</strong>          \n",
    " Radio del cono en su base = 5 cm; altura del cono = 10 cm.</p></div>"
   ]
  },
  {
   "cell_type": "markdown",
   "id": "7f00e9d2",
   "metadata": {},
   "source": [
    "<div class=\"antesDe\">\n",
    "<ul>\n",
    "    <li><strong>CONCEPTOS PREVIOS</strong></li>\n",
    "    <ul>\n",
    "        <li>LEY DE NEWTON DE LA VISCOSIDAD.</li>\n",
    "        <ul> \n",
    "            <li><p class=\"formulas\">$ \\tau=\\frac{dFt}{dA}=\\mu·\\frac{du}{dy}$<p/></li>\n",
    "            <li><p class=\"formulas\">$ dFt=\\mu·\\frac{u}{y}·dA $<p/></li>\n",
    "            <li><p class=\"formulas\">$  dMt= dFt·r $<p/></li>\n",
    "         </ul>\n",
    " \n",
    "            \n",
    "            \n",
    "         \n",
    "<li><strong>FALLO TÍPICO $\\rightarrow$ NO CALCULAR LA FUERZA LATERAL RESPECTO DE LA ALTURA $h$ DEL CONO. </strong></li>\n",
    "    <ul><li>Se debe tener en cuenta que el radio $r$ para la superficie lateral varia en funcion de la altura $h$ del cono en ese punto.  </li></ul>\n",
    "\n",
    "</ul>\n",
    "<div>"
   ]
  },
  {
   "cell_type": "markdown",
   "id": "1f12631c",
   "metadata": {},
   "source": [
    "<h2>a) Par necesario para mantener el movimiento.</h2>"
   ]
  },
  {
   "cell_type": "markdown",
   "id": "1e3776c9",
   "metadata": {},
   "source": [
    "Puesto que el dato de la viscosidad dinamica no esta en unidades del sistema internacional, el primer paso es modificarlo:\n",
    "<p class=\"formulas\">\n",
    "<br>\n",
    "    $$ \\mu_{aceite}= 2,2 · 10^{-4}\\ \\  \\frac{kg·s}{m^2} = 9,8·2,2 · 10^{-4}\\ \\  \\frac{N·s}{m^2}= 2,156·10^{-3} \\  \\frac{N·s}{m^2} $$\n",
    "\n"
   ]
  },
  {
   "cell_type": "markdown",
   "id": "890d27c4",
   "metadata": {},
   "source": [
    "<h4>Para resolver el problema dividiremos la superficie en 2 partes: la base del cono y la superficie lateral.</h4>"
   ]
  },
  {
   "cell_type": "markdown",
   "id": "a1d20ec7",
   "metadata": {},
   "source": [
    "<h3>1) Superficie lateral</h3>\n",
    "\n",
    "<div class=\"split\">\n",
    "    <div class=\"izq\"><img src=\"../MEDIA/EJ2.2.1.PNG\" width=\"40%\"></div>\n",
    "    <div class=\"dcha\"><div class=\"texto\">\n",
    "        El radio (r) del cono varia en funcion de la altura (h) del mismo por lo tanto:\n",
    "        <p class=\"formulas\"> $$ r = h · tg\\theta \\ \\ (1)$$\n",
    "        </p>\n",
    "        <br>\n",
    "        <br>\n",
    "        <div class=\"texto\">\n",
    "        Y el angulo $(\\theta)$ es:\n",
    "        </div>\n",
    "        <p class=\"formulas\"> $$ \\theta = arctg \\frac{r}{h} $$\n",
    "</div>\n",
    "</div>\n",
    "</div>\n",
    "<br> \n",
    "<br>\n",
    "<div class=\"split\">\n",
    "    <div class=\"izq\"><img src=\"../MEDIA/EJ2.2.2.PNG\" width=\"60%\"></div>\n",
    "    <div class=\"dcha\"><div class=\"texto\">Por la definicion del coseno:\n",
    "        <br>\n",
    "        <p class=\"formulas\"> $$ cos\\theta = \\frac{dh}{dz} \\Rightarrow dz= \\frac{dh}{cos\\theta}\\ \\  (2) $$\n",
    "        <br>\n",
    "</div>"
   ]
  },
  {
   "cell_type": "markdown",
   "id": "dca21e39",
   "metadata": {},
   "source": [
    "Mediante la ley de Newton de la viscosidad y siendo la velocidad $u =w·r$:\n",
    "\n",
    "<p class=\"formulas\">$$ \\tau=\\frac{dFt}{dA}=\\mu·\\frac{du}{de}=\\mu·\\frac{w·r}{e} $$\n",
    "<br>\n",
    "\n"
   ]
  },
  {
   "cell_type": "markdown",
   "id": "7b588cf1",
   "metadata": {},
   "source": [
    "Como el area de un cono depende de la generatriz (Z):\n",
    "<p class=\"formulas\">\n",
    "    <br>\n",
    "$$ dFt=\\tau·dA = \\tau·2\\pi·r·dz=\\mu·\\frac{w·r}{e}·2\\pi·r·dz $$\n",
    "    "
   ]
  },
  {
   "cell_type": "markdown",
   "id": "4d36e3b7",
   "metadata": {},
   "source": [
    "Sustituimos $r = h · tg\\theta\\ \\ $(1) junto con $dz= \\frac{dh}{cos\\theta}\\ \\ $(2) en la expresión anterior:"
   ]
  },
  {
   "cell_type": "markdown",
   "id": "00ce9bba",
   "metadata": {},
   "source": [
    "<p class=\"formulas\">\n",
    "    <br>\n",
    "$$ dFt=2\\pi\\mu·\\frac{w}{e}·h^2·\\frac{tg^2\\theta}{cos\\theta}·dh$$"
   ]
  },
  {
   "cell_type": "markdown",
   "id": "413b7661",
   "metadata": {},
   "source": [
    "El par necesario en el lateral para mantener el movimiento se calcula como:\n",
    "    <p class=\"formulas\">\n",
    "    <br>\n",
    "    $$ dMt= dFt·r$$\n",
    "    <br>\n",
    "    $$ dMt= 2\\pi\\mu\\frac{w}{e}·h^2·\\frac{tg^2\\theta}{cos\\theta}·h·tg\\theta ·dh $$\n",
    "    "
   ]
  },
  {
   "cell_type": "markdown",
   "id": "05fa0a50",
   "metadata": {},
   "source": [
    "Integrando el momento torsor:\n",
    "    <p class=\"formulas\">\n",
    "    <br>\n",
    "    $$ Mt_{_{lat}}= 2\\pi\\mu \\int_{0}^{h}\\frac{w}{e}·\\frac{tg^3\\theta}{cos\\theta}·h^3·dh$$\n",
    "    <br> \n",
    "    $$ Mt_{_{lat}}= 2\\pi\\mu·\\frac{w}{e}·\\frac{tg^3\\theta}{cos\\theta}·\\frac{h^4}{4} $$"
   ]
  },
  {
   "cell_type": "markdown",
   "id": "d9e8fa6b",
   "metadata": {},
   "source": [
    "<h3> 2) Base</h3>\n",
    "\n",
    "Mediante la ley de Newton de la viscosidad:\n",
    "\n",
    "<p class=\"formulas\">$$ \\tau=\\frac{dFt}{dA}=\\mu·\\frac{du}{de}$$\n",
    "<br>\n",
    "$$ dFt=\\tau·dA=\\mu·\\frac{u}{e}·dA $$\n",
    "     <br>\n",
    "$$dMt=dFt·r$$"
   ]
  },
  {
   "cell_type": "markdown",
   "id": "9dcfb013",
   "metadata": {},
   "source": [
    "Siendo la velocidad $u =w·r$ y al tratarse la base de una circuferencia $dA = 2\\pi r dr$\n",
    "<br>\n",
    "\n",
    "<p class=\"formulas\">$$ dFt=2\\pi\\mu·\\frac{w·r}{e}·r·dr$$\n",
    "    <br>\n",
    "$$ dMt= 2\\pi\\mu·\\frac{w·r^2}{e}·r·dr = 2\\pi\\mu·\\frac{w·r^3}{e}·dr  $$"
   ]
  },
  {
   "cell_type": "markdown",
   "id": "7f41c8da",
   "metadata": {},
   "source": [
    "Integramos el par de torsión:\n",
    "<p class=\"formulas\">\n",
    "    <br>\n",
    "    $$ Mt_{_{base}}=2\\pi \\mu \\int_{0}^{r}\\left(\\frac{w·r^3}{e}\\right)·dr$$\n",
    "    <br>\n",
    "    $$ Mt_{_{base}}= 2\\pi\\mu·\\frac{w}{e}·\\frac{r^4}{4} $$"
   ]
  },
  {
   "cell_type": "markdown",
   "id": "515aca19",
   "metadata": {},
   "source": [
    "Finalmente solo nos queda sumar el par de torsion del lateral y de la base para hallar el par total:\n",
    "<p class=\"formulas\">\n",
    "    <br>\n",
    "    $$ Mt_{_{tot}}=Mt_{_{lat}}+Mt_{_{base}}$$"
   ]
  },
  {
   "cell_type": "code",
   "execution_count": 2,
   "id": "48ed1ddc",
   "metadata": {},
   "outputs": [
    {
     "data": {
      "application/vnd.jupyter.widget-view+json": {
       "model_id": "c909e671d3434d689d3fb140bb26c5b9",
       "version_major": 2,
       "version_minor": 0
      },
      "text/plain": [
       "BoundedFloatText(value=0.002156, description='Viscosidad dinamica aceite $\\\\rho_{aceite}$ $[N·s/m^2]$', layout…"
      ]
     },
     "metadata": {},
     "output_type": "display_data"
    },
    {
     "data": {
      "application/vnd.jupyter.widget-view+json": {
       "model_id": "8c449dcd34a94f8fa1d7c471e039176a",
       "version_major": 2,
       "version_minor": 0
      },
      "text/plain": [
       "BoundedFloatText(value=50.0, description='Radio $r$ $[mm]$', layout=Layout(width='50ex'), max=9999.0, min=0.00…"
      ]
     },
     "metadata": {},
     "output_type": "display_data"
    },
    {
     "data": {
      "application/vnd.jupyter.widget-view+json": {
       "model_id": "b0260d416fcf4261ad6e37b0cf94d0b8",
       "version_major": 2,
       "version_minor": 0
      },
      "text/plain": [
       "BoundedFloatText(value=100.0, description='Altura $h$ $[mm]$', layout=Layout(width='50ex'), max=99999.0, min=0…"
      ]
     },
     "metadata": {},
     "output_type": "display_data"
    },
    {
     "data": {
      "application/vnd.jupyter.widget-view+json": {
       "model_id": "ac8fc7203b78497fa7afdd59e1d48881",
       "version_major": 2,
       "version_minor": 0
      },
      "text/plain": [
       "BoundedFloatText(value=0.25, description='Espesor $e$ $[mm]$', layout=Layout(width='50ex'), max=99999.0)"
      ]
     },
     "metadata": {},
     "output_type": "display_data"
    },
    {
     "data": {
      "application/vnd.jupyter.widget-view+json": {
       "model_id": "6ecc056789884d05a7cccf72d2112d39",
       "version_major": 2,
       "version_minor": 0
      },
      "text/plain": [
       "BoundedFloatText(value=10.0, description='Velocidad de giro $w$ $[rad/s]$', layout=Layout(width='50ex'), max=9…"
      ]
     },
     "metadata": {},
     "output_type": "display_data"
    },
    {
     "data": {
      "text/html": [
       "\n",
       "<style>\n",
       "    .widget-label { width: 40ex !important;text-align:left !important; }    \n",
       "</style>"
      ],
      "text/plain": [
       "<IPython.core.display.HTML object>"
      ]
     },
     "metadata": {},
     "output_type": "display_data"
    }
   ],
   "source": [
    "from ipywidgets import interact, interactive, Checkbox, VBox\n",
    "from IPython.display import HTML, display\n",
    "import ipywidgets as widgets\n",
    "\n",
    "va= widgets.BoundedFloatText(\n",
    "    value=0.002156,\n",
    "    layout=widgets.Layout(width=\"50ex\"),\n",
    "    description='Viscosidad dinamica aceite $\\\\rho_{aceite}$ $[N·s/m^2]$',\n",
    "    disabled=False,\n",
    "    min=0, max=9999,\n",
    ")\n",
    "r= widgets.BoundedFloatText(\n",
    "    value=50,\n",
    "    layout=widgets.Layout(width=\"50ex\"),\n",
    "    description='Radio $r$ $[mm]$',\n",
    "    disabled=False,\n",
    "    min=0.001, max=9999,\n",
    ")\n",
    "h = widgets.BoundedFloatText(\n",
    "    value=100,\n",
    "    layout=widgets.Layout(width=\"50ex\"),\n",
    "    description='Altura $h$ $[mm]$',\n",
    "    disabled=False,\n",
    "    min=0.001, max=99999,\n",
    ")\n",
    "e = widgets.BoundedFloatText(\n",
    "    value=0.25,\n",
    "    layout=widgets.Layout(width=\"50ex\"),\n",
    "    description='Espesor $e$ $[mm]$',\n",
    "    disabled=False,\n",
    "    min=0, max=99999,\n",
    ")\n",
    "w= widgets.BoundedFloatText(\n",
    "    value=10,\n",
    "    layout=widgets.Layout(width=\"50ex\"),\n",
    "    description='Velocidad de giro $w$ $[rad/s]$',\n",
    "    disabled=False,\n",
    "    min=0, max=9999,\n",
    ")\n",
    "\n",
    "display(va)\n",
    "display(r)\n",
    "display(h)\n",
    "display(e)\n",
    "display(w)\n",
    "\n",
    "display(HTML('''\n",
    "<style>\n",
    "    .widget-label { width: 40ex !important;text-align:left !important; }    \n",
    "</style>'''))"
   ]
  },
  {
   "cell_type": "code",
   "execution_count": 3,
   "id": "7f36e5e6",
   "metadata": {},
   "outputs": [
    {
     "data": {
      "text/html": [
       "\n",
       "<button onclick=\"ejecutar(19,20)\">Calcular</button>\n",
       "<button onclick=\"ejecutar(17,18)\">Reiniciar variables</button>\n",
       "<script>function ejecutar(desde, hasta){\n",
       "    for(i = desde; i < hasta; i++)\n",
       "Jupyter.notebook.execute_cells([i])    \n",
       "}</script>"
      ],
      "text/plain": [
       "<IPython.core.display.HTML object>"
      ]
     },
     "execution_count": 3,
     "metadata": {},
     "output_type": "execute_result"
    }
   ],
   "source": [
    "from IPython.display import HTML\n",
    "HTML('''\n",
    "<button onclick=\"ejecutar(19,20)\">Calcular</button>\n",
    "<button onclick=\"ejecutar(17,18)\">Reiniciar variables</button>\n",
    "<script>function ejecutar(desde, hasta){\n",
    "    for(i = desde; i < hasta; i++)\n",
    "Jupyter.notebook.execute_cells([i])    \n",
    "}</script>''')"
   ]
  },
  {
   "cell_type": "code",
   "execution_count": 4,
   "id": "db403b62",
   "metadata": {},
   "outputs": [
    {
     "data": {
      "text/html": [
       "$$ Mt_{_{lat}}= 2\\pi\\mu·\\frac{10.0}{0.00025}·\\frac{tan^3(26.57)}{cos(26.57)}·\\frac{0.1^4}{4}=0.00189 \\ N·m $$"
      ],
      "text/plain": [
       "<IPython.core.display.HTML object>"
      ]
     },
     "metadata": {},
     "output_type": "display_data"
    },
    {
     "data": {
      "text/html": [
       "$$ Mt_{_{base}}= 2\\pi\\mu·\\frac{10.0}{0.00025}·\\frac{0.05^4}{4}=0.00085 \\ N·m $$"
      ],
      "text/plain": [
       "<IPython.core.display.HTML object>"
      ]
     },
     "metadata": {},
     "output_type": "display_data"
    },
    {
     "data": {
      "text/html": [
       "$$ Mt_{_{tot}}= 0.00189+0.00085 =0.00274 \\ N·m= \\fbox{ 27398.47  erg} $$"
      ],
      "text/plain": [
       "<IPython.core.display.HTML object>"
      ]
     },
     "metadata": {},
     "output_type": "display_data"
    }
   ],
   "source": [
    "import math\n",
    "from IPython.display import HTML, display, Latex\n",
    "from IPython.display import Markdown as md\n",
    "\n",
    "\n",
    "if (w.value==0):\n",
    "    display(HTML('<b><FONT COLOR=\"RED\">La velocidad angular no puede ser 0!</b>'))\n",
    "elif (e.value==0):\n",
    "    display(HTML('<b><FONT COLOR=\"RED\">El espesor de la pelicula de fluido no puede ser 0 </b>'))\n",
    "elif (va.value==0):\n",
    "    display(HTML('<b><FONT COLOR=\"RED\">La viscosidad absoluta del fluido no puede ser 0 </b>'))\n",
    "else:\n",
    "    ep=e.value*10**(-3)\n",
    "    rp=r.value*10**(-3)\n",
    "    hp=h.value*10**(-3)\n",
    "    theta=math.atan(rp/hp)\n",
    "    theta_grad=theta*180/math.pi\n",
    "    MTlat=2*math.pi*va.value*w.value/ep*(math.tan(theta))**(3)/math.cos(theta)*hp**(4)/4\n",
    "    MTbase=2*math.pi*va.value*w.value/ep*rp**(4)/4\n",
    "    MTtot= MTlat+MTbase\n",
    "    MTtot_erg=MTtot*10**7\n",
    "\n",
    "    display(HTML(f'$$ Mt_{{_{{lat}}}}= 2\\\\pi\\\\mu·\\\\frac{{{w.value}}}{{{ep}}}·\\\\frac{{tan^3({theta_grad:.2f})}}{{cos({theta_grad:.2f})}}·\\\\frac{{{hp}^4}}{{4}}={MTlat:.5f} \\\\ N·m $$'))\n",
    "    display(HTML(f'$$ Mt_{{_{{base}}}}= 2\\\\pi\\\\mu·\\\\frac{{{w.value}}}{{{ep}}}·\\\\frac{{{rp}^4}}{{4}}={MTbase:.5f} \\\\ N·m $$'))\n",
    "    display(HTML(f'$$ Mt_{{_{{tot}}}}= {MTlat:.5f}+{MTbase:.5f} ={MTtot:.5f} \\\\ N·m= \\\\fbox{{ {MTtot_erg:.2f}  erg}} $$'))"
   ]
  },
  {
   "cell_type": "code",
   "execution_count": 5,
   "id": "71ed05ef",
   "metadata": {},
   "outputs": [
    {
     "data": {
      "text/html": [
       "\n",
       "\n",
       "</script>\n",
       "<button onclick=\"confirmar() ; toggle()\" class=\"button-85\" id=\"boton2\"> Mostrar código </button>\n",
       "\n"
      ],
      "text/plain": [
       "<IPython.core.display.HTML object>"
      ]
     },
     "execution_count": 5,
     "metadata": {},
     "output_type": "execute_result"
    }
   ],
   "source": [
    "from IPython.display import HTML,Javascript\n",
    "\n",
    "HTML('''\n",
    "\n",
    "</script>\n",
    "<button onclick=\"confirmar() ; toggle()\" class=\"button-85\" id=\"boton2\"> Mostrar código </button>\n",
    "\n",
    "''')"
   ]
  },
  {
   "cell_type": "markdown",
   "id": "217a29ee",
   "metadata": {},
   "source": [
    "[Volver al enunciado.](#top)"
   ]
  },
  {
   "cell_type": "code",
   "execution_count": 6,
   "id": "a7fa12c1",
   "metadata": {},
   "outputs": [
    {
     "data": {
      "text/html": [
       "\n",
       "<script>\n",
       "window.location=\"EJERCICIO_2.2_Viscosidad_2.ipynb#top\";\n",
       "</script>"
      ],
      "text/plain": [
       "<IPython.core.display.HTML object>"
      ]
     },
     "execution_count": 6,
     "metadata": {},
     "output_type": "execute_result"
    }
   ],
   "source": [
    "from IPython.display import HTML\n",
    "HTML('''\n",
    "<script>\n",
    "window.location=\"EJERCICIO_2.2_Viscosidad_2.ipynb#top\";\n",
    "</script>''')"
   ]
  }
 ],
 "metadata": {
  "kernelspec": {
   "display_name": "Python 3 (ipykernel)",
   "language": "python",
   "name": "python3"
  },
  "language_info": {
   "codemirror_mode": {
    "name": "ipython",
    "version": 3
   },
   "file_extension": ".py",
   "mimetype": "text/x-python",
   "name": "python",
   "nbconvert_exporter": "python",
   "pygments_lexer": "ipython3",
   "version": "3.9.12"
  }
 },
 "nbformat": 4,
 "nbformat_minor": 5
}
