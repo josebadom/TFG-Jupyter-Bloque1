{
 "cells": [
  {
   "cell_type": "code",
   "execution_count": 1,
   "id": "b525eced",
   "metadata": {},
   "outputs": [
    {
     "data": {
      "text/html": [
       "\n",
       "<script>\n",
       "code_show=true;\n",
       "\n",
       "function confirmar() {\n",
       "        if (code_show==false) {\n",
       "            \n",
       "            let confirmar = confirm(\"¿Estás seguro de que deseas MOSTRAR las celdas de código?\"); // Popup de confirmacion\n",
       "                \n",
       "                if (confirmar==true){$('div.input').show();} // Muestra las celdas de codigo\n",
       "                else {code_show=!code_show}\n",
       "        }\n",
       "        \n",
       "        else {$('div.input').hide();} // Oculta las celdas de codigo\n",
       "        \n",
       "    code_show=!code_show\n",
       "}\n",
       "\n",
       "\n",
       "function toggle() {\n",
       "    \n",
       "    boton1.innerHTML = code_show ? 'Ocultar código' : 'Mostrar código'; // Cambia el texto del boton\n",
       "    boton2.innerHTML = boton1.innerHTML\n",
       "}\n",
       "\n",
       "$( document ).ready(confirmar); // Ejecuta la funcion confirmar cuando se carga el documento\n",
       "</script>\n",
       "\n",
       "<button onclick=\"confirmar() ; toggle()\" class=\"button-85\" id=\"boton1\"> Mostrar código </button>\n"
      ],
      "text/plain": [
       "<IPython.core.display.HTML object>"
      ]
     },
     "execution_count": 1,
     "metadata": {},
     "output_type": "execute_result"
    }
   ],
   "source": [
    "from IPython.display import HTML,Javascript\n",
    "HTML('''\n",
    "<script>\n",
    "code_show=true;\n",
    "\n",
    "function confirmar() {\n",
    "        if (code_show==false) {\n",
    "            \n",
    "            let confirmar = confirm(\"¿Estás seguro de que deseas MOSTRAR las celdas de código?\"); // Popup de confirmacion\n",
    "                \n",
    "                if (confirmar==true){$('div.input').show();} // Muestra las celdas de codigo\n",
    "                else {code_show=!code_show}\n",
    "        }\n",
    "        \n",
    "        else {$('div.input').hide();} // Oculta las celdas de codigo\n",
    "        \n",
    "    code_show=!code_show\n",
    "}\n",
    "\n",
    "\n",
    "function toggle() {\n",
    "    \n",
    "    boton1.innerHTML = code_show ? 'Ocultar código' : 'Mostrar código'; // Cambia el texto del boton\n",
    "    boton2.innerHTML = boton1.innerHTML\n",
    "}\n",
    "\n",
    "$( document ).ready(confirmar); // Ejecuta la funcion confirmar cuando se carga el documento\n",
    "</script>\n",
    "\n",
    "<button onclick=\"confirmar() ; toggle()\" class=\"button-85\" id=\"boton1\"> Mostrar código </button>\n",
    "''')"
   ]
  },
  {
   "cell_type": "markdown",
   "id": "c697a64e",
   "metadata": {},
   "source": [
    "<div class=\"texto\"><div id=\"top\"><p><p style=\"text-align: justify;\"><span style=\"color: #ff9900;\"><strong>COLECCION DE PROBLEMAS. Ejercicio 1.30&nbsp;</strong></span>Se tiene un depósito de acero, supuesto rígido, de 5.000 l de capacidad, cuyo\n",
    "peso cuando está vacío es de 7.000 kg. El mismo depósito pesa 12.036,7 kg después de\n",
    "llenarlo de agua a 150 atmósferas de presión. Se pide:</p>\n",
    "<br>\n",
    "</div>\n",
    "<div class=\"split\">\n",
    "    <div class=\"dcha\"><img src=\"../MEDIA/EJ2.6.1.PNG\"></div>\n",
    "    <div class=\"izq\"><div class=\"texto\">\n",
    "        <ol class=\"enunciado\">    \n",
    "        <li> Módulo de elasticidad volumétrico del agua.</li>\n",
    "        </ol>\n",
    "</div>\n",
    "</div>\n",
    "</div>\n",
    "<br>\n",
    "<div class=\"texto\"><p><p style=\"text-align: justify;\"><strong>Datos:</strong>          \n",
    " 1 atm = 10.336 kg/m2.</p>\n",
    "</div>"
   ]
  },
  {
   "cell_type": "markdown",
   "id": "4590f1f6",
   "metadata": {},
   "source": [
    "<div class=\"antesDe\">\n",
    "<ul>\n",
    "    <li><strong>CONCEPTOS PREVIOS</strong></li>\n",
    "    <ul>\n",
    "        <li>MODULO DE ELASTICIDAD VOLUMETRICO.</li>\n",
    "        <ul> \n",
    "            <li><p class=\"formulas\">$ K=\\frac{\\Delta P}{\\frac{-\\Delta V}{V}}$<p/></li>\n",
    "            <li><p class=\"formulas\">$\\rho_{_1}=\\rho_{_0}·e^{^{\\Delta P\\  /K}}\\  (kg/m^3)$<p/></li>\n",
    "        </ul>\n",
    "        \n",
    "            \n",
    "         \n",
    "<li><strong>FALLO TÍPICO $\\rightarrow$ CAMBIOS DE UNIDADES. </strong></li>\n",
    " "
   ]
  },
  {
   "cell_type": "markdown",
   "id": "41755f24",
   "metadata": {},
   "source": [
    "<h2>a) Calcular el módulo de elasticidad volumétrico del agua.</h2>"
   ]
  },
  {
   "cell_type": "markdown",
   "id": "87638b48",
   "metadata": {},
   "source": [
    "Primero calculamos la masa de agua inicial $m_i$:\n",
    "\n",
    "<p class=\"formulas\">$$ 1 \\ l\\ agua \\leftrightarrow 1 \\ kg \\ agua$$  \n",
    "    <br>\n",
    "    $$ m_i= m_{deposito} + m_{agua_{inicial}}$$"
   ]
  },
  {
   "cell_type": "markdown",
   "id": "447470f3",
   "metadata": {},
   "source": [
    "Una vez calculada la masa inicial, hallamos la diferencia de masa entre el estado inicial y el final:\n",
    "\n",
    "\n",
    "<p class=\"formulas\">\n",
    "    $$\\Delta m= m_f - m_i$$\n"
   ]
  },
  {
   "cell_type": "code",
   "execution_count": 2,
   "id": "9bab49de",
   "metadata": {},
   "outputs": [
    {
     "data": {
      "application/vnd.jupyter.widget-view+json": {
       "model_id": "0941b64d1e1f402f8711c91522fd688b",
       "version_major": 2,
       "version_minor": 0
      },
      "text/plain": [
       "BoundedFloatText(value=7000.0, description='Masa depósito $m_{deposito}$ $[kg]$', layout=Layout(width='45ex'),…"
      ]
     },
     "metadata": {},
     "output_type": "display_data"
    },
    {
     "data": {
      "application/vnd.jupyter.widget-view+json": {
       "model_id": "8b83b1c4953b485a8919f072b51d8734",
       "version_major": 2,
       "version_minor": 0
      },
      "text/plain": [
       "BoundedFloatText(value=5000.0, description='Volumen depósito $V_{deposito}$ $[l]$', layout=Layout(width='45ex'…"
      ]
     },
     "metadata": {},
     "output_type": "display_data"
    },
    {
     "data": {
      "application/vnd.jupyter.widget-view+json": {
       "model_id": "c362bfc5c5c346da88eb89fa1c1a4c3c",
       "version_major": 2,
       "version_minor": 0
      },
      "text/plain": [
       "BoundedFloatText(value=12036.7, description='Masa final $m_f$ $[kg]$', layout=Layout(width='45ex'), max=99999.…"
      ]
     },
     "metadata": {},
     "output_type": "display_data"
    },
    {
     "data": {
      "text/html": [
       "\n",
       "<style>\n",
       "    .widget-label { width: 35ex !important;text-align:left !important; }    \n",
       "</style>"
      ],
      "text/plain": [
       "<IPython.core.display.HTML object>"
      ]
     },
     "metadata": {},
     "output_type": "display_data"
    }
   ],
   "source": [
    "from ipywidgets import interact, interactive, Checkbox, VBox\n",
    "from IPython.display import HTML, display\n",
    "import ipywidgets as widgets\n",
    "\n",
    "m_deposito= widgets.BoundedFloatText(\n",
    "    value=7000,\n",
    "    layout=widgets.Layout(width=\"45ex\"),\n",
    "    description='Masa depósito $m_{deposito}$ $[kg]$',\n",
    "    disabled=False,\n",
    "    min=0, max=99999,\n",
    ")\n",
    "v_deposito= widgets.BoundedFloatText(\n",
    "    value=5000,\n",
    "    layout=widgets.Layout(width=\"45ex\"),\n",
    "    description='Volumen depósito $V_{deposito}$ $[l]$',\n",
    "    disabled=False,\n",
    "    min=0, max=99999,)\n",
    "m_final = widgets.BoundedFloatText(\n",
    "    value=12036.7,\n",
    "    layout=widgets.Layout(width=\"45ex\"),\n",
    "    description='Masa final $m_f$ $[kg]$',\n",
    "    disabled=False,\n",
    "    min=0, max=99999,)\n",
    "\n",
    "\n",
    "\n",
    "display(m_deposito)\n",
    "display(v_deposito)\n",
    "display(m_final)\n",
    "\n",
    "\n",
    "display(HTML('''\n",
    "<style>\n",
    "    .widget-label { width: 35ex !important;text-align:left !important; }    \n",
    "</style>'''))"
   ]
  },
  {
   "cell_type": "code",
   "execution_count": 3,
   "id": "1a4f4d4d",
   "metadata": {},
   "outputs": [
    {
     "data": {
      "text/html": [
       "\n",
       "<button onclick=\"ejecutar(8,9)\">Calcular</button>\n",
       "<button onclick=\"ejecutar(6,7)\">Reiniciar variables</button>\n",
       "<script>function ejecutar(desde, hasta){\n",
       "    for(i = desde; i < hasta; i++)\n",
       "Jupyter.notebook.execute_cells([i])    \n",
       "}</script>"
      ],
      "text/plain": [
       "<IPython.core.display.HTML object>"
      ]
     },
     "execution_count": 3,
     "metadata": {},
     "output_type": "execute_result"
    }
   ],
   "source": [
    "from IPython.display import HTML\n",
    "HTML('''\n",
    "<button onclick=\"ejecutar(8,9)\">Calcular</button>\n",
    "<button onclick=\"ejecutar(6,7)\">Reiniciar variables</button>\n",
    "<script>function ejecutar(desde, hasta){\n",
    "    for(i = desde; i < hasta; i++)\n",
    "Jupyter.notebook.execute_cells([i])    \n",
    "}</script>''')"
   ]
  },
  {
   "cell_type": "code",
   "execution_count": 4,
   "id": "fcdfcc8e",
   "metadata": {},
   "outputs": [
    {
     "data": {
      "text/html": [
       "$$ \\Delta m = 12036.7-12000.0=36.70\\ kg$$"
      ],
      "text/plain": [
       "<IPython.core.display.HTML object>"
      ]
     },
     "metadata": {},
     "output_type": "display_data"
    }
   ],
   "source": [
    "import math\n",
    "from IPython.display import HTML, display, Latex\n",
    "from IPython.display import Markdown as md\n",
    "\n",
    "m_inicial=m_deposito.value+v_deposito.value\n",
    "\n",
    "if (v_deposito.value==0):\n",
    "    display(HTML('<b><FONT COLOR=\"RED\">El volumen del deposito no puede ser 0!</b>'))\n",
    "elif (m_final.value<=m_inicial):\n",
    "    display(HTML('<b><FONT COLOR=\"RED\">La masa final no puede ser menor que la masa inicial!</b>'))\n",
    "else:\n",
    "    var_m=m_final.value-m_inicial\n",
    "   \n",
    "    display(HTML(f'$$ \\\\Delta m = {m_final.value}-{m_inicial}={var_m:.2f}\\\\ kg$$'))"
   ]
  },
  {
   "cell_type": "markdown",
   "id": "567320fb",
   "metadata": {},
   "source": [
    "El módulo de elasticidad volumétrico $(K)$ se define como la relación entre la variación de\n",
    "presión y la deformación unitaria de volumen:\n",
    "\n",
    "<p class=\"formulas\">$$  K=\\frac{\\Delta P}{\\frac{-\\Delta V}{V}} $$"
   ]
  },
  {
   "cell_type": "markdown",
   "id": "412f44b5",
   "metadata": {},
   "source": [
    "Comprobamos unidades:\n",
    "    <p class=\"formulas\">$$  K \\ (atm)=\\frac{\\Delta P\\ (atm)}{\\frac{-\\Delta V\\ (m^3)}{V\\ (m^3)}} $$"
   ]
  },
  {
   "cell_type": "code",
   "execution_count": 5,
   "id": "8ea3b30e",
   "metadata": {},
   "outputs": [
    {
     "data": {
      "application/vnd.jupyter.widget-view+json": {
       "model_id": "67cda3402b08485f902c8f112aa78f9e",
       "version_major": 2,
       "version_minor": 0
      },
      "text/plain": [
       "BoundedFloatText(value=150.0, description='Variacion de presión $\\\\Delta P$ $[atm]$', layout=Layout(width='45e…"
      ]
     },
     "metadata": {},
     "output_type": "display_data"
    },
    {
     "data": {
      "text/html": [
       "\n",
       "<style>\n",
       "    .widget-label { width: 35ex !important;text-align:left !important; }    \n",
       "</style>"
      ],
      "text/plain": [
       "<IPython.core.display.HTML object>"
      ]
     },
     "metadata": {},
     "output_type": "display_data"
    }
   ],
   "source": [
    "from ipywidgets import interact, interactive, Checkbox, VBox\n",
    "from IPython.display import HTML, display\n",
    "import ipywidgets as widgets\n",
    "\n",
    "var_p= widgets.BoundedFloatText(\n",
    "    value=150,\n",
    "    layout=widgets.Layout(width=\"45ex\"),\n",
    "    description='Variacion de presión $\\Delta P$ $[atm]$',\n",
    "    disabled=False,\n",
    "    min=0, max=99999,)\n",
    "\n",
    "    \n",
    "\n",
    "display(var_p)\n",
    "display(HTML('''\n",
    "<style>\n",
    "    .widget-label { width: 35ex !important;text-align:left !important; }    \n",
    "</style>'''))"
   ]
  },
  {
   "cell_type": "code",
   "execution_count": 6,
   "id": "1a01ca70",
   "metadata": {},
   "outputs": [
    {
     "data": {
      "text/html": [
       "\n",
       "<button onclick=\"ejecutar(13,14)\">Calcular</button>\n",
       "<button onclick=\"ejecutar(11,12)\">Reiniciar variables</button>\n",
       "<script>function ejecutar(desde, hasta){\n",
       "    for(i = desde; i < hasta; i++)\n",
       "Jupyter.notebook.execute_cells([i])    \n",
       "}</script>"
      ],
      "text/plain": [
       "<IPython.core.display.HTML object>"
      ]
     },
     "execution_count": 6,
     "metadata": {},
     "output_type": "execute_result"
    }
   ],
   "source": [
    "from IPython.display import HTML\n",
    "HTML('''\n",
    "<button onclick=\"ejecutar(13,14)\">Calcular</button>\n",
    "<button onclick=\"ejecutar(11,12)\">Reiniciar variables</button>\n",
    "<script>function ejecutar(desde, hasta){\n",
    "    for(i = desde; i < hasta; i++)\n",
    "Jupyter.notebook.execute_cells([i])    \n",
    "}</script>''')"
   ]
  },
  {
   "cell_type": "code",
   "execution_count": 7,
   "id": "b9dbdaa1",
   "metadata": {},
   "outputs": [
    {
     "data": {
      "text/html": [
       "$$ K= \\frac{ 150.0} { \\frac {0.037}{5.0} } = 20435.97\\ atm =\\fbox{ 21089.92 $kg/cm^2$ } $$"
      ],
      "text/plain": [
       "<IPython.core.display.HTML object>"
      ]
     },
     "metadata": {},
     "output_type": "display_data"
    }
   ],
   "source": [
    "import math\n",
    "from IPython.display import HTML, display, Latex\n",
    "from IPython.display import Markdown as md\n",
    "\n",
    "\n",
    "\n",
    "if (var_p.value==0):\n",
    "    display(HTML('<b><FONT COLOR=\"RED\">La variacion de presión no puede ser 0</b>'))\n",
    "else:\n",
    "    var_v=var_m*10**(-3)\n",
    "    v_m=v_deposito.value*10**(-3)\n",
    "    k=var_p.value/(var_v/v_m)\n",
    "    k_kgcm2= k*1.032\n",
    "    \n",
    "    display(HTML(f'$$ K= \\\\frac{{ {var_p.value}}} {{ \\\\frac {{{var_v:.3f}}}{{{v_m}}} }} = {k:.2f}\\\\ atm =\\\\fbox{{ {k_kgcm2:.2f} $kg/cm^2$ }} $$'))"
   ]
  },
  {
   "cell_type": "code",
   "execution_count": 8,
   "id": "af02454e",
   "metadata": {},
   "outputs": [
    {
     "data": {
      "text/html": [
       "\n",
       "\n",
       "</script>\n",
       "<button onclick=\"confirmar() ; toggle()\" class=\"button-85\" id=\"boton2\"> Mostrar código </button>\n",
       "\n"
      ],
      "text/plain": [
       "<IPython.core.display.HTML object>"
      ]
     },
     "execution_count": 8,
     "metadata": {},
     "output_type": "execute_result"
    }
   ],
   "source": [
    "from IPython.display import HTML,Javascript\n",
    "\n",
    "HTML('''\n",
    "\n",
    "</script>\n",
    "<button onclick=\"confirmar() ; toggle()\" class=\"button-85\" id=\"boton2\"> Mostrar código </button>\n",
    "\n",
    "''')"
   ]
  },
  {
   "cell_type": "markdown",
   "id": "66f82885",
   "metadata": {},
   "source": [
    "[Volver al enunciado.](#top)"
   ]
  },
  {
   "cell_type": "code",
   "execution_count": 9,
   "id": "0a2e0696",
   "metadata": {},
   "outputs": [
    {
     "data": {
      "text/html": [
       "\n",
       "<script>\n",
       "window.location=\"EJERCICIO_2.6_Modulo_elasticidad_1.ipynb#top\";\n",
       "</script>"
      ],
      "text/plain": [
       "<IPython.core.display.HTML object>"
      ]
     },
     "execution_count": 9,
     "metadata": {},
     "output_type": "execute_result"
    }
   ],
   "source": [
    "from IPython.display import HTML\n",
    "HTML('''\n",
    "<script>\n",
    "window.location=\"EJERCICIO_2.6_Modulo_elasticidad_1.ipynb#top\";\n",
    "</script>''')"
   ]
  }
 ],
 "metadata": {
  "kernelspec": {
   "display_name": "Python 3 (ipykernel)",
   "language": "python",
   "name": "python3"
  },
  "language_info": {
   "codemirror_mode": {
    "name": "ipython",
    "version": 3
   },
   "file_extension": ".py",
   "mimetype": "text/x-python",
   "name": "python",
   "nbconvert_exporter": "python",
   "pygments_lexer": "ipython3",
   "version": "3.9.12"
  }
 },
 "nbformat": 4,
 "nbformat_minor": 5
}
