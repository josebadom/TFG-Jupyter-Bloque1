{
 "cells": [
  {
   "cell_type": "code",
   "execution_count": 1,
   "id": "ce42b335",
   "metadata": {},
   "outputs": [
    {
     "data": {
      "text/html": [
       "\n",
       "<script>\n",
       "code_show=true;\n",
       "\n",
       "function confirmar() {\n",
       "        if (code_show==false) {\n",
       "            \n",
       "            let confirmar = confirm(\"¿Estás seguro de que deseas MOSTRAR las celdas de código?\"); // Popup de confirmacion\n",
       "                \n",
       "                if (confirmar==true){$('div.input').show();} // Muestra las celdas de codigo\n",
       "                else {code_show=!code_show}\n",
       "        }\n",
       "        \n",
       "        else {$('div.input').hide();} // Oculta las celdas de codigo\n",
       "        \n",
       "    code_show=!code_show\n",
       "}\n",
       "\n",
       "\n",
       "function toggle() {\n",
       "    \n",
       "    boton1.innerHTML = code_show ? 'Ocultar código' : 'Mostrar código'; // Cambia el texto del boton\n",
       "    boton2.innerHTML = boton1.innerHTML\n",
       "}\n",
       "\n",
       "$( document ).ready(confirmar); // Ejecuta la funcion confirmar cuando se carga el documento\n",
       "</script>\n",
       "\n",
       "<button onclick=\"confirmar() ; toggle()\" class=\"button-85\" id=\"boton1\"> Mostrar código </button>\n"
      ],
      "text/plain": [
       "<IPython.core.display.HTML object>"
      ]
     },
     "execution_count": 1,
     "metadata": {},
     "output_type": "execute_result"
    }
   ],
   "source": [
    "from IPython.display import HTML,Javascript\n",
    "HTML('''\n",
    "<script>\n",
    "code_show=true;\n",
    "\n",
    "function confirmar() {\n",
    "        if (code_show==false) {\n",
    "            \n",
    "            let confirmar = confirm(\"¿Estás seguro de que deseas MOSTRAR las celdas de código?\"); // Popup de confirmacion\n",
    "                \n",
    "                if (confirmar==true){$('div.input').show();} // Muestra las celdas de codigo\n",
    "                else {code_show=!code_show}\n",
    "        }\n",
    "        \n",
    "        else {$('div.input').hide();} // Oculta las celdas de codigo\n",
    "        \n",
    "    code_show=!code_show\n",
    "}\n",
    "\n",
    "\n",
    "function toggle() {\n",
    "    \n",
    "    boton1.innerHTML = code_show ? 'Ocultar código' : 'Mostrar código'; // Cambia el texto del boton\n",
    "    boton2.innerHTML = boton1.innerHTML\n",
    "}\n",
    "\n",
    "$( document ).ready(confirmar); // Ejecuta la funcion confirmar cuando se carga el documento\n",
    "</script>\n",
    "\n",
    "<button onclick=\"confirmar() ; toggle()\" class=\"button-85\" id=\"boton1\"> Mostrar código </button>\n",
    "''')"
   ]
  },
  {
   "cell_type": "markdown",
   "id": "a0d2db3d",
   "metadata": {},
   "source": [
    "<div class=\"texto\"><div id=\"top\"><p><p style=\"text-align: justify;\"><span style=\"color: #ff9900;\"><strong>Colección de problemas. Ejercicio 1.37&nbsp;</strong></span> Un tubo de sección transversal en forma de corona circular ($\\varnothing_{_{max}}$ = 10 mm y\n",
    "$\\varnothing_{_{min}}$ = 6 mm), se introduce en un recipiente que contiene un líquido de densidad relativa s =\n",
    "0,78 y tensión superficial $\\sigma$ = 0,0223 N/m. Sabiendo que la relación entre los módulos de las\n",
    "fuerzas de adhesión y cohesión es de 5/4, deducir y calcular:</p>\n",
    "<br>\n",
    "</div>\n",
    "<div class=\"split\">\n",
    "    <div class=\"dcha\"><img src=\"../MEDIA/EJ2.4.png\"width='50%'></div>\n",
    "    <div class=\"izq\"><div class=\"texto\">\n",
    "        <ol class=\"enunciado\">    \n",
    "        <li> Si el líquido moja o no moja al sólido, calculando el ángulo que forma la superficie\n",
    "del líquido con el sólido.</li>\n",
    "        <li>La expresión que dé el ascenso o descenso del líquido por la sección capilar de la\n",
    "corona circular.</li>\n",
    "        <li>Calcular dicho ascenso o descenso para los datos indicados.</li>\n",
    "        </ol>\n",
    "</div>\n",
    "</div>\n",
    "</div>\n"
   ]
  },
  {
   "cell_type": "markdown",
   "id": "4e857d3c",
   "metadata": {},
   "source": [
    "<div class=\"antesDe\">\n",
    "<ul>\n",
    "    <li><strong>CONCEPTOS PREVIOS</strong></li>\n",
    "    <ul>\n",
    "        <li>ASCENSO Y DESCENSO CAPILAR.</li>\n",
    "        <ul> \n",
    "            <li><p class=\"formulas\">$h=\\frac{\\sigma·L·cos\\theta}{A·\\rho_{_{liq}}·g} $<p/></li>\n",
    "            \n",
    "         \n",
    "<li><strong>FALLO TÍPICO $\\rightarrow$ CAMBIO DE UNIDADES. </strong></li>\n",
    "    \n",
    "\n",
    "</ul>\n",
    "<div>"
   ]
  },
  {
   "cell_type": "markdown",
   "id": "3ebe7384",
   "metadata": {},
   "source": [
    "<h2>a) Calcular si el líquido moja o no moja al sólido, calculando el ángulo que forma la superficie\n",
    "del líquido con el sólido.</h2>"
   ]
  },
  {
   "cell_type": "markdown",
   "id": "8c9636d1",
   "metadata": {},
   "source": [
    "Para saber si un liquido moja o no a un solido hay que comparar los modulos de las fuerzas de cohesion ($F_{_c}$) y las de adhesion ($F_{_a}$) entre ellos. \n",
    "\n",
    "Como en este caso el problema nos indica que $\\frac{F_{_a}}{F_{_c}}=\\frac{5}{4}$ sabemos que las fuerzas de adhesión son mayores que las de cohesión y por lo tanto el líquido moja al sólido ($F_{_a}>{F_{_c}}\\rightarrow$ Moja) "
   ]
  },
  {
   "cell_type": "markdown",
   "id": "b1b37037",
   "metadata": {},
   "source": [
    "<div class=\"split\">\n",
    "    <div class=\"izq\"><img src=\"../MEDIA/EJ2.4.1.png\"width='60%'></div>\n",
    "    <div class=\"dcha\"><div class=\"texto\">\n",
    "        Calculamos el angulo $\\theta$ que forma la superficie del liquido con el sólido:\n",
    "         <p class=\"formulas\">\n",
    "         $$ tan\\theta=\\frac{{F_{_c}}·sen45}{{F_{_a}}-{F_{_c}}·cos45}$$\n",
    "         <br>\n",
    "         <p>\n",
    "         <div class=\"texto\"> Como sabemos que $F_{_a}=\\frac{5}{4}{F_{_c}}$ despejamos:\n",
    "         <p class=\"formulas\">    \n",
    "         $$ tan\\theta=\\frac{{F_{_c}}·sen45}{{1,25·F_{_c}}-{F_{_c}}·cos45}$$\n",
    "             <br>\n",
    "         $$ tan\\theta=\\frac{sen45}{1,25-cos45}$$\n",
    "           <br>\n",
    "         $$ \\theta=arctan\\left[\\frac{sen45}{1,25-cos45}\\right]$$"
   ]
  },
  {
   "cell_type": "code",
   "execution_count": 2,
   "id": "d7e13603",
   "metadata": {},
   "outputs": [
    {
     "data": {
      "application/vnd.jupyter.widget-view+json": {
       "model_id": "232d3e1f292944d6abd2198efd93b0b0",
       "version_major": 2,
       "version_minor": 0
      },
      "text/plain": [
       "BoundedFloatText(value=1.25, description='Relación $F_{_a}$ \\\\ $F_{_c}$', layout=Layout(width='45ex'), max=10.…"
      ]
     },
     "metadata": {},
     "output_type": "display_data"
    },
    {
     "data": {
      "text/html": [
       "\n",
       "<style>\n",
       "    .widget-label { width: 35ex !important;text-align:left !important; }    \n",
       "</style>"
      ],
      "text/plain": [
       "<IPython.core.display.HTML object>"
      ]
     },
     "metadata": {},
     "output_type": "display_data"
    }
   ],
   "source": [
    "from ipywidgets import interact, interactive, Checkbox, VBox\n",
    "from IPython.display import HTML, display\n",
    "import ipywidgets as widgets\n",
    "\n",
    "fa_fc= widgets.BoundedFloatText(\n",
    "    value=1.25,\n",
    "    layout=widgets.Layout(width=\"45ex\"),\n",
    "    description='Relación $F_{_a}$ \\ $F_{_c}$',\n",
    "    disabled=False,\n",
    "    min=0, max=10,\n",
    ")\n",
    "\n",
    "\n",
    "display(fa_fc)\n",
    "\n",
    "display(HTML('''\n",
    "<style>\n",
    "    .widget-label { width: 35ex !important;text-align:left !important; }    \n",
    "</style>'''))"
   ]
  },
  {
   "cell_type": "code",
   "execution_count": 3,
   "id": "215f3e62",
   "metadata": {},
   "outputs": [
    {
     "data": {
      "text/html": [
       "\n",
       "<button onclick=\"ejecutar(8,9)\">Calcular</button>\n",
       "<button onclick=\"ejecutar(6,7)\">Reiniciar variables</button>\n",
       "<script>function ejecutar(desde, hasta){\n",
       "    for(i = desde; i < hasta; i++)\n",
       "Jupyter.notebook.execute_cells([i])    \n",
       "}</script>"
      ],
      "text/plain": [
       "<IPython.core.display.HTML object>"
      ]
     },
     "execution_count": 3,
     "metadata": {},
     "output_type": "execute_result"
    }
   ],
   "source": [
    "from IPython.display import HTML\n",
    "HTML('''\n",
    "<button onclick=\"ejecutar(8,9)\">Calcular</button>\n",
    "<button onclick=\"ejecutar(6,7)\">Reiniciar variables</button>\n",
    "<script>function ejecutar(desde, hasta){\n",
    "    for(i = desde; i < hasta; i++)\n",
    "Jupyter.notebook.execute_cells([i])    \n",
    "}</script>''')"
   ]
  },
  {
   "cell_type": "code",
   "execution_count": 4,
   "id": "10b35898",
   "metadata": {},
   "outputs": [
    {
     "data": {
      "text/html": [
       "$$ \\theta =arctan\\left[ \\frac{sen45 }{ 1.250-cos45 }\\right]=\\fbox {52.48 º}$$"
      ],
      "text/plain": [
       "<IPython.core.display.HTML object>"
      ]
     },
     "metadata": {},
     "output_type": "display_data"
    }
   ],
   "source": [
    "import math\n",
    "from IPython.display import HTML, display, Latex\n",
    "from IPython.display import Markdown as md\n",
    "\n",
    "beta_ang=45\n",
    "beta=beta_ang*math.pi/180\n",
    "\n",
    "\n",
    "if (fa_fc.value==0):\n",
    "    display(HTML('<b><FONT COLOR=\"RED\">La relacion entre $F_{_a}$ \\ $F_{_c}$ no puede ser 0!!!</b>'))\n",
    "else:\n",
    "    theta=math.atan(math.sin(beta)/(fa_fc.value-math.cos(beta)))\n",
    "    theta_ang=theta*180/math.pi\n",
    "   \n",
    "    display(HTML(f'$$ \\\\theta =arctan\\\\left[ \\\\frac{{sen{beta_ang} }}{{ {fa_fc.value:.3f}-cos{beta_ang} }}\\\\right]=\\\\fbox {{{theta_ang:.2f} º}}$$'))"
   ]
  },
  {
   "cell_type": "code",
   "execution_count": 5,
   "id": "718a46cd",
   "metadata": {},
   "outputs": [
    {
     "data": {
      "text/html": [
       "\n",
       "\n",
       "</script>\n",
       "<button onclick=\"confirmar() ; toggle()\" class=\"button-85\" id=\"boton2\"> Mostrar código </button>\n",
       "\n"
      ],
      "text/plain": [
       "<IPython.core.display.HTML object>"
      ]
     },
     "execution_count": 5,
     "metadata": {},
     "output_type": "execute_result"
    }
   ],
   "source": [
    "from IPython.display import HTML,Javascript\n",
    "\n",
    "HTML('''\n",
    "\n",
    "</script>\n",
    "<button onclick=\"confirmar() ; toggle()\" class=\"button-85\" id=\"boton2\"> Mostrar código </button>\n",
    "\n",
    "''')"
   ]
  },
  {
   "cell_type": "markdown",
   "id": "1f4e7444",
   "metadata": {},
   "source": [
    "<h2>b) Calcular la expresión que dé el ascenso o descenso del líquido por la sección capilar de la\n",
    "corona circular.</h2>"
   ]
  },
  {
   "cell_type": "markdown",
   "id": "501e7ae5",
   "metadata": {},
   "source": [
    "En el equilibrio, el peso de la columna de líquido se compensará con la componente vertical de las fuerzas de cohesión Fc cosθ debida a la tensión superficial $\\sigma$. Las fuerzas de adhesión no intervienen ya que son perpendiculares a la superficie del tubo."
   ]
  },
  {
   "cell_type": "markdown",
   "id": "bbb4dbad",
   "metadata": {},
   "source": [
    "<div class=\"split\">\n",
    "    <div class=\"izq\"><img src=\"../MEDIA/EJ2.4.2.png\"width='80%'></div>\n",
    "    <div class=\"dcha\"><div class=\"texto\">\n",
    "        La tension superficial $\\sigma$ es:\n",
    "         <p class=\"formulas\">\n",
    "         $$ \\sigma=\\frac{F}{L} \\rightarrow F=\\sigma · L$$\n",
    "         <br>\n",
    "         <p>\n",
    "         <div class=\"texto\"> Como solo actua la componente vertical de las fuerzas de cohesión $F_{_C}$:\n",
    "         <p class=\"formulas\">    \n",
    "         $$  F_{_{C_{Y}}}=\\sigma·L·cos\\theta $$\n",
    "         <br>\n",
    "         <p>\n",
    "         <div class=\"texto\"> El peso del liquido $w$ es:\n",
    "         <br>\n",
    "         <p class=\"formulas\"> \n",
    "         $$ \\gamma = \\frac{w}{V} \\rightarrow  w=V·\\gamma$$\n",
    "         <br>\n",
    "         <div class=\"texto\"> Sabiendo que $V= A·h$ y que el peso especifico $\\gamma=\\rho_{_{liq}}·g$ despejamos:\n",
    "         <br>\n",
    "         <p class=\"formulas\">\n",
    "         $$ w=A·h·\\rho_{_{liq}}·g$$"
   ]
  },
  {
   "cell_type": "markdown",
   "id": "7933426e",
   "metadata": {},
   "source": [
    "El sistema se encuentra en equilibrio:\n",
    "<p class=\"formulas\">\n",
    "    $$ \\sum F_{_{Y}}=0$$"
   ]
  },
  {
   "cell_type": "markdown",
   "id": "4a732325",
   "metadata": {},
   "source": [
    "Por lo tanto:\n",
    "   <p class=\"formulas\">\n",
    "    $$ F_{_{C_{Y}}}-w=0 \\rightarrow F_{_{C_{Y}}}=w $$\n",
    "    <br>\n",
    "    $$ \\sigma · L · cos\\theta = A·h·\\rho_{_{liq}}·g$$"
   ]
  },
  {
   "cell_type": "markdown",
   "id": "d7535295",
   "metadata": {},
   "source": [
    "Solo nos queda despejar h de la expresion anterior:\n",
    "    <p class=\"formulas\">\n",
    "    $$h=\\frac{\\sigma·L·cos\\theta}{A·\\rho_{_{liq}}·g}$$"
   ]
  },
  {
   "cell_type": "markdown",
   "id": "fe2c80d1",
   "metadata": {},
   "source": [
    "Unidades:\n",
    "<p class=\"formulas\">\n",
    "    $$h\\ (m)=\\frac{\\sigma\\ (N/m)·L\\ (m)·cos\\theta}{A\\ (m^2)·\\rho_{_{liq}}\\ (kg/m^3)·g\\ (m/s^2)}$$\n",
    "\n",
    "\n"
   ]
  },
  {
   "cell_type": "markdown",
   "id": "1f89ebd8",
   "metadata": {},
   "source": [
    "Al tratarse de una corona circular el perimetro $L=\\pi D+\\pi d$ y el area $A=\\frac{\\pi}{4}(D^2-d^2) $ tenemos:\n",
    "<p class=\"formulas\">\n",
    "    $$h=\\frac{\\sigma·cos\\theta·\\pi·(D+d)}{\\frac{\\pi}{4}(D^2-d^2)·\\rho_{_{liq}}·g}$$"
   ]
  },
  {
   "cell_type": "markdown",
   "id": "f8002bc9",
   "metadata": {},
   "source": [
    "<h2>c) Calcular dicho ascenso o descenso para los datos indicados.</h2>"
   ]
  },
  {
   "cell_type": "markdown",
   "id": "c8c9e749",
   "metadata": {},
   "source": [
    "Los datos del enunciado son $\\sigma$ = 0,0223 N/m, D=10 mm y d=6 mm."
   ]
  },
  {
   "cell_type": "code",
   "execution_count": 6,
   "id": "d650b07e",
   "metadata": {},
   "outputs": [
    {
     "data": {
      "application/vnd.jupyter.widget-view+json": {
       "model_id": "f9c18b2375604a898c020914d1ed2f93",
       "version_major": 2,
       "version_minor": 0
      },
      "text/plain": [
       "BoundedFloatText(value=0.0223, description='Tension superficial $\\\\sigma$ [N/m]', layout=Layout(width='45ex'),…"
      ]
     },
     "metadata": {},
     "output_type": "display_data"
    },
    {
     "data": {
      "application/vnd.jupyter.widget-view+json": {
       "model_id": "16c9303d12f64c90ac128528730bb834",
       "version_major": 2,
       "version_minor": 0
      },
      "text/plain": [
       "BoundedFloatText(value=10.0, description='Diametro mayor $D$ [mm]', layout=Layout(width='45ex'), max=9999.0)"
      ]
     },
     "metadata": {},
     "output_type": "display_data"
    },
    {
     "data": {
      "application/vnd.jupyter.widget-view+json": {
       "model_id": "4ada09c66ed242d7ad5b77e7b2c567a0",
       "version_major": 2,
       "version_minor": 0
      },
      "text/plain": [
       "BoundedFloatText(value=6.0, description='Diametro menor $d$ [mm]', layout=Layout(width='45ex'), max=9999.0)"
      ]
     },
     "metadata": {},
     "output_type": "display_data"
    },
    {
     "data": {
      "application/vnd.jupyter.widget-view+json": {
       "model_id": "366728d3d4314e2e8da5b06064cd81a5",
       "version_major": 2,
       "version_minor": 0
      },
      "text/plain": [
       "BoundedFloatText(value=0.78, description='Densidad relativa $S$ [Adimensional]', layout=Layout(width='45ex'), …"
      ]
     },
     "metadata": {},
     "output_type": "display_data"
    },
    {
     "data": {
      "text/html": [
       "\n",
       "<style>\n",
       "    .widget-label { width: 35ex !important;text-align:left !important; }    \n",
       "</style>"
      ],
      "text/plain": [
       "<IPython.core.display.HTML object>"
      ]
     },
     "metadata": {},
     "output_type": "display_data"
    }
   ],
   "source": [
    "from ipywidgets import interact, interactive, Checkbox, VBox\n",
    "from IPython.display import HTML, display\n",
    "import ipywidgets as widgets\n",
    "\n",
    "t_sup= widgets.BoundedFloatText(\n",
    "    value=0.0223,\n",
    "    layout=widgets.Layout(width=\"45ex\"),\n",
    "    step=0.01,\n",
    "    description='Tension superficial $\\\\sigma$ [N/m]',\n",
    "    disabled=False,\n",
    "    min=0, max=9999,\n",
    ")\n",
    "D= widgets.BoundedFloatText(\n",
    "    value=10,\n",
    "    layout=widgets.Layout(width=\"45ex\"),\n",
    "    description='Diametro mayor $D$ [mm]',\n",
    "    disabled=False,\n",
    "    min=0, max=9999,)\n",
    "d = widgets.BoundedFloatText(\n",
    "    value=6,\n",
    "    layout=widgets.Layout(width=\"45ex\"),\n",
    "    description='Diametro menor $d$ [mm]',\n",
    "    disabled=False,\n",
    "    min=0, max=9999,)\n",
    "s = widgets.BoundedFloatText(\n",
    "    value=0.78,\n",
    "    layout=widgets.Layout(width=\"45ex\"),\n",
    "    description='Densidad relativa $S$ [Adimensional]',\n",
    "    disabled=False,\n",
    "    min=0, max=9999,)\n",
    "\n",
    "display(t_sup)\n",
    "display(D)\n",
    "display(d)\n",
    "display(s)\n",
    "\n",
    "display(HTML('''\n",
    "<style>\n",
    "    .widget-label { width: 35ex !important;text-align:left !important; }    \n",
    "</style>'''))"
   ]
  },
  {
   "cell_type": "code",
   "execution_count": 7,
   "id": "4961974d",
   "metadata": {},
   "outputs": [
    {
     "data": {
      "text/html": [
       "\n",
       "<button onclick=\"ejecutar(22,23)\">Calcular</button>\n",
       "<button onclick=\"ejecutar(20,21)\">Reiniciar variables</button>\n",
       "<script>function ejecutar(desde, hasta){\n",
       "    for(i = desde; i < hasta; i++)\n",
       "Jupyter.notebook.execute_cells([i])    \n",
       "}</script>"
      ],
      "text/plain": [
       "<IPython.core.display.HTML object>"
      ]
     },
     "execution_count": 7,
     "metadata": {},
     "output_type": "execute_result"
    }
   ],
   "source": [
    "from IPython.display import HTML\n",
    "HTML('''\n",
    "<button onclick=\"ejecutar(22,23)\">Calcular</button>\n",
    "<button onclick=\"ejecutar(20,21)\">Reiniciar variables</button>\n",
    "<script>function ejecutar(desde, hasta){\n",
    "    for(i = desde; i < hasta; i++)\n",
    "Jupyter.notebook.execute_cells([i])    \n",
    "}</script>''')"
   ]
  },
  {
   "cell_type": "code",
   "execution_count": 8,
   "id": "bbe690d2",
   "metadata": {},
   "outputs": [
    {
     "data": {
      "text/html": [
       "$$ h = \\frac{ 0.0223·cos(52.48)·\\pi ·(0.01+0.006) } {\\frac{\\pi}{4}·(0.01^2-0.006^2)·780.0·9.81}= 0.00177\\ m=\\fbox {1.77 mm} $$"
      ],
      "text/plain": [
       "<IPython.core.display.HTML object>"
      ]
     },
     "metadata": {},
     "output_type": "display_data"
    }
   ],
   "source": [
    "import math\n",
    "from IPython.display import HTML, display, Latex\n",
    "from IPython.display import Markdown as md\n",
    "d_m=d.value*10**(-3)\n",
    "D_m=D.value*10**(-3)\n",
    "g=9.81\n",
    "rho_agua=1000\n",
    "rho_liq=s.value*rho_agua\n",
    "\n",
    "if (t_sup.value==0):\n",
    "    display(HTML('<b><FONT COLOR=\"RED\">La tension superficial no puede ser 0!</b>'))\n",
    "elif (D.value<=d.value):\n",
    "    display(HTML('<b><FONT COLOR=\"RED\">La diferencia entre radios no puede ser 0 o negativa! </b>'))\n",
    "elif (s.value==0):\n",
    "    display(HTML('<b><FONT COLOR=\"RED\">La densidad relativa no puede ser 0! </b>'))\n",
    "else:\n",
    "    h=t_sup.value*math.cos(theta)*math.pi*(D_m+d_m)/(math.pi/4*(D_m**2-d_m**2)*rho_liq*g)\n",
    "    h_mm=h*10**3\n",
    "    display(HTML(f'$$ h = \\\\frac{{ {t_sup.value}·cos({theta_ang:.2f})·\\\\pi ·({D_m}+{d_m}) }} {{\\\\frac{{\\\\pi}}{{4}}·({D_m}^2-{d_m}^2)·{rho_liq}·{g}}}= {h:.5f}\\\\ m=\\\\fbox {{{h_mm:.2f} mm}} $$'))"
   ]
  },
  {
   "cell_type": "code",
   "execution_count": 9,
   "id": "92a7f5e9",
   "metadata": {},
   "outputs": [
    {
     "data": {
      "text/html": [
       "\n",
       "\n",
       "</script>\n",
       "<button onclick=\"confirmar() ; toggle()\" class=\"button-85\" id=\"boton2\"> Mostrar código </button>\n",
       "\n"
      ],
      "text/plain": [
       "<IPython.core.display.HTML object>"
      ]
     },
     "execution_count": 9,
     "metadata": {},
     "output_type": "execute_result"
    }
   ],
   "source": [
    "from IPython.display import HTML,Javascript\n",
    "\n",
    "HTML('''\n",
    "\n",
    "</script>\n",
    "<button onclick=\"confirmar() ; toggle()\" class=\"button-85\" id=\"boton2\"> Mostrar código </button>\n",
    "\n",
    "''')"
   ]
  },
  {
   "cell_type": "markdown",
   "id": "c3ff1a78",
   "metadata": {},
   "source": [
    "[Volver al enunciado.](#top)"
   ]
  },
  {
   "cell_type": "code",
   "execution_count": 10,
   "id": "52840cab",
   "metadata": {},
   "outputs": [
    {
     "data": {
      "text/html": [
       "\n",
       "<script>\n",
       "window.location=\"EJERCICIO_2.4_Capilaridad_1.ipynb#top\";\n",
       "</script>"
      ],
      "text/plain": [
       "<IPython.core.display.HTML object>"
      ]
     },
     "execution_count": 10,
     "metadata": {},
     "output_type": "execute_result"
    }
   ],
   "source": [
    "from IPython.display import HTML\n",
    "HTML('''\n",
    "<script>\n",
    "window.location=\"EJERCICIO_2.4_Capilaridad_1.ipynb#top\";\n",
    "</script>''')"
   ]
  }
 ],
 "metadata": {
  "kernelspec": {
   "display_name": "Python 3 (ipykernel)",
   "language": "python",
   "name": "python3"
  },
  "language_info": {
   "codemirror_mode": {
    "name": "ipython",
    "version": 3
   },
   "file_extension": ".py",
   "mimetype": "text/x-python",
   "name": "python",
   "nbconvert_exporter": "python",
   "pygments_lexer": "ipython3",
   "version": "3.9.12"
  }
 },
 "nbformat": 4,
 "nbformat_minor": 5
}
