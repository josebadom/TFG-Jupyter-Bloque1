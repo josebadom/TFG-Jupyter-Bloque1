{
 "cells": [
  {
   "cell_type": "code",
   "execution_count": 1,
   "id": "c7d7b934",
   "metadata": {},
   "outputs": [
    {
     "data": {
      "text/html": [
       "\n",
       "<script>\n",
       "code_show=true;\n",
       "\n",
       "function confirmar() {\n",
       "        if (code_show==false) {\n",
       "            \n",
       "            let confirmar = confirm(\"¿Estás seguro de que deseas MOSTRAR las celdas de código?\"); // Popup de confirmacion\n",
       "                \n",
       "                if (confirmar==true){$('div.input').show();} // Muestra las celdas de codigo\n",
       "                else {code_show=!code_show}\n",
       "        }\n",
       "        \n",
       "        else {$('div.input').hide();} // Oculta las celdas de codigo\n",
       "        \n",
       "    code_show=!code_show\n",
       "}\n",
       "\n",
       "\n",
       "function toggle() {\n",
       "    \n",
       "    boton1.innerHTML = code_show ? 'Ocultar código' : 'Mostrar código'; // Cambia el texto del boton\n",
       "    boton2.innerHTML = boton1.innerHTML\n",
       "}\n",
       "\n",
       "$( document ).ready(confirmar); // Ejecuta la funcion confirmar cuando se carga el documento\n",
       "</script>\n",
       "\n",
       "<button onclick=\"confirmar() ; toggle()\" class=\"button-85\" id=\"boton1\"> Mostrar código </button>\n"
      ],
      "text/plain": [
       "<IPython.core.display.HTML object>"
      ]
     },
     "execution_count": 1,
     "metadata": {},
     "output_type": "execute_result"
    }
   ],
   "source": [
    "from IPython.display import HTML,Javascript\n",
    "HTML('''\n",
    "<script>\n",
    "code_show=true;\n",
    "\n",
    "function confirmar() {\n",
    "        if (code_show==false) {\n",
    "            \n",
    "            let confirmar = confirm(\"¿Estás seguro de que deseas MOSTRAR las celdas de código?\"); // Popup de confirmacion\n",
    "                \n",
    "                if (confirmar==true){$('div.input').show();} // Muestra las celdas de codigo\n",
    "                else {code_show=!code_show}\n",
    "        }\n",
    "        \n",
    "        else {$('div.input').hide();} // Oculta las celdas de codigo\n",
    "        \n",
    "    code_show=!code_show\n",
    "}\n",
    "\n",
    "\n",
    "function toggle() {\n",
    "    \n",
    "    boton1.innerHTML = code_show ? 'Ocultar código' : 'Mostrar código'; // Cambia el texto del boton\n",
    "    boton2.innerHTML = boton1.innerHTML\n",
    "}\n",
    "\n",
    "$( document ).ready(confirmar); // Ejecuta la funcion confirmar cuando se carga el documento\n",
    "</script>\n",
    "\n",
    "<button onclick=\"confirmar() ; toggle()\" class=\"button-85\" id=\"boton1\"> Mostrar código </button>\n",
    "''')"
   ]
  },
  {
   "cell_type": "markdown",
   "id": "b72c902a",
   "metadata": {},
   "source": [
    "<div class=\"texto\"><div id=\"top\"><p><p style=\"text-align: justify;\"><span style=\"color: #ff9900;\"><strong>EXAMEN PARCIAL (20/03/17). Ejercicio 2.&nbsp;</strong></span> Una moneda circular de 48 mm de diámetro y 2,5 mm de grosor (e) desliza hacia abajo con una velocidad constante de 35 cm/s entre dos placas paralelas fijas e inclinadas 30° respecto a la horizontal, siendo el espacio entre ellas de 3,5 mm (H). Dicho espacio está lleno de aceite. El efecto del aceite sobre el canto de la moneda es despreciable. Se pide calcular:</p>\n",
    "<br>\n",
    "</div>\n",
    "<div class=\"split\">\n",
    "    <div class=\"dcha\"><img src=\"../MEDIA/EJ2.1.PNG\"></div>\n",
    "    <div class=\"izq\"><div class=\"texto\">\n",
    "        <ol class=\"enunciado\">    \n",
    "        <li> El peso específico del material que compone la moneda. La viscosidad cinemática del aceite $(s_{aceite}=0,9)$ es $\\nu = 0,76$ St.</li>\n",
    "        <li> Fuerza que habría que aplicar a la moneda para que ésta se desplazara a la misma velocidad constante, pero en sentido contrario (ascendente). Indicar la dirección y sentido de esta fuerza, así como del resto de fuerzas involucradas.</li>\n",
    "        <li>Potencia disipada en relación a la resistencia ofrecida por el aceite, en ambos casos.</li>\n",
    "        </ol> \n",
    "            \n",
    "       \n",
    "        \n",
    "</div>\n",
    "</div>"
   ]
  },
  {
   "cell_type": "markdown",
   "id": "a979d4f1",
   "metadata": {},
   "source": [
    "<div class=\"antesDe\">\n",
    "<ul>\n",
    "    <li><strong>CONCEPTOS PREVIOS</strong></li>\n",
    "    <ul>\n",
    "        <li>LEY DE NEWTON DE LA VISCOSIDAD.</li>\n",
    "        <ul> \n",
    "            <li><p class=\"formulas\">$ \\tau=\\frac{dFt}{dA}=\\mu·\\frac{du}{dy}$<p/></li>\n",
    "            <li><p class=\"formulas\">$ dFt=\\mu·\\frac{u}{y}·dA $<p/></li>\n",
    "         </ul>\n",
    "        <li>PESO ESPECIFICO Y PESO ESPECIFICO RELATIVO.</li>\n",
    "        <ul> \n",
    "            <li><p class=\"formulas\">$\\gamma=\\frac{peso}{volumen}=\\frac{W}{V}= \\frac{m·g}{V} (\\frac{N}{m^3}) $<p/></li>\n",
    "            <li><p class=\"formulas\">$ S= \\frac{\\rho_{_{compuesto}}}{\\rho_{_{agua}}}= \\frac{\\gamma_{_{compuesto}}}{\\gamma_{_{agua}}} (Adimensional) $<p/></li>\n",
    "            \n",
    "            \n",
    "         \n",
    "<li><strong>FALLO TÍPICO $\\rightarrow$ NO TENER EN CUENTA QUE LA MONEDA ESTA RODEADA DE FLUIDO. </strong></li>\n",
    "    <ul><li>Como en este caso la moneda esta completamente rodeada de fluido ( canto despreciable segun enunciado ) existen fuerzas tangenciales $F_t$ en ambas caras de la moneda.  </li></ul>\n",
    "\n",
    "</ul>\n",
    "<div>"
   ]
  },
  {
   "cell_type": "markdown",
   "id": "dd32a798",
   "metadata": {},
   "source": [
    "<h2>a) Calcular el peso específico ($\\gamma$) del material que compone la moneda.</h2>"
   ]
  },
  {
   "cell_type": "markdown",
   "id": "b0fff848",
   "metadata": {},
   "source": [
    "Primero debemos calcular la densidad del aceite:\n",
    "\n",
    "<p class=\"formulas\"> $$ S_{_{aceite}}= \\frac{\\rho_{_{aceite}}}{\\rho_{_{agua}}}\\rightarrow \\rho_{_{aceite}}  = S_{_{aceite}}·\\rho_{_{agua}} $$ <p>"
   ]
  },
  {
   "cell_type": "markdown",
   "id": "c85dc089",
   "metadata": {},
   "source": [
    "Una vez tenemos calculada la densidad, podemos despejar la viscosidad absoluta de la formula de la viscosidad cinematica:\n",
    "    \n",
    "<p class=\"formulas\"> $$ \\nu_{_{aceite}}= \\frac{\\mu_{_{aceite}}}{\\rho_{_{aceite}}}\\rightarrow \\mu_{_{aceite}}=\\nu_{_{aceite}}·\\rho_{_{aceite}} $$ <p>"
   ]
  },
  {
   "cell_type": "markdown",
   "id": "7c3c2f15",
   "metadata": {},
   "source": [
    "Hacemos el cambio de unidades:\n",
    "\n",
    "<p class=\"formulas\"> $$\\mu_{_{aceite}}(Pl=\\frac{kg}{m·s})=\\nu_{_{aceite}}(St=\\frac{cm^2}{s}·\\frac{1\\ m^2}{10^4\\ cm^2})·\\rho_{_{aceite}}(\\frac{kg}{m^3}) $$ <p>"
   ]
  },
  {
   "cell_type": "code",
   "execution_count": 2,
   "id": "2129aa27",
   "metadata": {},
   "outputs": [
    {
     "data": {
      "application/vnd.jupyter.widget-view+json": {
       "model_id": "fd7330cc4b344cd7b149b382025dc1e6",
       "version_major": 2,
       "version_minor": 0
      },
      "text/plain": [
       "BoundedFloatText(value=0.9, description='Densidad relativa $\\\\rho_{compuesto}$ $[kg/m^3]$', layout=Layout(widt…"
      ]
     },
     "metadata": {},
     "output_type": "display_data"
    },
    {
     "data": {
      "application/vnd.jupyter.widget-view+json": {
       "model_id": "0c5b21c169a34a57929283e30dbfd48b",
       "version_major": 2,
       "version_minor": 0
      },
      "text/plain": [
       "BoundedFloatText(value=0.76, description='Viscosidad cinematica $\\\\nu $ $[St.]$', layout=Layout(width='45ex'),…"
      ]
     },
     "metadata": {},
     "output_type": "display_data"
    },
    {
     "data": {
      "text/html": [
       "\n",
       "<style>\n",
       "    .widget-label {min-width: 35ex !important;text-align:left !important; }    \n",
       "</style>"
      ],
      "text/plain": [
       "<IPython.core.display.HTML object>"
      ]
     },
     "metadata": {},
     "output_type": "display_data"
    }
   ],
   "source": [
    "from ipywidgets import interact, interactive, Checkbox, VBox\n",
    "from IPython.display import HTML, display\n",
    "import ipywidgets as widgets\n",
    "\n",
    "\n",
    "S_aceite = widgets.BoundedFloatText(\n",
    "    value=0.9,\n",
    "    layout=widgets.Layout(width=\"45ex\"),\n",
    "    description='Densidad relativa $\\\\rho_{compuesto}$ $[kg/m^3]$',\n",
    "    disabled=False,\n",
    "    min=0, max=99,\n",
    ")\n",
    "v_cinem = widgets.BoundedFloatText(\n",
    "    value=0.76,\n",
    "    layout=widgets.Layout(width=\"45ex\"),\n",
    "    description='Viscosidad cinematica $\\\\nu $ $[St.]$',\n",
    "    disabled=False,\n",
    "    min=0, max=99,)\n",
    "\n",
    "display(S_aceite)\n",
    "display(v_cinem)\n",
    "\n",
    "display(HTML('''\n",
    "<style>\n",
    "    .widget-label {min-width: 35ex !important;text-align:left !important; }    \n",
    "</style>'''))\n"
   ]
  },
  {
   "cell_type": "code",
   "execution_count": 3,
   "id": "b16194ce",
   "metadata": {},
   "outputs": [
    {
     "data": {
      "text/html": [
       "\n",
       "<button onclick=\"ejecutar(9,10)\">Calcular</button>\n",
       "<button onclick=\"ejecutar(7,8)\">Reiniciar variables</button>\n",
       "<script>function ejecutar(desde, hasta){\n",
       "    for(i = desde; i < hasta; i++)\n",
       "Jupyter.notebook.execute_cells([i])    \n",
       "}</script>"
      ],
      "text/plain": [
       "<IPython.core.display.HTML object>"
      ]
     },
     "execution_count": 3,
     "metadata": {},
     "output_type": "execute_result"
    }
   ],
   "source": [
    "from IPython.display import HTML\n",
    "HTML('''\n",
    "<button onclick=\"ejecutar(9,10)\">Calcular</button>\n",
    "<button onclick=\"ejecutar(7,8)\">Reiniciar variables</button>\n",
    "<script>function ejecutar(desde, hasta){\n",
    "    for(i = desde; i < hasta; i++)\n",
    "Jupyter.notebook.execute_cells([i])    \n",
    "}</script>''')"
   ]
  },
  {
   "cell_type": "code",
   "execution_count": 4,
   "id": "bf6b24c6",
   "metadata": {},
   "outputs": [
    {
     "data": {
      "text/html": [
       " $$\\rho_{aceite}= 1000 \\ (kg/m^3)·0.9 \\ (adimensional)=900.00 \\  kg/m^3$$"
      ],
      "text/plain": [
       "<IPython.core.display.HTML object>"
      ]
     },
     "metadata": {},
     "output_type": "display_data"
    },
    {
     "data": {
      "text/html": [
       " $$\\mu_{aceite}=0.76·10^{-4}\\ (m^2/s)·900.0 \\ (kg/m^3)=0.0684 \\  Pl $$"
      ],
      "text/plain": [
       "<IPython.core.display.HTML object>"
      ]
     },
     "metadata": {},
     "output_type": "display_data"
    }
   ],
   "source": [
    "from IPython.display import HTML, display, Latex\n",
    "from IPython.display import Markdown as md\n",
    "\n",
    "\n",
    "rho_agua=1000\n",
    "\n",
    "if (S_aceite.value==0):\n",
    "    display(HTML('<b><FONT COLOR=\"RED\">La densidad relativa no puede ser 0!</b>'))\n",
    "elif (v_cinem.value==0):\n",
    "    display(HTML('<b><FONT COLOR=\"RED\">La viscosidad cinematica no puede ser 0!</b>'))\n",
    "else:\n",
    "    rho_aceite=rho_agua*S_aceite.value\n",
    "    v_dinam=v_cinem.value*10**(-4)*rho_aceite\n",
    "    display(HTML(f' $$\\\\rho_{{aceite}}= {rho_agua} \\\\ (kg/m^3)·{S_aceite.value} \\\\ (adimensional)={rho_aceite:.2f} \\\\  kg/m^3$$'))\n",
    "    display(HTML(f' $$\\\\mu_{{aceite}}={v_cinem.value}·10^{{-4}}\\\\ (m^2/s)·{rho_aceite} \\\\ (kg/m^3)={v_dinam:.4f} \\\\  Pl $$'))"
   ]
  },
  {
   "cell_type": "markdown",
   "id": "a2c8fedb",
   "metadata": {},
   "source": [
    "Una vez calculada la viscosidad dinamica del aceite calculamos el area de la moneda (despreciando el canto):\n",
    "\n",
    "<p class=\"formulas\"> $$A_{_{moneda}}(m^2)=\\pi·r^2 $$<p>"
   ]
  },
  {
   "cell_type": "markdown",
   "id": "b62476dd",
   "metadata": {},
   "source": [
    "Y el volumen:\n",
    "\n",
    "<p class=\"formulas\"> $$V_{_{moneda}}(m^3)= A_{_{moneda}}·e$$<p>"
   ]
  },
  {
   "cell_type": "code",
   "execution_count": 5,
   "id": "6c57ecb6",
   "metadata": {},
   "outputs": [
    {
     "data": {
      "application/vnd.jupyter.widget-view+json": {
       "model_id": "8b9edfc90473470c9bbfff50322796ba",
       "version_major": 2,
       "version_minor": 0
      },
      "text/plain": [
       "BoundedFloatText(value=2.5, description='Espesor moneda $e$ $[mm]$', layout=Layout(width='45ex'), max=9999.0)"
      ]
     },
     "metadata": {},
     "output_type": "display_data"
    },
    {
     "data": {
      "application/vnd.jupyter.widget-view+json": {
       "model_id": "132534d83cbf431bb09040765efd9c33",
       "version_major": 2,
       "version_minor": 0
      },
      "text/plain": [
       "BoundedFloatText(value=24.0, description='Radio moneda $r$ $[mm]$', layout=Layout(width='45ex'), max=99999.0)"
      ]
     },
     "metadata": {},
     "output_type": "display_data"
    },
    {
     "data": {
      "text/html": [
       "\n",
       "<style>\n",
       "    .widget-label { min-width: 35ex !important;text-align:left !important; }    \n",
       "</style>"
      ],
      "text/plain": [
       "<IPython.core.display.HTML object>"
      ]
     },
     "metadata": {},
     "output_type": "display_data"
    }
   ],
   "source": [
    "from ipywidgets import interact, interactive, Checkbox, VBox\n",
    "from IPython.display import HTML, display\n",
    "import ipywidgets as widgets\n",
    "\n",
    "\n",
    "r_moneda = widgets.BoundedFloatText(\n",
    "    value=24,\n",
    "    layout=widgets.Layout(width=\"45ex\"),\n",
    "    description='Radio moneda $r$ $[mm]$',\n",
    "    disabled=False,\n",
    "    min=0, max=99999,\n",
    ")\n",
    "e_moneda = widgets.BoundedFloatText(\n",
    "    value=2.5,\n",
    "    layout=widgets.Layout(width=\"45ex\"),\n",
    "    description='Espesor moneda $e$ $[mm]$',\n",
    "    disabled=False,\n",
    "    min=0, max=9999,)\n",
    "\n",
    "display(e_moneda)\n",
    "display(r_moneda)\n",
    "\n",
    "display(HTML('''\n",
    "<style>\n",
    "    .widget-label { min-width: 35ex !important;text-align:left !important; }    \n",
    "</style>'''))"
   ]
  },
  {
   "cell_type": "code",
   "execution_count": 6,
   "id": "6a050032",
   "metadata": {},
   "outputs": [
    {
     "data": {
      "text/html": [
       "\n",
       "<button onclick=\"ejecutar(14,15)\">Calcular</button>\n",
       "<button onclick=\"ejecutar(12,13)\">Reiniciar variables</button>\n",
       "<script>function ejecutar(desde, hasta){\n",
       "    for(i = desde; i < hasta; i++)\n",
       "Jupyter.notebook.execute_cells([i])    \n",
       "}</script>"
      ],
      "text/plain": [
       "<IPython.core.display.HTML object>"
      ]
     },
     "execution_count": 6,
     "metadata": {},
     "output_type": "execute_result"
    }
   ],
   "source": [
    "from IPython.display import HTML\n",
    "HTML('''\n",
    "<button onclick=\"ejecutar(14,15)\">Calcular</button>\n",
    "<button onclick=\"ejecutar(12,13)\">Reiniciar variables</button>\n",
    "<script>function ejecutar(desde, hasta){\n",
    "    for(i = desde; i < hasta; i++)\n",
    "Jupyter.notebook.execute_cells([i])    \n",
    "}</script>''')"
   ]
  },
  {
   "cell_type": "code",
   "execution_count": 7,
   "id": "dba88f29",
   "metadata": {},
   "outputs": [
    {
     "data": {
      "text/html": [
       " $$A_{moneda}= (24.0·10^{-3})^2 \\ ·\\pi =0.00181 \\  m^2$$"
      ],
      "text/plain": [
       "<IPython.core.display.HTML object>"
      ]
     },
     "metadata": {},
     "output_type": "display_data"
    },
    {
     "data": {
      "text/html": [
       " $$V_{moneda}= 0.00181·2.5·10^{-3} =4.52e-06 \\  m^3$$"
      ],
      "text/plain": [
       "<IPython.core.display.HTML object>"
      ]
     },
     "metadata": {},
     "output_type": "display_data"
    }
   ],
   "source": [
    "import math\n",
    "from IPython.display import HTML, display, Latex\n",
    "from IPython.display import Markdown as md\n",
    "\n",
    "if (r_moneda.value==0):\n",
    "    display(HTML('<b><FONT COLOR=\"RED\">El radio de la moneda no puede ser 0!</b>'))\n",
    "elif (e_moneda.value==0):\n",
    "    display(HTML('<b><FONT COLOR=\"RED\">El espesor de la moneda no puede ser 0!</b>'))\n",
    "else:\n",
    "    A_moneda=(r_moneda.value*10**(-3))**2*math.pi\n",
    "    V_moneda= A_moneda*e_moneda.value*10**(-3)\n",
    "    \n",
    "    display(HTML(f' $$A_{{moneda}}= ({r_moneda.value}·10^{{-3}})^2 \\\\ ·\\pi ={A_moneda:.5f} \\\\  m^2$$'))\n",
    "    display(HTML(f' $$V_{{moneda}}= {A_moneda:.5f}·{e_moneda.value}·10^{{-3}} ={V_moneda:.2e} \\\\  m^3$$'))"
   ]
  },
  {
   "cell_type": "markdown",
   "id": "7e9db985",
   "metadata": {},
   "source": [
    "Mediante la ley de Newton de la viscosidad:\n",
    "\n",
    "<div class=\"split\">\n",
    "    <div class=\"izq\"><img src=\"../MEDIA/EJ2.1.1.PNG\"></div>\n",
    "    <div class=\"dcha\"><p class=\"formulas\">$$ \\tau=\\frac{dFt}{dA}=\\mu·\\frac{du}{dy}$$\n",
    "<br>\n",
    "$$ dFt=\\mu·\\frac{u}{y}·dA $$\n",
    "<br>\n",
    "$$ Ft=\\int \\mu·\\frac{u}{y}·dA = \\mu·\\frac{u}{y}·A  \\ \\ \\  (1)$$"
   ]
  },
  {
   "cell_type": "markdown",
   "id": "4dc9be05",
   "metadata": {},
   "source": [
    "Y teniendo en cuenta que la moneda esta rodeada de fluido:\n",
    "<p class=\"formulas\"> $$ Ft=Ft_1+Ft_2 \\ \\ \\ (2)$$ "
   ]
  },
  {
   "cell_type": "markdown",
   "id": "be24c51c",
   "metadata": {},
   "source": [
    "Juntando (1) y (2) nos queda:\n",
    "<p class=\"formulas\">$$ Ft=\\mu·A·\\left[ \\frac{u}{y_1}+\\frac{u}{y_2}\\right] $$ "
   ]
  },
  {
   "cell_type": "markdown",
   "id": "b74a71bc",
   "metadata": {},
   "source": [
    "Comprobamos unidades:\n",
    "<p class=\"formulas\"> $$  Ft(N\\Leftrightarrow\\frac{kg·m}{s^2})=\\mu(Pl\\Leftrightarrow\\frac{kg}{m·s})·A(m^2)·\\left[ \\frac{u}{y_1}+\\frac{u}{y_2}\\right](\\frac{m/s}{m}) $$"
   ]
  },
  {
   "cell_type": "code",
   "execution_count": 8,
   "id": "e1143b49",
   "metadata": {},
   "outputs": [
    {
     "data": {
      "application/vnd.jupyter.widget-view+json": {
       "model_id": "97ecf983562b48f2a7aacf103c010f1a",
       "version_major": 2,
       "version_minor": 0
      },
      "text/plain": [
       "BoundedFloatText(value=0.35, description='Velocidad moneda (cte) $u$ $[m/s]$', layout=Layout(width='45ex'), ma…"
      ]
     },
     "metadata": {},
     "output_type": "display_data"
    },
    {
     "data": {
      "application/vnd.jupyter.widget-view+json": {
       "model_id": "6d93a4861c754dae8011b20e9c7837b9",
       "version_major": 2,
       "version_minor": 0
      },
      "text/plain": [
       "BoundedFloatText(value=0.5, description='Distancia $y_1$ $[mm]$', layout=Layout(width='45ex'), max=9999.0, min…"
      ]
     },
     "metadata": {},
     "output_type": "display_data"
    },
    {
     "data": {
      "application/vnd.jupyter.widget-view+json": {
       "model_id": "42ea152263f243c6ac358614ab5b492f",
       "version_major": 2,
       "version_minor": 0
      },
      "text/plain": [
       "BoundedFloatText(value=0.5, description='Distancia $y_2$ $[mm]$', layout=Layout(width='45ex'), max=9999.0)"
      ]
     },
     "metadata": {},
     "output_type": "display_data"
    },
    {
     "data": {
      "text/html": [
       "\n",
       "<style>\n",
       "    .widget-label { width: 35ex !important;text-align:left !important; }    \n",
       "</style>"
      ],
      "text/plain": [
       "<IPython.core.display.HTML object>"
      ]
     },
     "metadata": {},
     "output_type": "display_data"
    }
   ],
   "source": [
    "from ipywidgets import interact, interactive, Checkbox, VBox\n",
    "from IPython.display import HTML, display\n",
    "import ipywidgets as widgets\n",
    "\n",
    "vel_moneda = widgets.BoundedFloatText(\n",
    "    value=0.35,\n",
    "    layout=widgets.Layout(width=\"45ex\"),\n",
    "    description='Velocidad moneda (cte) $u$ $[m/s]$',\n",
    "    disabled=False,\n",
    "    min=0, max=99,\n",
    ")\n",
    "y1_moneda = widgets.BoundedFloatText(\n",
    "    value=0.5,\n",
    "    layout=widgets.Layout(width=\"45ex\"),\n",
    "    description='Distancia $y_1$ $[mm]$',\n",
    "    disabled=False,\n",
    "    min=0.001, max=9999,)\n",
    "y2_moneda = widgets.BoundedFloatText(\n",
    "    value=0.5,\n",
    "    layout=widgets.Layout(width=\"45ex\"),\n",
    "    description='Distancia $y_2$ $[mm]$',\n",
    "    disabled=False,\n",
    "    min=0, max=9999,)\n",
    "\n",
    "display(vel_moneda)\n",
    "display(y1_moneda)\n",
    "display(y2_moneda)\n",
    "\n",
    "display(HTML('''\n",
    "<style>\n",
    "    .widget-label { width: 35ex !important;text-align:left !important; }    \n",
    "</style>'''))"
   ]
  },
  {
   "cell_type": "code",
   "execution_count": 9,
   "id": "f7656133",
   "metadata": {},
   "outputs": [
    {
     "data": {
      "text/html": [
       "\n",
       "<button onclick=\"ejecutar(21,22)\">Calcular</button>\n",
       "<button onclick=\"ejecutar(19,20)\">Reiniciar variables</button>\n",
       "<script>function ejecutar(desde, hasta){\n",
       "    for(i = desde; i < hasta; i++)\n",
       "Jupyter.notebook.execute_cells([i])    \n",
       "}</script>"
      ],
      "text/plain": [
       "<IPython.core.display.HTML object>"
      ]
     },
     "execution_count": 9,
     "metadata": {},
     "output_type": "execute_result"
    }
   ],
   "source": [
    "from IPython.display import HTML\n",
    "HTML('''\n",
    "<button onclick=\"ejecutar(21,22)\">Calcular</button>\n",
    "<button onclick=\"ejecutar(19,20)\">Reiniciar variables</button>\n",
    "<script>function ejecutar(desde, hasta){\n",
    "    for(i = desde; i < hasta; i++)\n",
    "Jupyter.notebook.execute_cells([i])    \n",
    "}</script>''')"
   ]
  },
  {
   "cell_type": "code",
   "execution_count": 10,
   "id": "e9a77225",
   "metadata": {},
   "outputs": [
    {
     "data": {
      "text/html": [
       "$$ Ft= 0.0684·0.00181·\\left[\\frac{0.35}{0.0005}+\\frac{0.35}{0.0005}\\right] =0.173\\ N $$"
      ],
      "text/plain": [
       "<IPython.core.display.HTML object>"
      ]
     },
     "metadata": {},
     "output_type": "display_data"
    }
   ],
   "source": [
    "import math\n",
    "from IPython.display import HTML, display, Latex\n",
    "from IPython.display import Markdown as md\n",
    "\n",
    "ytot=10**(-3)*(y1_moneda.value+y2_moneda.value)\n",
    "y1_m=10**(-3)*y1_moneda.value\n",
    "y2_m=10**(-3)*y2_moneda.value\n",
    "\n",
    "if (r_moneda.value==0):\n",
    "    display(HTML('<b><FONT COLOR=\"RED\">El radio no puede ser 0!</b>'))\n",
    "elif (e_moneda.value==0):\n",
    "    display(HTML('<b><FONT COLOR=\"RED\">El espesor no puede ser 0!</b>'))\n",
    "else:\n",
    "    Ft=v_dinam*A_moneda*((vel_moneda.value/y1_m)+(vel_moneda.value/y2_m))\n",
    "   \n",
    "    display(HTML(f'$$ Ft= {v_dinam}·{A_moneda:.5f}·\\\\left[\\\\frac{{{vel_moneda.value}}}{{{y1_m}}}+\\\\frac{{{vel_moneda.value}}}{{{y2_m}}}\\\\right] ={Ft:.3}\\\\ N $$'))\n"
   ]
  },
  {
   "cell_type": "markdown",
   "id": "7cf994de",
   "metadata": {},
   "source": [
    "Sabemos que la moneda se desplaza unicamente gracias a la fuerza de la gravedad por lo tanto:\n",
    "\n",
    "<p class=\"formulas\"> $$  Ft= m_{moneda}·g·sen(\\alpha)  $$"
   ]
  },
  {
   "cell_type": "markdown",
   "id": "10422bd9",
   "metadata": {},
   "source": [
    "Despejando la masa:\n",
    "\n",
    "<p class=\"formulas\"> $$  m_{moneda} =\\frac{Ft}{g·sen(\\alpha)}  $$"
   ]
  },
  {
   "cell_type": "markdown",
   "id": "bbab7c12",
   "metadata": {},
   "source": [
    "Ya tenemos todos los datos para despejar el peso especifico del material de la moneda:\n",
    "\n",
    "<p class=\"formulas\">$$ \\gamma_{moneda}=\\rho_{moneda}·g=\\frac{m_{moneda}}{V}·g  $$"
   ]
  },
  {
   "cell_type": "code",
   "execution_count": 11,
   "id": "f0aa19ce",
   "metadata": {},
   "outputs": [
    {
     "data": {
      "application/vnd.jupyter.widget-view+json": {
       "model_id": "084e3630639c47b3bdf43509a855b012",
       "version_major": 2,
       "version_minor": 0
      },
      "text/plain": [
       "BoundedFloatText(value=30.0, description='Angulo de inclinación $\\\\alpha$ $[º]$', layout=Layout(width='45ex'),…"
      ]
     },
     "metadata": {},
     "output_type": "display_data"
    },
    {
     "data": {
      "text/html": [
       "\n",
       "<style>\n",
       "    .widget-label { width: 35ex !important;text-align:left !important; }    \n",
       "</style>"
      ],
      "text/plain": [
       "<IPython.core.display.HTML object>"
      ]
     },
     "metadata": {},
     "output_type": "display_data"
    }
   ],
   "source": [
    "angulo = widgets.BoundedFloatText(\n",
    "    value=30,\n",
    "    layout=widgets.Layout(width=\"45ex\"),\n",
    "    description='Angulo de inclinación $\\\\alpha$ $[º]$',\n",
    "    disabled=False,\n",
    "    min=0, max=90,\n",
    ")\n",
    "display(angulo)\n",
    "\n",
    "display(HTML('''\n",
    "<style>\n",
    "    .widget-label { width: 35ex !important;text-align:left !important; }    \n",
    "</style>'''))"
   ]
  },
  {
   "cell_type": "code",
   "execution_count": 12,
   "id": "8c583204",
   "metadata": {},
   "outputs": [
    {
     "data": {
      "text/html": [
       "\n",
       "<button onclick=\"ejecutar(27,28)\">Calcular</button>\n",
       "<button onclick=\"ejecutar(25,26)\">Reiniciar variables</button>\n",
       "<script>function ejecutar(desde, hasta){\n",
       "    for(i = desde; i < hasta; i++)\n",
       "Jupyter.notebook.execute_cells([i])    \n",
       "}</script>"
      ],
      "text/plain": [
       "<IPython.core.display.HTML object>"
      ]
     },
     "execution_count": 12,
     "metadata": {},
     "output_type": "execute_result"
    }
   ],
   "source": [
    "from IPython.display import HTML\n",
    "HTML('''\n",
    "<button onclick=\"ejecutar(27,28)\">Calcular</button>\n",
    "<button onclick=\"ejecutar(25,26)\">Reiniciar variables</button>\n",
    "<script>function ejecutar(desde, hasta){\n",
    "    for(i = desde; i < hasta; i++)\n",
    "Jupyter.notebook.execute_cells([i])    \n",
    "}</script>''')"
   ]
  },
  {
   "cell_type": "code",
   "execution_count": 13,
   "id": "5cb22bd0",
   "metadata": {},
   "outputs": [
    {
     "data": {
      "text/html": [
       " $$ m_{moneda}=\\frac{0.173}{9.81·sen\\ (30.0)} = 0.03533\\ kg $$"
      ],
      "text/plain": [
       "<IPython.core.display.HTML object>"
      ]
     },
     "metadata": {},
     "output_type": "display_data"
    },
    {
     "data": {
      "text/html": [
       " $$ \\gamma_{moneda}=\\frac{0.03533}{4.52e-06}·g =\\fbox{ 76608.00 $N/m^3$ }$$"
      ],
      "text/plain": [
       "<IPython.core.display.HTML object>"
      ]
     },
     "metadata": {},
     "output_type": "display_data"
    }
   ],
   "source": [
    "import math\n",
    "from IPython.display import HTML, display, Latex\n",
    "from IPython.display import Markdown as md\n",
    "g=9.81\n",
    "if (angulo.value==0):\n",
    "    display(HTML('<b><FONT COLOR=\"RED\">El ángulo de inclinación no puede ser 0!</b>'))\n",
    "else:\n",
    "    angulo_radianes=math.radians(angulo.value)\n",
    "    masa_moneda=Ft/(g*math.sin(angulo_radianes))\n",
    "    peso_especifico=masa_moneda*g/V_moneda\n",
    "    display(HTML(f' $$ m_{{moneda}}=\\\\frac{{{Ft:.3f}}}{{{g}·sen\\\\ ({angulo.value})}} = {masa_moneda:.5f}\\\\ kg $$'))\n",
    "    display(HTML(f' $$ \\\\gamma_{{moneda}}=\\\\frac{{{masa_moneda:.5f}}}{{{V_moneda:.2e}}}·g =\\\\fbox{{ {peso_especifico:.2f} $N/m^3$ }}$$'))"
   ]
  },
  {
   "cell_type": "code",
   "execution_count": 14,
   "id": "c82bf8a8",
   "metadata": {},
   "outputs": [
    {
     "data": {
      "text/html": [
       "\n",
       "\n",
       "</script>\n",
       "<button onclick=\"confirmar() ; toggle()\" class=\"button-85\" id=\"boton2\"> Mostrar código </button>\n",
       "\n"
      ],
      "text/plain": [
       "<IPython.core.display.HTML object>"
      ]
     },
     "execution_count": 14,
     "metadata": {},
     "output_type": "execute_result"
    }
   ],
   "source": [
    "from IPython.display import HTML,Javascript\n",
    "\n",
    "HTML('''\n",
    "\n",
    "</script>\n",
    "<button onclick=\"confirmar() ; toggle()\" class=\"button-85\" id=\"boton2\"> Mostrar código </button>\n",
    "\n",
    "''')"
   ]
  },
  {
   "cell_type": "markdown",
   "id": "178eb048",
   "metadata": {},
   "source": [
    "<h2>b) Fuerza que hay que aplicar para que la moneda ascienda a $ u=0,35m/s$.</h2>"
   ]
  },
  {
   "cell_type": "markdown",
   "id": "52aa2df5",
   "metadata": {},
   "source": [
    "Para que la moneda ascienda en vez de descender, debemos contrarrestar la fuerza descendente ejercida por la gravedad mediante una fuerza de empuje con la misma direccion y diferente sentido.\n",
    "<div class=\"split\">\n",
    "    <div class=\"izq\"><img src=\"../MEDIA/EJ2.1.2.PNG\"></div>\n",
    "    <div class=\"dcha\"><p class=\"formulas\"> $$ F_{peso}= m· g ·sen(\\alpha) $$\n"
   ]
  },
  {
   "cell_type": "markdown",
   "id": "b1aa385e",
   "metadata": {},
   "source": [
    "Esta fuerza tambien debe ser capaz de impulsar la moneda con una velocidad constante $u=0,35m/s$, por lo tanto sabemos que la fuerza tangencial ascendente debe ser de igual magnitud a la descendente en el apartado a).\n",
    "\n",
    "<p class=\"formulas\"> $$ F_{empuje}-F_{peso}=Ft $$\n",
    "<br>\n",
    "$$ F_{empuje}=F_{peso}+Ft $$"
   ]
  },
  {
   "cell_type": "code",
   "execution_count": 15,
   "id": "ad7b6e65",
   "metadata": {},
   "outputs": [
    {
     "data": {
      "application/vnd.jupyter.widget-view+json": {
       "model_id": "94ce90360c7c4a919ee5dd52178864fb",
       "version_major": 2,
       "version_minor": 0
      },
      "text/plain": [
       "BoundedFloatText(value=0.35, description='Velocidad ascendente (cte) $u$ $[m/s]$', layout=Layout(width='45ex')…"
      ]
     },
     "metadata": {},
     "output_type": "display_data"
    },
    {
     "data": {
      "text/html": [
       "\n",
       "<style>\n",
       "    .widget-label { width: 35ex !important;text-align:left !important; }    \n",
       "</style>"
      ],
      "text/plain": [
       "<IPython.core.display.HTML object>"
      ]
     },
     "metadata": {},
     "output_type": "display_data"
    }
   ],
   "source": [
    "vel_ascendente = widgets.BoundedFloatText(\n",
    "    value=0.35,\n",
    "    layout=widgets.Layout(width=\"45ex\"),\n",
    "    description='Velocidad ascendente (cte) $u$ $[m/s]$',\n",
    "    disabled=False,\n",
    "    min=0, max=99,\n",
    ")\n",
    "\n",
    "display(vel_ascendente)\n",
    "\n",
    "display(HTML('''\n",
    "<style>\n",
    "    .widget-label { width: 35ex !important;text-align:left !important; }    \n",
    "</style>'''))"
   ]
  },
  {
   "cell_type": "code",
   "execution_count": 16,
   "id": "3a06c8c1",
   "metadata": {},
   "outputs": [
    {
     "data": {
      "text/html": [
       "\n",
       "<button onclick=\"ejecutar(34,38)\">Calcular</button>\n",
       "<button onclick=\"ejecutar(32,33)\">Reiniciar variables</button>\n",
       "<script>function ejecutar(desde, hasta){\n",
       "    for(i = desde; i < hasta; i++)\n",
       "Jupyter.notebook.execute_cells([i])    \n",
       "}</script>"
      ],
      "text/plain": [
       "<IPython.core.display.HTML object>"
      ]
     },
     "execution_count": 16,
     "metadata": {},
     "output_type": "execute_result"
    }
   ],
   "source": [
    "from IPython.display import HTML\n",
    "HTML('''\n",
    "<button onclick=\"ejecutar(34,38)\">Calcular</button>\n",
    "<button onclick=\"ejecutar(32,33)\">Reiniciar variables</button>\n",
    "<script>function ejecutar(desde, hasta){\n",
    "    for(i = desde; i < hasta; i++)\n",
    "Jupyter.notebook.execute_cells([i])    \n",
    "}</script>''')"
   ]
  },
  {
   "cell_type": "code",
   "execution_count": 17,
   "id": "453eff99",
   "metadata": {},
   "outputs": [
    {
     "data": {
      "text/html": [
       " $$ F_{empuje}=0.1733+0.1733= \\fbox  {0.3466 N }$$"
      ],
      "text/plain": [
       "<IPython.core.display.HTML object>"
      ]
     },
     "metadata": {},
     "output_type": "display_data"
    }
   ],
   "source": [
    "import math\n",
    "from IPython.display import HTML, display, Latex\n",
    "from IPython.display import Markdown as md\n",
    "\n",
    "Ft_ascendente=v_dinam*A_moneda*((vel_ascendente.value/y1_m)+(vel_ascendente.value/y2_m))\n",
    "F_peso=masa_moneda*g*math.sin(angulo_radianes)\n",
    "F_empuje=F_peso+Ft_ascendente\n",
    "\n",
    "display(HTML(f' $$ F_{{empuje}}={F_peso:.4f}+{Ft_ascendente:.4f}= \\\\fbox  {{{F_empuje:.4f} N }}$$'))"
   ]
  },
  {
   "cell_type": "markdown",
   "id": "cad3e9b0",
   "metadata": {},
   "source": [
    "<h2>c) Potencia disipada en watios en ambos casos.</h2>"
   ]
  },
  {
   "cell_type": "markdown",
   "id": "aee7fe1a",
   "metadata": {},
   "source": [
    "La formula de la Potencia disipada por el aceite es:\n",
    "\n",
    "<p class=\"formulas\"> $$ Pot \\  (W)=Ft \\ (N)·u \\ (m/s)$$"
   ]
  },
  {
   "cell_type": "code",
   "execution_count": 18,
   "id": "7e932819",
   "metadata": {},
   "outputs": [
    {
     "data": {
      "text/html": [
       " $$ Pot_{descendente}=0.1733·0.35= \\fbox {0.0606 W }$$"
      ],
      "text/plain": [
       "<IPython.core.display.HTML object>"
      ]
     },
     "metadata": {},
     "output_type": "display_data"
    },
    {
     "data": {
      "text/html": [
       " $$ Pot_{ascendente}=0.1733·0.35=\\fbox { 0.0606 W }$$"
      ],
      "text/plain": [
       "<IPython.core.display.HTML object>"
      ]
     },
     "metadata": {},
     "output_type": "display_data"
    }
   ],
   "source": [
    "import math\n",
    "from IPython.display import HTML, display, Latex\n",
    "from IPython.display import Markdown as md\n",
    "Pot_descendente=Ft*vel_moneda.value\n",
    "Pot_ascendente=Ft_ascendente*vel_ascendente.value\n",
    "\n",
    "display(HTML(f' $$ Pot_{{descendente}}={Ft:.4f}·{vel_moneda.value}= \\\\fbox {{{Pot_descendente:.4f} W }}$$'))\n",
    "display(HTML(f' $$ Pot_{{ascendente}}={Ft_ascendente:.4f}·{vel_ascendente.value}=\\\\fbox {{ {Pot_ascendente:.4f} W }}$$'))"
   ]
  },
  {
   "cell_type": "code",
   "execution_count": 19,
   "id": "85705068",
   "metadata": {},
   "outputs": [
    {
     "data": {
      "text/html": [
       "\n",
       "\n",
       "</script>\n",
       "<button onclick=\"confirmar() ; toggle()\" class=\"button-85\" id=\"boton2\"> Mostrar código </button>\n",
       "\n"
      ],
      "text/plain": [
       "<IPython.core.display.HTML object>"
      ]
     },
     "execution_count": 19,
     "metadata": {},
     "output_type": "execute_result"
    }
   ],
   "source": [
    "from IPython.display import HTML,Javascript\n",
    "\n",
    "HTML('''\n",
    "\n",
    "</script>\n",
    "<button onclick=\"confirmar() ; toggle()\" class=\"button-85\" id=\"boton2\"> Mostrar código </button>\n",
    "\n",
    "''')"
   ]
  },
  {
   "cell_type": "markdown",
   "id": "7708a20a",
   "metadata": {},
   "source": [
    "[Volver al enunciado.](#top)"
   ]
  },
  {
   "cell_type": "code",
   "execution_count": 20,
   "id": "87271c30",
   "metadata": {},
   "outputs": [
    {
     "data": {
      "text/html": [
       "\n",
       "<script>\n",
       "window.location=\"EJERCICIO_2.1_Viscosidad_1.ipynb#top\";\n",
       "</script>"
      ],
      "text/plain": [
       "<IPython.core.display.HTML object>"
      ]
     },
     "execution_count": 20,
     "metadata": {},
     "output_type": "execute_result"
    }
   ],
   "source": [
    "from IPython.display import HTML\n",
    "HTML('''\n",
    "<script>\n",
    "window.location=\"EJERCICIO_2.1_Viscosidad_1.ipynb#top\";\n",
    "</script>''')\n"
   ]
  }
 ],
 "metadata": {
  "kernelspec": {
   "display_name": "Python 3 (ipykernel)",
   "language": "python",
   "name": "python3"
  },
  "language_info": {
   "codemirror_mode": {
    "name": "ipython",
    "version": 3
   },
   "file_extension": ".py",
   "mimetype": "text/x-python",
   "name": "python",
   "nbconvert_exporter": "python",
   "pygments_lexer": "ipython3",
   "version": "3.9.12"
  }
 },
 "nbformat": 4,
 "nbformat_minor": 5
}
