{
 "cells": [
  {
   "cell_type": "code",
   "execution_count": 1,
   "id": "c7d7b934",
   "metadata": {},
   "outputs": [
    {
     "data": {
      "text/html": [
       "\n",
       "<script>\n",
       "code_show=true;\n",
       "\n",
       "function confirmar() {\n",
       "        if (code_show==false) {\n",
       "            \n",
       "            let confirmar = confirm(\"¿Estás seguro de que deseas MOSTRAR las celdas de código?\"); // Popup de confirmacion\n",
       "                \n",
       "                if (confirmar==true){$('div.input').show();} // Muestra las celdas de codigo\n",
       "                else {code_show=!code_show}\n",
       "        }\n",
       "        \n",
       "        else {$('div.input').hide();} // Oculta las celdas de codigo\n",
       "        \n",
       "    code_show=!code_show\n",
       "}\n",
       "\n",
       "\n",
       "function toggle() {\n",
       "    \n",
       "    boton1.innerHTML = code_show ? 'Ocultar código' : 'Mostrar código'; // Cambia el texto del boton\n",
       "    boton2.innerHTML = boton1.innerHTML\n",
       "}\n",
       "\n",
       "$( document ).ready(confirmar); // Ejecuta la funcion confirmar cuando se carga el documento\n",
       "</script>\n",
       "\n",
       "<button onclick=\"confirmar() ; toggle()\" class=\"button-85\" id=\"boton1\"> Mostrar código </button>\n"
      ],
      "text/plain": [
       "<IPython.core.display.HTML object>"
      ]
     },
     "execution_count": 1,
     "metadata": {},
     "output_type": "execute_result"
    }
   ],
   "source": [
    "from IPython.display import HTML,Javascript\n",
    "HTML('''\n",
    "<script>\n",
    "code_show=true;\n",
    "\n",
    "function confirmar() {\n",
    "        if (code_show==false) {\n",
    "            \n",
    "            let confirmar = confirm(\"¿Estás seguro de que deseas MOSTRAR las celdas de código?\"); // Popup de confirmacion\n",
    "                \n",
    "                if (confirmar==true){$('div.input').show();} // Muestra las celdas de codigo\n",
    "                else {code_show=!code_show}\n",
    "        }\n",
    "        \n",
    "        else {$('div.input').hide();} // Oculta las celdas de codigo\n",
    "        \n",
    "    code_show=!code_show\n",
    "}\n",
    "\n",
    "\n",
    "function toggle() {\n",
    "    \n",
    "    boton1.innerHTML = code_show ? 'Ocultar código' : 'Mostrar código'; // Cambia el texto del boton\n",
    "    boton2.innerHTML = boton1.innerHTML\n",
    "}\n",
    "\n",
    "$( document ).ready(confirmar); // Ejecuta la funcion confirmar cuando se carga el documento\n",
    "</script>\n",
    "\n",
    "<button onclick=\"confirmar() ; toggle()\" class=\"button-85\" id=\"boton1\"> Mostrar código </button>\n",
    "''')"
   ]
  },
  {
   "cell_type": "markdown",
   "id": "b72c902a",
   "metadata": {},
   "source": [
    "<div class=\"texto\"><div id=\"top\"><p><p style=\"text-align: justify;\"><span style=\"color: #ff9900;\"><strong>EXAMEN PARCIAL (20/03/17). Ejercicio 2.&nbsp;</strong></span> Dos superficies planas de grandes dimensiones están separadas 32 mm y el\n",
    "espacio entre ellas está lleno con un líquido cuya viscosidad es de 0,15 poises. Suponiendo\n",
    "que el gradiente de velocidades es lineal, se pide:</p>\n",
    "<br>\n",
    "</div>\n",
    "<div class=\"split\">\n",
    "    <div class=\"dcha\"><img src=\"../MEDIA/EJ2.0.PNG\"></div>\n",
    "    <div class=\"izq\"><div class=\"texto\">\n",
    "        <ol class=\"enunciado\">    \n",
    "        <li> ¿Qué fuerza en daN se requiere para arrastrar una placa de muy poco espesor y 0,5\n",
    "m2 de área a la velocidad constante de 20 cm/s si la placa dista 10 mm de una de las\n",
    "superficies?</li>\n",
    "        <li> ¿Cuál es la potencia disipada en watios? </li>\n",
    "        </ol>\n",
    "            \n",
    "</div>       \n",
    "</div>       \n",
    "</div>\n",
    "\n",
    "<div class=\"texto\"><p><p style=\"text-align: justify;\"><strong>Datos:</strong>          \n",
    " $l_1$ = 10 mm; $\\mu$ = 0,15 $Po$ = 0,015 $Pl$ ; Gradiente de velocidad $\\frac{u}{y}$ lineal </p></div>"
   ]
  },
  {
   "cell_type": "markdown",
   "id": "a979d4f1",
   "metadata": {},
   "source": [
    "<div class=\"antesDe\">\n",
    "<ul>\n",
    "    <li><strong>CONCEPTOS PREVIOS</strong></li>\n",
    "    <ul>\n",
    "        <li>LEY DE NEWTON DE LA VISCOSIDAD.</li>\n",
    "        <ul> \n",
    "            <li><p class=\"formulas\">$ \\tau=\\frac{dFt}{dA}=\\mu·\\frac{du}{dy}$<p/></li>\n",
    "            <li><p class=\"formulas\">$ dFt=\\mu·\\frac{u}{y}·dA $<p/></li>\n",
    "         </ul>\n",
    "        \n",
    "            \n",
    "            \n",
    "         \n",
    "<li><strong>FALLO TÍPICO $\\rightarrow$ NO TENER EN CUENTA QUE LA PLACA ESTA RODEADA DE FLUIDO. </strong></li>\n",
    "    <ul><li>Como en este caso la moneda esta completamente rodeada de fluido ( canto despreciable segun enunciado ) existen fuerzas tangenciales $F_t$ en ambas caras de la moneda.  </li></ul>\n",
    "\n",
    "</ul>\n",
    "<div>"
   ]
  },
  {
   "cell_type": "markdown",
   "id": "dd32a798",
   "metadata": {},
   "source": [
    "<h2>a) Calcular la fuerza en daN que se requiere para arrastrar la placa. </h2>"
   ]
  },
  {
   "cell_type": "markdown",
   "id": "7e9db985",
   "metadata": {},
   "source": [
    "Mediante la ley de Newton de la viscosidad:\n",
    "\n",
    "<div class=\"split\">\n",
    "    <div class=\"izq\"><img src=\"../MEDIA/EJ2.0.1.PNG\"></div>\n",
    "    <div class=\"dcha\"><p class=\"formulas\">$$ \\tau=\\frac{dFt}{dA}=\\mu·\\frac{du}{dy}$$\n",
    "<br>\n",
    "$$ dFt=\\mu·\\frac{u}{y}·dA $$\n",
    "<br>\n",
    "$$ Ft=\\int \\mu·\\frac{u}{y}·dA = \\mu·\\frac{u}{y}·A  \\ \\ \\  (1)$$"
   ]
  },
  {
   "cell_type": "markdown",
   "id": "4dc9be05",
   "metadata": {},
   "source": [
    "Y teniendo en cuenta que la placa esta rodeada de fluido:\n",
    "<p class=\"formulas\"> $$ Ft=Ft_1+Ft_2 \\ \\ \\ (2)$$ "
   ]
  },
  {
   "cell_type": "markdown",
   "id": "be24c51c",
   "metadata": {},
   "source": [
    "Juntando (1) y (2) nos queda:\n",
    "<p class=\"formulas\">$$ Ft=\\mu·A·\\left[ \\frac{u}{l_1}+\\frac{u}{l_2}\\right] $$ "
   ]
  },
  {
   "cell_type": "markdown",
   "id": "b74a71bc",
   "metadata": {},
   "source": [
    "Comprobamos unidades:\n",
    "<p class=\"formulas\"> $$  Ft(N\\Leftrightarrow\\frac{kg·m}{s^2})=\\mu(Pl\\Leftrightarrow\\frac{kg}{m·s})·A(m^2)·\\left[ \\frac{u}{l_1}+\\frac{u}{l_2}\\right](\\frac{m/s}{m}) $$"
   ]
  },
  {
   "cell_type": "code",
   "execution_count": 2,
   "id": "e1143b49",
   "metadata": {},
   "outputs": [
    {
     "data": {
      "application/vnd.jupyter.widget-view+json": {
       "model_id": "774e5a1a6a87409aa062dd943e72a58c",
       "version_major": 2,
       "version_minor": 0
      },
      "text/plain": [
       "BoundedFloatText(value=0.5, description='Area placa $A$ $[m^2]$', layout=Layout(width='45ex'), max=9999.0)"
      ]
     },
     "metadata": {},
     "output_type": "display_data"
    },
    {
     "data": {
      "application/vnd.jupyter.widget-view+json": {
       "model_id": "0fd569a63a1f44e0a1b31510852dea22",
       "version_major": 2,
       "version_minor": 0
      },
      "text/plain": [
       "BoundedFloatText(value=0.015, description='Viscosidad dinamica $\\\\mu $ $[Pl]$', layout=Layout(width='45ex'), m…"
      ]
     },
     "metadata": {},
     "output_type": "display_data"
    },
    {
     "data": {
      "application/vnd.jupyter.widget-view+json": {
       "model_id": "c455d82469674d4788c373f6c4fcc9df",
       "version_major": 2,
       "version_minor": 0
      },
      "text/plain": [
       "BoundedFloatText(value=0.2, description='Velocidad placa (cte) $u$ $[m/s]$', layout=Layout(width='45ex'), max=…"
      ]
     },
     "metadata": {},
     "output_type": "display_data"
    },
    {
     "data": {
      "application/vnd.jupyter.widget-view+json": {
       "model_id": "e1e3f70fd1304623b4bb1560a03fcec3",
       "version_major": 2,
       "version_minor": 0
      },
      "text/plain": [
       "BoundedFloatText(value=10.0, description='Distancia $l_1$ $[mm]$', layout=Layout(width='45ex'), max=32.0)"
      ]
     },
     "metadata": {},
     "output_type": "display_data"
    },
    {
     "data": {
      "text/html": [
       "\n",
       "<style>\n",
       "    .widget-label { width: 35ex !important;text-align:left !important; }    \n",
       "</style>"
      ],
      "text/plain": [
       "<IPython.core.display.HTML object>"
      ]
     },
     "metadata": {},
     "output_type": "display_data"
    }
   ],
   "source": [
    "from ipywidgets import interact, interactive, Checkbox, VBox\n",
    "from IPython.display import HTML, display\n",
    "import ipywidgets as widgets\n",
    "import math\n",
    "\n",
    "A_placa = widgets.BoundedFloatText(\n",
    "    value=0.5,\n",
    "    layout=widgets.Layout(width=\"45ex\"),\n",
    "    description='Area placa $A$ $[m^2]$',\n",
    "    disabled=False,\n",
    "    min=0, max=9999,\n",
    ")\n",
    "vis_dinam = widgets.BoundedFloatText(\n",
    "    value=0.015,\n",
    "    layout=widgets.Layout(width=\"45ex\"),\n",
    "    description='Viscosidad dinamica $\\\\mu $ $[Pl]$',\n",
    "    disabled=False,\n",
    "    min=0, max=99,)\n",
    "\n",
    "vel_placa = widgets.BoundedFloatText(\n",
    "    value=0.2,\n",
    "    layout=widgets.Layout(width=\"45ex\"),\n",
    "    description='Velocidad placa (cte) $u$ $[m/s]$',\n",
    "    disabled=False,\n",
    "    min=0, max=99,\n",
    ")\n",
    "l1_placa = widgets.BoundedFloatText(\n",
    "    value=10,\n",
    "    layout=widgets.Layout(width=\"45ex\"),\n",
    "    description='Distancia $l_1$ $[mm]$',\n",
    "    disabled=False,\n",
    "    min=0, max=32,)\n",
    "\n",
    "display(A_placa)\n",
    "display(vis_dinam)\n",
    "display(vel_placa)\n",
    "display(l1_placa)\n",
    "\n",
    "display(HTML('''\n",
    "<style>\n",
    "    .widget-label { width: 35ex !important;text-align:left !important; }    \n",
    "</style>'''))"
   ]
  },
  {
   "cell_type": "code",
   "execution_count": 3,
   "id": "f7656133",
   "metadata": {},
   "outputs": [
    {
     "data": {
      "text/html": [
       "\n",
       "<button onclick=\"ejecutar(10,15)\">Calcular</button>\n",
       "<button onclick=\"ejecutar(8,9)\">Reiniciar variables</button>\n",
       "<script>function ejecutar(desde, hasta){\n",
       "    for(i = desde; i < hasta; i++)\n",
       "Jupyter.notebook.execute_cells([i])    \n",
       "}</script>"
      ],
      "text/plain": [
       "<IPython.core.display.HTML object>"
      ]
     },
     "execution_count": 3,
     "metadata": {},
     "output_type": "execute_result"
    }
   ],
   "source": [
    "from IPython.display import HTML\n",
    "HTML('''\n",
    "<button onclick=\"ejecutar(10,15)\">Calcular</button>\n",
    "<button onclick=\"ejecutar(8,9)\">Reiniciar variables</button>\n",
    "<script>function ejecutar(desde, hasta){\n",
    "    for(i = desde; i < hasta; i++)\n",
    "Jupyter.notebook.execute_cells([i])    \n",
    "}</script>''')"
   ]
  },
  {
   "cell_type": "code",
   "execution_count": 4,
   "id": "e9a77225",
   "metadata": {},
   "outputs": [
    {
     "data": {
      "text/html": [
       "$$ Ft= 0.015·0.50·\\left[\\frac{0.2}{0.010}+\\frac{0.2}{0.022}\\right] =0.218\\ N = \\fbox{ 0.0218 $daN$ } $$"
      ],
      "text/plain": [
       "<IPython.core.display.HTML object>"
      ]
     },
     "metadata": {},
     "output_type": "display_data"
    }
   ],
   "source": [
    "import math\n",
    "from IPython.display import HTML, display, Latex\n",
    "from IPython.display import Markdown as md\n",
    "\n",
    "l_tot=32\n",
    "l2=l_tot-l1_placa.value\n",
    "l1_m=l1_placa.value*10**(-3)\n",
    "l2_m=l2*10**(-3)\n",
    "\n",
    "Ft=vis_dinam.value*A_placa.value*((vel_placa.value/l1_m)+(vel_placa.value/l2_m))\n",
    "Ft_dan=Ft*0.1\n",
    "\n",
    "display(HTML(f'$$ Ft= {vis_dinam.value}·{A_placa.value:.2f}·\\\\left[\\\\frac{{{vel_placa.value}}}{{{l1_m:.3f}}}+\\\\frac{{{vel_placa.value}}}{{{l2_m:.3f}}}\\\\right] ={Ft:.3}\\\\ N = \\\\fbox{{ {Ft_dan:.4f} $daN$ }} $$'))\n"
   ]
  },
  {
   "cell_type": "code",
   "execution_count": 5,
   "id": "c82bf8a8",
   "metadata": {},
   "outputs": [
    {
     "data": {
      "text/html": [
       "\n",
       "\n",
       "</script>\n",
       "<button onclick=\"confirmar() ; toggle()\" class=\"button-85\" id=\"boton2\"> Mostrar código </button>\n",
       "\n"
      ],
      "text/plain": [
       "<IPython.core.display.HTML object>"
      ]
     },
     "execution_count": 5,
     "metadata": {},
     "output_type": "execute_result"
    }
   ],
   "source": [
    "from IPython.display import HTML,Javascript\n",
    "\n",
    "HTML('''\n",
    "\n",
    "</script>\n",
    "<button onclick=\"confirmar() ; toggle()\" class=\"button-85\" id=\"boton2\"> Mostrar código </button>\n",
    "\n",
    "''')"
   ]
  },
  {
   "cell_type": "markdown",
   "id": "cad3e9b0",
   "metadata": {},
   "source": [
    "<h2>b) Potencia disipada en watios.</h2>"
   ]
  },
  {
   "cell_type": "markdown",
   "id": "aee7fe1a",
   "metadata": {},
   "source": [
    "La formula de la Potencia disipada por el liquido es:\n",
    "\n",
    "<p class=\"formulas\"> $$ Pot \\  (W)=Ft \\ (N)·u \\ (m/s)$$"
   ]
  },
  {
   "cell_type": "code",
   "execution_count": 6,
   "id": "7e932819",
   "metadata": {},
   "outputs": [
    {
     "data": {
      "text/html": [
       " $$ Pot=0.2182·0.2= \\fbox {0.0436 W }$$"
      ],
      "text/plain": [
       "<IPython.core.display.HTML object>"
      ]
     },
     "metadata": {},
     "output_type": "display_data"
    }
   ],
   "source": [
    "import math\n",
    "from IPython.display import HTML, display, Latex\n",
    "from IPython.display import Markdown as md\n",
    "\n",
    "Pot=Ft*vel_placa.value\n",
    "\n",
    "\n",
    "display(HTML(f' $$ Pot={Ft:.4f}·{vel_placa.value}= \\\\fbox {{{Pot:.4f} W }}$$'))\n"
   ]
  },
  {
   "cell_type": "code",
   "execution_count": 7,
   "id": "85705068",
   "metadata": {},
   "outputs": [
    {
     "data": {
      "text/html": [
       "\n",
       "\n",
       "</script>\n",
       "<button onclick=\"confirmar() ; toggle()\" class=\"button-85\" id=\"boton2\"> Mostrar código </button>\n",
       "\n"
      ],
      "text/plain": [
       "<IPython.core.display.HTML object>"
      ]
     },
     "execution_count": 7,
     "metadata": {},
     "output_type": "execute_result"
    }
   ],
   "source": [
    "from IPython.display import HTML,Javascript\n",
    "\n",
    "HTML('''\n",
    "\n",
    "</script>\n",
    "<button onclick=\"confirmar() ; toggle()\" class=\"button-85\" id=\"boton2\"> Mostrar código </button>\n",
    "\n",
    "''')"
   ]
  },
  {
   "cell_type": "markdown",
   "id": "7708a20a",
   "metadata": {},
   "source": [
    "[Volver al enunciado.](#top)"
   ]
  },
  {
   "cell_type": "code",
   "execution_count": 8,
   "id": "87271c30",
   "metadata": {},
   "outputs": [
    {
     "data": {
      "text/html": [
       "\n",
       "<script>\n",
       "window.location=\"EJERCICIO_2.0_Viscosidad.ipynb#top\";\n",
       "</script>"
      ],
      "text/plain": [
       "<IPython.core.display.HTML object>"
      ]
     },
     "execution_count": 8,
     "metadata": {},
     "output_type": "execute_result"
    }
   ],
   "source": [
    "from IPython.display import HTML\n",
    "HTML('''\n",
    "<script>\n",
    "window.location=\"EJERCICIO_2.0_Viscosidad.ipynb#top\";\n",
    "</script>''')\n"
   ]
  }
 ],
 "metadata": {
  "kernelspec": {
   "display_name": "Python 3 (ipykernel)",
   "language": "python",
   "name": "python3"
  },
  "language_info": {
   "codemirror_mode": {
    "name": "ipython",
    "version": 3
   },
   "file_extension": ".py",
   "mimetype": "text/x-python",
   "name": "python",
   "nbconvert_exporter": "python",
   "pygments_lexer": "ipython3",
   "version": "3.9.12"
  }
 },
 "nbformat": 4,
 "nbformat_minor": 5
}
